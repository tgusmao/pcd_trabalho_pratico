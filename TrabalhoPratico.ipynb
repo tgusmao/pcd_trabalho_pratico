{
  "nbformat": 4,
  "nbformat_minor": 0,
  "metadata": {
    "colab": {
      "name": "TrabalhoPratico.ipynb",
      "provenance": [],
      "collapsed_sections": [
        "KJPQWTJUYi86"
      ],
      "toc_visible": true,
      "include_colab_link": true
    },
    "kernelspec": {
      "name": "python3",
      "display_name": "Python 3"
    }
  },
  "cells": [
    {
      "cell_type": "markdown",
      "metadata": {
        "id": "view-in-github",
        "colab_type": "text"
      },
      "source": [
        "<a href=\"https://colab.research.google.com/github/tgusmao/programacao_ds/blob/master/TrabalhoPratico.ipynb\" target=\"_parent\"><img src=\"https://colab.research.google.com/assets/colab-badge.svg\" alt=\"Open In Colab\"/></a>"
      ]
    },
    {
      "cell_type": "markdown",
      "metadata": {
        "id": "KxvNKP0DGdVo"
      },
      "source": [
        "# **Trabalho Prático de Programação para Ciências de Dados**"
      ]
    },
    {
      "cell_type": "markdown",
      "metadata": {
        "id": "eBEzEafyyx_R"
      },
      "source": [
        "Dupla: \n",
        "*   Tammy Hikari Yanai Gusmão\n",
        "*   Thalita Naiara Andre Alves\n",
        "\n",
        "\n",
        "Trabalho Prático para obtenção de nota na disciplina de Programação para Ciências de Dados - Turma 1 de 2020."
      ]
    },
    {
      "cell_type": "markdown",
      "metadata": {
        "id": "Gyy3wIioGZ-2"
      },
      "source": [
        "# To Do\n",
        "\n",
        "\n",
        "# Done\n",
        "\n"
      ]
    },
    {
      "cell_type": "markdown",
      "metadata": {
        "id": "1nm1WqMqp99i"
      },
      "source": [
        "##Importação da Base de Dados"
      ]
    },
    {
      "cell_type": "code",
      "metadata": {
        "id": "Fzyt46Tzpsev"
      },
      "source": [
        "!pip install googletrans\n",
        "!pip install langdetect"
      ],
      "execution_count": null,
      "outputs": []
    },
    {
      "cell_type": "code",
      "metadata": {
        "id": "Xu430E4N6lt6"
      },
      "source": [
        "import pandas as pd\n",
        "import numpy as np\n",
        "import matplotlib.pyplot as plt\n",
        "import matplotlib.colors as pltc\n",
        "from random import sample\n",
        "import string\n",
        "import re\n",
        "# from googletrans import Translator\n",
        "# from langdetect import detect\n",
        "from textblob import TextBlob\n",
        "import time\n",
        "from collections import Counter\n",
        "import nltk"
      ],
      "execution_count": null,
      "outputs": []
    },
    {
      "cell_type": "markdown",
      "metadata": {
        "id": "WLFvYC1LMdiP"
      },
      "source": [
        "Iniciando abaixo a leitura do arquivo CSV local (localizado no Google Drive)"
      ]
    },
    {
      "cell_type": "code",
      "metadata": {
        "id": "4xNXtQqqlT0p",
        "outputId": "2b7f187f-0e39-4da9-c18d-a981cc7a97bd",
        "colab": {
          "base_uri": "https://localhost:8080/",
          "height": 34
        }
      },
      "source": [
        "from google.colab import drive\n",
        "drive.mount('/content/drive')"
      ],
      "execution_count": null,
      "outputs": [
        {
          "output_type": "stream",
          "text": [
            "Mounted at /content/drive\n"
          ],
          "name": "stdout"
        }
      ]
    },
    {
      "cell_type": "code",
      "metadata": {
        "id": "hh5J92U3V3tj"
      },
      "source": [
        "df_original = pd.read_csv('/content/drive/Shared drives/trabalhoPratico_programacaoDS/dados-curso-completo.csv', sep = ',', skiprows = 0, encoding = 'utf-8')"
      ],
      "execution_count": null,
      "outputs": []
    },
    {
      "cell_type": "code",
      "metadata": {
        "id": "9H-XIRhkz1Mc"
      },
      "source": [
        "#cópia da base original\n",
        "df_copia_original = df_original.copy()"
      ],
      "execution_count": null,
      "outputs": []
    },
    {
      "cell_type": "markdown",
      "metadata": {
        "id": "KJPQWTJUYi86"
      },
      "source": [
        "##Resumo do dataset original\n",
        "\n"
      ]
    },
    {
      "cell_type": "markdown",
      "metadata": {
        "id": "Cb9irjg20UCE"
      },
      "source": [
        "A base de dados contém informações sobre tuítes sobre a COVID-19, postados durante o primeiro semestre do ano de 2020. A base foi levemente pré-processada anteriormente pelo professor da disciplina.  "
      ]
    },
    {
      "cell_type": "code",
      "metadata": {
        "id": "Jz3vp2V-0W7d",
        "outputId": "5a5831ad-cf44-4b09-af33-49a4f903b25d",
        "colab": {
          "base_uri": "https://localhost:8080/",
          "height": 51
        }
      },
      "source": [
        "qntd_linhas = df_original.shape[0]\n",
        "qntd_colunas = df_original.shape[1]\n",
        "print('Quantidade de linhas: ', qntd_linhas)\n",
        "print('Quantidade de colunas: ', qntd_colunas)"
      ],
      "execution_count": null,
      "outputs": [
        {
          "output_type": "stream",
          "text": [
            "Quantidade de linhas:  1658825\n",
            "Quantidade de colunas:  13\n"
          ],
          "name": "stdout"
        }
      ]
    },
    {
      "cell_type": "markdown",
      "metadata": {
        "id": "1CqY9eC70yXY"
      },
      "source": [
        "Como pode ser visto acima, o atributo *shape* retornou uma tupla contendo a quantidade de linhas e colunas que constituem a base: 1.658.825 linhas e 13 colunas. \n",
        "\n",
        "Abaixo temos a lista dos nomes das colunas existentes:"
      ]
    },
    {
      "cell_type": "code",
      "metadata": {
        "id": "IL-uTjIP024C",
        "outputId": "7a7dc311-1cad-45c1-e033-277439c0bfe3",
        "colab": {
          "base_uri": "https://localhost:8080/",
          "height": 238
        }
      },
      "source": [
        "for col in df_original.columns:\n",
        "  print(col)"
      ],
      "execution_count": null,
      "outputs": [
        {
          "output_type": "stream",
          "text": [
            "data\n",
            "usuario\n",
            "apelido\n",
            "texto\n",
            "retweet\n",
            "seguidores\n",
            "idioma\n",
            "lugar\n",
            "pais\n",
            "sigla\n",
            "latitude\n",
            "longitude\n",
            "hashtags\n"
          ],
          "name": "stdout"
        }
      ]
    },
    {
      "cell_type": "markdown",
      "metadata": {
        "id": "Vv7Ozr7DBUmQ"
      },
      "source": [
        "Como pode ser observado abaixo, os tipos de variáveis que consistem o dataframe são *object*, *int64* e *float64*. As colunas com tipo *object* são aquelas com dados textuais. As colunas com tipo *int64* são as que contém dados quantitativos. As de tipo *float64* contém dados de números quebrados. "
      ]
    },
    {
      "cell_type": "code",
      "metadata": {
        "id": "BxC551PL_ABb",
        "outputId": "222c83e5-e9d3-4a3b-9093-c83499a9ac29",
        "colab": {
          "base_uri": "https://localhost:8080/",
          "height": 255
        }
      },
      "source": [
        "df_original.dtypes"
      ],
      "execution_count": null,
      "outputs": [
        {
          "output_type": "execute_result",
          "data": {
            "text/plain": [
              "data           object\n",
              "usuario        object\n",
              "apelido        object\n",
              "texto          object\n",
              "retweet         int64\n",
              "seguidores      int64\n",
              "idioma         object\n",
              "lugar          object\n",
              "pais           object\n",
              "sigla          object\n",
              "latitude      float64\n",
              "longitude     float64\n",
              "hashtags       object\n",
              "dtype: object"
            ]
          },
          "metadata": {
            "tags": []
          },
          "execution_count": 37
        }
      ]
    },
    {
      "cell_type": "code",
      "metadata": {
        "id": "3Z8tvFH5mk-9",
        "outputId": "b947e08b-4d76-4404-a187-ba320c48ce4f",
        "colab": {
          "base_uri": "https://localhost:8080/",
          "height": 255
        }
      },
      "source": [
        "df_original.isnull().sum()"
      ],
      "execution_count": null,
      "outputs": [
        {
          "output_type": "execute_result",
          "data": {
            "text/plain": [
              "data                0\n",
              "usuario            57\n",
              "apelido             0\n",
              "texto               0\n",
              "retweet             0\n",
              "seguidores          0\n",
              "idioma              0\n",
              "lugar         1584220\n",
              "pais          1584225\n",
              "sigla         1584230\n",
              "latitude      1650105\n",
              "longitude     1650105\n",
              "hashtags            0\n",
              "dtype: int64"
            ]
          },
          "metadata": {
            "tags": []
          },
          "execution_count": 38
        }
      ]
    },
    {
      "cell_type": "markdown",
      "metadata": {
        "id": "NjpTBvorDHXe"
      },
      "source": [
        "Levando em consideração o achado acima, faz-se necessário o preenchimento apropriado para eliminar os espaços vazios presentes no dataset. Esta atividade é realizada na seção seguinte (Tratamento de Dados).\n",
        "\n",
        "Para uma perspectiva visual da característica quantitativa dos atributos, foram plotados os gráficos a seguir:\n"
      ]
    },
    {
      "cell_type": "code",
      "metadata": {
        "id": "yyyC_Q_rP7uX"
      },
      "source": [
        "#Arrays com as quantidades de células não nulas e nulas, respectivamente, \n",
        "#de cada coluna que apresenta valores nulos\n",
        "qntd_naonulos = [df_original.usuario.notnull().sum(),df_original.sigla.notnull().sum(),df_original.lugar.notnull().sum(),\n",
        "           df_original.pais.notnull().sum(), df_original.latitude.notnull().sum(), \n",
        "           df_original.longitude.notnull().sum()]\n",
        "\n",
        "qntd_nulos = [df_original.usuario.isnull().sum(), df_original.sigla.isnull().sum(), df_original.lugar.isnull().sum(),\n",
        "                 df_original.pais.isnull().sum(), df_original.latitude.isnull().sum(), \n",
        "                 df_original.longitude.isnull().sum()]\n",
        "\n",
        "#Array com labels para os gráficos a seguir\n",
        "labels_valores_ausentes = ['Usuário', 'Sigla', 'Lugar', 'País', 'Latitude', 'Longitude']"
      ],
      "execution_count": null,
      "outputs": []
    },
    {
      "cell_type": "code",
      "metadata": {
        "id": "hR1V84Q8P9f4",
        "outputId": "b6675fcd-b071-4b79-a543-cc28f8bdbf42",
        "colab": {
          "base_uri": "https://localhost:8080/",
          "height": 281
        }
      },
      "source": [
        "# Range com a quantidade de itens das barras\n",
        "x_pos = np.arange(len(qntd_naonulos))\n",
        "\n",
        "first_bar = plt.bar(x_pos, qntd_naonulos, 0.5, color='b')\n",
        "second_bar = plt.bar(x_pos, qntd_nulos, 0.5, color='y', bottom=qntd_naonulos)\n",
        "\n",
        "# Definir posição e labels no eixo X\n",
        "plt.xticks(x_pos+0.25, (labels_valores_ausentes))\n",
        "\n",
        "plt.title(\"Perspectiva Quantitativa: Nulos x Não-nulos\")\n",
        "plt.savefig('qntd_nulos_naoNulos_barchar.png')\n",
        "plt.legend(['Não Nulos', 'Nulos'],loc=5)\n",
        "plt.show()"
      ],
      "execution_count": null,
      "outputs": [
        {
          "output_type": "display_data",
          "data": {
            "image/png": "[encoded data removed]",
            "text/plain": [
              "<Figure size 432x288 with 1 Axes>"
            ]
          },
          "metadata": {
            "tags": [],
            "needs_background": "light"
          }
        }
      ]
    },
    {
      "cell_type": "markdown",
      "metadata": {
        "id": "8MchyP7kUCXR"
      },
      "source": [
        "No que diz respeito à coluna *usuario*, sabe-se que existem 57 linhas que possuem valores. Por conta da grande quantidade de casos existentes (acima de 1 milhão), não é possível ver a barra inferior que contabiliza o total de nulos da coluna. \n",
        "\n",
        "Ademais, nota-se que: as quantidades para *sigla*, *lugar* e '*pais* são semelhantes; e que a base de casos possui pouquíssimas lacunas preenchidas com valores de latitude e longitude. \n",
        "\n",
        "Abaixo podemos observar a quantidade em porcentagem para as colunas que apresentam valores nulos. "
      ]
    },
    {
      "cell_type": "code",
      "metadata": {
        "id": "cLBvK3FqLoBF"
      },
      "source": [
        "#Gerador de cores aleatórias para os gráficos.\n",
        "todas_as_cores = [k for k,v in pltc.cnames.items()]\n",
        "fracs = np.array([600, 179, 154, 139, 126, 1185])\n",
        "\n",
        "def gerar_cores_aleatorias():\n",
        "  return sample(todas_as_cores, len(fracs))"
      ],
      "execution_count": null,
      "outputs": []
    },
    {
      "cell_type": "code",
      "metadata": {
        "id": "ZvVm5J8jA9o2",
        "outputId": "2236a11b-c93c-4dbf-bef1-04af74ec6828",
        "colab": {
          "base_uri": "https://localhost:8080/",
          "height": 264
        }
      },
      "source": [
        "# Criação da figure com uma linha e duas colunas. Figsize define o tamanho da figure\n",
        "fig, eixos = plt.subplots(nrows=1, ncols=2, figsize=(8,4))\n",
        "\n",
        "cores_aleatorias = gerar_cores_aleatorias()\n",
        "\n",
        "# Cria o gráfico de pizza na primeira posição com as configurações definidas\n",
        "pie_1 = eixos[0].pie(qntd_nulos, labels=labels_valores_ausentes,\n",
        "                    autopct='%1.1f%%', colors=cores_aleatorias)\n",
        "\n",
        "# Define o título deste gráfico\n",
        "eixos[0].set_title('Porcentagem de Valores Nulos')\n",
        "# Deixa os dois eixos iguais, fazendo com que o gráfico mantenha-se redondo\n",
        "eixos[0].axis('equal')\n",
        "\n",
        "# Idem a acima, para o segundo gráfico de pizza\n",
        "pie_2 = eixos[1].pie(qntd_naonulos, labels=labels_valores_ausentes,\n",
        "                    autopct='%1.1f%%', startangle=180, colors=cores_aleatorias)\n",
        "eixos[1].set_title('Porcentagem de Valores Não-nulos')\n",
        "plt.axis('equal')\n",
        "\n",
        "# Ajusta o espaço entre os dois gráficos\n",
        "plt.subplots_adjust(wspace=1)\n",
        "plt.savefig('qntd_nulos_naoNulos_piechar.png')\n",
        "plt.legend(loc='lower left')\n",
        "plt.show()"
      ],
      "execution_count": null,
      "outputs": [
        {
          "output_type": "display_data",
          "data": {
            "image/png": "[encoded data removed]",
            "text/plain": [
              "<Figure size 576x288 with 2 Axes>"
            ]
          },
          "metadata": {
            "tags": []
          }
        }
      ]
    },
    {
      "cell_type": "markdown",
      "metadata": {
        "id": "d-76Mohdbojn"
      },
      "source": [
        "*idioma*, *sigla*, *pais* e *lugar* são atributos categróricos, isto é, caracterizam o tweet e/ou o usuário que postou o tweet. Como não houve restrição na coleta dedados quanto a localização e idioma, o dataset possui tweets do mundo todo como pode ser observado nas estatísticas abaixo, que apresentam os dez primeiros itens com maiores ocorrências:"
      ]
    },
    {
      "cell_type": "code",
      "metadata": {
        "id": "9azFlnrogSfx"
      },
      "source": [
        "#Aquisição de lista de siglas dos idiomas e a quantidade de suas ocorrências\n",
        "l_idiomas = df_original['idioma'].value_counts().to_frame()\n",
        "l_idiomas = l_idiomas.rename(columns = {'idioma':'qntd_idioma'})\n",
        "l_idiomas['porcentagem'] = round(((l_idiomas['qntd_idioma'] * 100)/df_original.shape[0]), 2)\n",
        "l_idiomas['sigla_idioma'] = l_idiomas.index\n",
        "l_idiomas.reset_index(drop=True, inplace=True)\n",
        "l_idiomas = l_idiomas[['sigla_idioma','qntd_idioma','porcentagem']]\n",
        "\n",
        "#Aquisição de lista de siglas dos países e a quantidade de suas ocorrências\n",
        "l_siglas = df_original['sigla'].value_counts().to_frame()\n",
        "l_siglas = l_siglas.rename(columns = {'sigla':'qntd_sigla'})\n",
        "l_siglas['porcentagem'] = round(((l_siglas['qntd_sigla'] * 100)/df_original.shape[0]), 2)\n",
        "l_siglas['sigla'] = l_siglas.index\n",
        "l_siglas.reset_index(drop=True, inplace=True)\n",
        "l_siglas = l_siglas[['sigla','qntd_sigla','porcentagem']]\n",
        "\n",
        "#Aquisição de lista de nomes de países e a quantidade de suas ocorrências\n",
        "l_paises = df_original['pais'].value_counts().to_frame()\n",
        "l_paises = l_paises.rename(columns = {'pais':'qntd_pais'})\n",
        "l_paises['porcentagem'] = round(((l_paises['qntd_pais'] * 100)/df_original.shape[0]), 2)\n",
        "l_paises['pais'] = l_paises.index\n",
        "l_paises.reset_index(drop=True, inplace=True)\n",
        "l_paises = l_paises[['pais','qntd_pais','porcentagem']]\n",
        "\n",
        "#Aquisição de lista de nomes dos lugares e a quantidade de suas ocorrências\n",
        "#A lista foi delimitada para os lugares (identificados) com mais postagens\n",
        "#Casos com valores nulos não foram considerados\n",
        "l_lugares = df_original['lugar'].value_counts().to_frame()\n",
        "l_lugares = l_lugares.rename(columns = {'lugar':'qntd_lugar'})\n",
        "l_lugares['porcentagem'] = round(((l_lugares['qntd_lugar'] * 100)/df_original.shape[0]), 2)\n",
        "l_lugares['lugar'] = l_lugares.index\n",
        "l_lugares.reset_index(drop=True, inplace=True)\n",
        "l_lugares = l_lugares[['lugar','qntd_lugar','porcentagem']]"
      ],
      "execution_count": null,
      "outputs": []
    },
    {
      "cell_type": "code",
      "metadata": {
        "id": "iY--PaDCwxKR"
      },
      "source": [
        "#Redução das listas geradas acima - organização por grupos de porcentagem\n",
        "\n",
        "#Agrupamentos de porcentagens em idiomas\n",
        "l_idiomas_resumido = l_idiomas['porcentagem'].value_counts().to_frame()\n",
        "l_idiomas_resumido = l_idiomas_resumido.rename(columns = {'porcentagem':'qntd'})\n",
        "l_idiomas_resumido['porcentagem'] = l_idiomas_resumido.index\n",
        "l_idiomas_resumido.reset_index(drop=True, inplace=True)\n",
        "\n",
        "#Agrupamentos de porcentagens em siglas\n",
        "l_siglas_resumido = l_siglas['porcentagem'].value_counts().to_frame()\n",
        "l_siglas_resumido = l_siglas_resumido.rename(columns = {'porcentagem':'qntd'})\n",
        "l_siglas_resumido['porcentagem'] = l_siglas_resumido.index\n",
        "l_siglas_resumido.reset_index(drop=True, inplace=True)\n",
        "\n",
        "#Agrupamentos de porcentagens em países\n",
        "l_paises_resumido = l_paises['porcentagem'].value_counts().to_frame()\n",
        "l_paises_resumido = l_paises_resumido.rename(columns = {'porcentagem':'qntd'})\n",
        "l_paises_resumido['porcentagem'] = l_paises_resumido.index\n",
        "l_paises_resumido.reset_index(drop=True, inplace=True)\n",
        "\n",
        "#Agrupamentos de porcentagens em lugares\n",
        "l_lugares_resumido = l_lugares['porcentagem'].value_counts().to_frame()\n",
        "l_lugares_resumido = l_lugares_resumido.rename(columns = {'porcentagem':'qntd'})\n",
        "l_lugares_resumido['porcentagem'] = l_lugares_resumido.index\n",
        "l_lugares_resumido.reset_index(drop=True, inplace=True)"
      ],
      "execution_count": null,
      "outputs": []
    },
    {
      "cell_type": "code",
      "metadata": {
        "id": "KLJK6VgQoInw"
      },
      "source": [
        "def agruparPorPorcentagens(df, df_geral, nome_coluna): \n",
        "  #df = o df reduzido\n",
        "  #df_geral = o l_<nome da coluna no plural>\n",
        "  #nome_coluna = nome da coluna de siglas/países/lugares\n",
        "\n",
        "  titulos_agrupados = []\n",
        "\n",
        "  for index, row in df.iterrows():\n",
        "    string_concat = ''\n",
        "    #define condição de busca para ser aplicada no dataframe genérico\n",
        "    condicao = df_geral['porcentagem'] == row['porcentagem']\n",
        "    lista = df_geral[condicao]\n",
        "\n",
        "    for i, j in lista.iterrows():\n",
        "      if (len(string_concat) > 0):\n",
        "        string_concat = string_concat + ', ' + j[nome_coluna]\n",
        "      else:\n",
        "        string_concat = string_concat + j[nome_coluna]\n",
        "    \n",
        "    titulos_agrupados.append(string_concat)\n",
        "\n",
        "  return titulos_agrupados"
      ],
      "execution_count": null,
      "outputs": []
    },
    {
      "cell_type": "code",
      "metadata": {
        "id": "XCIqyhIgn1Sw",
        "outputId": "77e192e7-8a5b-47ef-ec99-07e9934de4a6",
        "colab": {
          "base_uri": "https://localhost:8080/",
          "height": 605
        }
      },
      "source": [
        "print(\"Quantidade de siglas idiomáticas únicas: \", len(l_idiomas))\n",
        "print('Relação de grupos de porcentagens para Idiomas:')\n",
        "l_idiomas_resumido['grupos_idiomas'] = agruparPorPorcentagens(l_idiomas_resumido, l_idiomas, 'sigla_idioma')\n",
        "l_idiomas_resumido[['grupos_idiomas', 'porcentagem', 'qntd']].sort_values(by='porcentagem', ascending=False)"
      ],
      "execution_count": null,
      "outputs": [
        {
          "output_type": "stream",
          "text": [
            "Quantidade de siglas idiomáticas únicas:  59\n",
            "Relação de grupos de porcentagens para Idiomas:\n"
          ],
          "name": "stdout"
        },
        {
          "output_type": "execute_result",
          "data": {
            "text/html": [
              "<div>\n",
              "<style scoped>\n",
              "    .dataframe tbody tr th:only-of-type {\n",
              "        vertical-align: middle;\n",
              "    }\n",
              "\n",
              "    .dataframe tbody tr th {\n",
              "        vertical-align: top;\n",
              "    }\n",
              "\n",
              "    .dataframe thead th {\n",
              "        text-align: right;\n",
              "    }\n",
              "</style>\n",
              "<table border=\"1\" class=\"dataframe\">\n",
              "  <thead>\n",
              "    <tr style=\"text-align: right;\">\n",
              "      <th></th>\n",
              "      <th>grupos_idiomas</th>\n",
              "      <th>porcentagem</th>\n",
              "      <th>qntd</th>\n",
              "    </tr>\n",
              "  </thead>\n",
              "  <tbody>\n",
              "    <tr>\n",
              "      <th>10</th>\n",
              "      <td>pt</td>\n",
              "      <td>95.66</td>\n",
              "      <td>1</td>\n",
              "    </tr>\n",
              "    <tr>\n",
              "      <th>14</th>\n",
              "      <td>en</td>\n",
              "      <td>1.45</td>\n",
              "      <td>1</td>\n",
              "    </tr>\n",
              "    <tr>\n",
              "      <th>6</th>\n",
              "      <td>es</td>\n",
              "      <td>0.86</td>\n",
              "      <td>1</td>\n",
              "    </tr>\n",
              "    <tr>\n",
              "      <th>12</th>\n",
              "      <td>it</td>\n",
              "      <td>0.39</td>\n",
              "      <td>1</td>\n",
              "    </tr>\n",
              "    <tr>\n",
              "      <th>5</th>\n",
              "      <td>und</td>\n",
              "      <td>0.34</td>\n",
              "      <td>1</td>\n",
              "    </tr>\n",
              "    <tr>\n",
              "      <th>15</th>\n",
              "      <td>ar</td>\n",
              "      <td>0.28</td>\n",
              "      <td>1</td>\n",
              "    </tr>\n",
              "    <tr>\n",
              "      <th>4</th>\n",
              "      <td>fr</td>\n",
              "      <td>0.22</td>\n",
              "      <td>1</td>\n",
              "    </tr>\n",
              "    <tr>\n",
              "      <th>7</th>\n",
              "      <td>ca</td>\n",
              "      <td>0.16</td>\n",
              "      <td>1</td>\n",
              "    </tr>\n",
              "    <tr>\n",
              "      <th>13</th>\n",
              "      <td>tr</td>\n",
              "      <td>0.14</td>\n",
              "      <td>1</td>\n",
              "    </tr>\n",
              "    <tr>\n",
              "      <th>8</th>\n",
              "      <td>ja</td>\n",
              "      <td>0.12</td>\n",
              "      <td>1</td>\n",
              "    </tr>\n",
              "    <tr>\n",
              "      <th>11</th>\n",
              "      <td>in</td>\n",
              "      <td>0.06</td>\n",
              "      <td>1</td>\n",
              "    </tr>\n",
              "    <tr>\n",
              "      <th>16</th>\n",
              "      <td>th</td>\n",
              "      <td>0.05</td>\n",
              "      <td>1</td>\n",
              "    </tr>\n",
              "    <tr>\n",
              "      <th>9</th>\n",
              "      <td>tl</td>\n",
              "      <td>0.04</td>\n",
              "      <td>1</td>\n",
              "    </tr>\n",
              "    <tr>\n",
              "      <th>3</th>\n",
              "      <td>ko, hi, ru</td>\n",
              "      <td>0.03</td>\n",
              "      <td>3</td>\n",
              "    </tr>\n",
              "    <tr>\n",
              "      <th>2</th>\n",
              "      <td>de, pl, fa</td>\n",
              "      <td>0.02</td>\n",
              "      <td>3</td>\n",
              "    </tr>\n",
              "    <tr>\n",
              "      <th>1</th>\n",
              "      <td>nl, ur, ht, et, eu, el, lt, sv</td>\n",
              "      <td>0.01</td>\n",
              "      <td>8</td>\n",
              "    </tr>\n",
              "    <tr>\n",
              "      <th>0</th>\n",
              "      <td>cs, no, zh, da, ro, fi, cy, uk, iw, lv, ta, hu...</td>\n",
              "      <td>0.00</td>\n",
              "      <td>32</td>\n",
              "    </tr>\n",
              "  </tbody>\n",
              "</table>\n",
              "</div>"
            ],
            "text/plain": [
              "                                       grupos_idiomas  porcentagem  qntd\n",
              "10                                                 pt        95.66     1\n",
              "14                                                 en         1.45     1\n",
              "6                                                  es         0.86     1\n",
              "12                                                 it         0.39     1\n",
              "5                                                 und         0.34     1\n",
              "15                                                 ar         0.28     1\n",
              "4                                                  fr         0.22     1\n",
              "7                                                  ca         0.16     1\n",
              "13                                                 tr         0.14     1\n",
              "8                                                  ja         0.12     1\n",
              "11                                                 in         0.06     1\n",
              "16                                                 th         0.05     1\n",
              "9                                                  tl         0.04     1\n",
              "3                                          ko, hi, ru         0.03     3\n",
              "2                                          de, pl, fa         0.02     3\n",
              "1                      nl, ur, ht, et, eu, el, lt, sv         0.01     8\n",
              "0   cs, no, zh, da, ro, fi, cy, uk, iw, lv, ta, hu...         0.00    32"
            ]
          },
          "metadata": {
            "tags": []
          },
          "execution_count": 58
        }
      ]
    },
    {
      "cell_type": "code",
      "metadata": {
        "id": "uzEVj_GdxBeE",
        "outputId": "cebb7b7f-6757-4dd0-e0ab-d7c2d3501712",
        "colab": {
          "base_uri": "https://localhost:8080/",
          "height": 298
        }
      },
      "source": [
        "print(\"Quantidade de países únicos:\", len(l_paises))\n",
        "print('Relação de grupos de porcentagens para Países:')\n",
        "l_paises_resumido['grupos_paises'] = agruparPorPorcentagens(l_paises_resumido, l_paises, 'pais')\n",
        "l_paises_resumido[['grupos_paises', 'porcentagem', 'qntd']].sort_values(by='porcentagem', ascending=False)"
      ],
      "execution_count": null,
      "outputs": [
        {
          "output_type": "stream",
          "text": [
            "Quantidade de países únicos: 121\n",
            "Relação de grupos de porcentagens para Países:\n"
          ],
          "name": "stdout"
        },
        {
          "output_type": "execute_result",
          "data": {
            "text/html": [
              "<div>\n",
              "<style scoped>\n",
              "    .dataframe tbody tr th:only-of-type {\n",
              "        vertical-align: middle;\n",
              "    }\n",
              "\n",
              "    .dataframe tbody tr th {\n",
              "        vertical-align: top;\n",
              "    }\n",
              "\n",
              "    .dataframe thead th {\n",
              "        text-align: right;\n",
              "    }\n",
              "</style>\n",
              "<table border=\"1\" class=\"dataframe\">\n",
              "  <thead>\n",
              "    <tr style=\"text-align: right;\">\n",
              "      <th></th>\n",
              "      <th>grupos_paises</th>\n",
              "      <th>porcentagem</th>\n",
              "      <th>qntd</th>\n",
              "    </tr>\n",
              "  </thead>\n",
              "  <tbody>\n",
              "    <tr>\n",
              "      <th>4</th>\n",
              "      <td>Brazil</td>\n",
              "      <td>4.05</td>\n",
              "      <td>1</td>\n",
              "    </tr>\n",
              "    <tr>\n",
              "      <th>6</th>\n",
              "      <td>Portugal</td>\n",
              "      <td>0.16</td>\n",
              "      <td>1</td>\n",
              "    </tr>\n",
              "    <tr>\n",
              "      <th>5</th>\n",
              "      <td>United States</td>\n",
              "      <td>0.06</td>\n",
              "      <td>1</td>\n",
              "    </tr>\n",
              "    <tr>\n",
              "      <th>3</th>\n",
              "      <td>Italy</td>\n",
              "      <td>0.03</td>\n",
              "      <td>1</td>\n",
              "    </tr>\n",
              "    <tr>\n",
              "      <th>2</th>\n",
              "      <td>Spain, United Kingdom</td>\n",
              "      <td>0.02</td>\n",
              "      <td>2</td>\n",
              "    </tr>\n",
              "    <tr>\n",
              "      <th>1</th>\n",
              "      <td>France, Argentina, Republic of Mozambique, Can...</td>\n",
              "      <td>0.01</td>\n",
              "      <td>8</td>\n",
              "    </tr>\n",
              "    <tr>\n",
              "      <th>0</th>\n",
              "      <td>India, Mexico, Chile, Paraguay, Australia, Col...</td>\n",
              "      <td>0.00</td>\n",
              "      <td>107</td>\n",
              "    </tr>\n",
              "  </tbody>\n",
              "</table>\n",
              "</div>"
            ],
            "text/plain": [
              "                                       grupos_paises  porcentagem  qntd\n",
              "4                                             Brazil         4.05     1\n",
              "6                                           Portugal         0.16     1\n",
              "5                                      United States         0.06     1\n",
              "3                                              Italy         0.03     1\n",
              "2                              Spain, United Kingdom         0.02     2\n",
              "1  France, Argentina, Republic of Mozambique, Can...         0.01     8\n",
              "0  India, Mexico, Chile, Paraguay, Australia, Col...         0.00   107"
            ]
          },
          "metadata": {
            "tags": []
          },
          "execution_count": 61
        }
      ]
    },
    {
      "cell_type": "code",
      "metadata": {
        "id": "pinLDyq5dssx",
        "outputId": "efac57ad-96f2-4333-fa76-0a35431a0a09",
        "colab": {
          "base_uri": "https://localhost:8080/",
          "height": 298
        }
      },
      "source": [
        "print(\"Quantidade de siglas únicas:\", len(l_siglas))\n",
        "print('Relação de grupos de Siglas:')\n",
        "l_siglas_resumido['grupos_siglas'] = agruparPorPorcentagens(l_siglas_resumido, l_siglas, 'sigla')\n",
        "l_siglas_resumido[['grupos_siglas', 'porcentagem', 'qntd']].sort_values(by='porcentagem', ascending=False)"
      ],
      "execution_count": null,
      "outputs": [
        {
          "output_type": "stream",
          "text": [
            "Quantidade de siglas únicas: 120\n",
            "Relação de grupos de Siglas:\n"
          ],
          "name": "stdout"
        },
        {
          "output_type": "execute_result",
          "data": {
            "text/html": [
              "<div>\n",
              "<style scoped>\n",
              "    .dataframe tbody tr th:only-of-type {\n",
              "        vertical-align: middle;\n",
              "    }\n",
              "\n",
              "    .dataframe tbody tr th {\n",
              "        vertical-align: top;\n",
              "    }\n",
              "\n",
              "    .dataframe thead th {\n",
              "        text-align: right;\n",
              "    }\n",
              "</style>\n",
              "<table border=\"1\" class=\"dataframe\">\n",
              "  <thead>\n",
              "    <tr style=\"text-align: right;\">\n",
              "      <th></th>\n",
              "      <th>grupos_siglas</th>\n",
              "      <th>porcentagem</th>\n",
              "      <th>qntd</th>\n",
              "    </tr>\n",
              "  </thead>\n",
              "  <tbody>\n",
              "    <tr>\n",
              "      <th>4</th>\n",
              "      <td>BR</td>\n",
              "      <td>4.05</td>\n",
              "      <td>1</td>\n",
              "    </tr>\n",
              "    <tr>\n",
              "      <th>6</th>\n",
              "      <td>PT</td>\n",
              "      <td>0.16</td>\n",
              "      <td>1</td>\n",
              "    </tr>\n",
              "    <tr>\n",
              "      <th>5</th>\n",
              "      <td>US</td>\n",
              "      <td>0.06</td>\n",
              "      <td>1</td>\n",
              "    </tr>\n",
              "    <tr>\n",
              "      <th>3</th>\n",
              "      <td>IT</td>\n",
              "      <td>0.03</td>\n",
              "      <td>1</td>\n",
              "    </tr>\n",
              "    <tr>\n",
              "      <th>2</th>\n",
              "      <td>ES, GB</td>\n",
              "      <td>0.02</td>\n",
              "      <td>2</td>\n",
              "    </tr>\n",
              "    <tr>\n",
              "      <th>1</th>\n",
              "      <td>FR, AR, MZ, CA, IE, DE, JP, AO</td>\n",
              "      <td>0.01</td>\n",
              "      <td>8</td>\n",
              "    </tr>\n",
              "    <tr>\n",
              "      <th>0</th>\n",
              "      <td>IN, MX, CL, PY, AU, CO, CN, BE, NL, TR, CH, ZA...</td>\n",
              "      <td>0.00</td>\n",
              "      <td>106</td>\n",
              "    </tr>\n",
              "  </tbody>\n",
              "</table>\n",
              "</div>"
            ],
            "text/plain": [
              "                                       grupos_siglas  porcentagem  qntd\n",
              "4                                                 BR         4.05     1\n",
              "6                                                 PT         0.16     1\n",
              "5                                                 US         0.06     1\n",
              "3                                                 IT         0.03     1\n",
              "2                                             ES, GB         0.02     2\n",
              "1                     FR, AR, MZ, CA, IE, DE, JP, AO         0.01     8\n",
              "0  IN, MX, CL, PY, AU, CO, CN, BE, NL, TR, CH, ZA...         0.00   106"
            ]
          },
          "metadata": {
            "tags": []
          },
          "execution_count": 62
        }
      ]
    },
    {
      "cell_type": "code",
      "metadata": {
        "id": "3t9tHfKFxFrw",
        "outputId": "3ec6f834-e32f-484e-a474-ef078e86b2d8",
        "colab": {
          "base_uri": "https://localhost:8080/",
          "height": 513
        }
      },
      "source": [
        "print(\"Quantidade de lugares únicos:\", len(l_lugares))\n",
        "print('Relação de grupos de Lugares:')\n",
        "l_lugares_resumido['grupos_lugares'] = agruparPorPorcentagens(l_lugares_resumido, l_lugares, 'lugar')\n",
        "l_lugares_resumido[['grupos_lugares', 'porcentagem', 'qntd']].sort_values(by='porcentagem', ascending=False)"
      ],
      "execution_count": null,
      "outputs": [
        {
          "output_type": "stream",
          "text": [
            "Quantidade de lugares únicos: 4500\n",
            "Relação de grupos de Lugares:\n"
          ],
          "name": "stdout"
        },
        {
          "output_type": "execute_result",
          "data": {
            "text/html": [
              "<div>\n",
              "<style scoped>\n",
              "    .dataframe tbody tr th:only-of-type {\n",
              "        vertical-align: middle;\n",
              "    }\n",
              "\n",
              "    .dataframe tbody tr th {\n",
              "        vertical-align: top;\n",
              "    }\n",
              "\n",
              "    .dataframe thead th {\n",
              "        text-align: right;\n",
              "    }\n",
              "</style>\n",
              "<table border=\"1\" class=\"dataframe\">\n",
              "  <thead>\n",
              "    <tr style=\"text-align: right;\">\n",
              "      <th></th>\n",
              "      <th>grupos_lugares</th>\n",
              "      <th>porcentagem</th>\n",
              "      <th>qntd</th>\n",
              "    </tr>\n",
              "  </thead>\n",
              "  <tbody>\n",
              "    <tr>\n",
              "      <th>13</th>\n",
              "      <td>Rio de Janeiro</td>\n",
              "      <td>0.51</td>\n",
              "      <td>1</td>\n",
              "    </tr>\n",
              "    <tr>\n",
              "      <th>10</th>\n",
              "      <td>Sao Paulo</td>\n",
              "      <td>0.45</td>\n",
              "      <td>1</td>\n",
              "    </tr>\n",
              "    <tr>\n",
              "      <th>8</th>\n",
              "      <td>Brasília</td>\n",
              "      <td>0.17</td>\n",
              "      <td>1</td>\n",
              "    </tr>\n",
              "    <tr>\n",
              "      <th>7</th>\n",
              "      <td>Porto Alegre, Belo Horizonte</td>\n",
              "      <td>0.11</td>\n",
              "      <td>2</td>\n",
              "    </tr>\n",
              "    <tr>\n",
              "      <th>12</th>\n",
              "      <td>Curitiba</td>\n",
              "      <td>0.09</td>\n",
              "      <td>1</td>\n",
              "    </tr>\n",
              "    <tr>\n",
              "      <th>5</th>\n",
              "      <td>Recife, Fortaleza, Belém</td>\n",
              "      <td>0.08</td>\n",
              "      <td>3</td>\n",
              "    </tr>\n",
              "    <tr>\n",
              "      <th>9</th>\n",
              "      <td>Salvador</td>\n",
              "      <td>0.07</td>\n",
              "      <td>1</td>\n",
              "    </tr>\n",
              "    <tr>\n",
              "      <th>11</th>\n",
              "      <td>Manaus</td>\n",
              "      <td>0.06</td>\n",
              "      <td>1</td>\n",
              "    </tr>\n",
              "    <tr>\n",
              "      <th>6</th>\n",
              "      <td>Goiânia, São Luís</td>\n",
              "      <td>0.05</td>\n",
              "      <td>2</td>\n",
              "    </tr>\n",
              "    <tr>\n",
              "      <th>4</th>\n",
              "      <td>Natal, Lisbon, Niterói, João Pessoa, Florianóp...</td>\n",
              "      <td>0.04</td>\n",
              "      <td>5</td>\n",
              "    </tr>\n",
              "    <tr>\n",
              "      <th>3</th>\n",
              "      <td>Campinas, Nova Iguaçu, Duque de Caxias, São Go...</td>\n",
              "      <td>0.03</td>\n",
              "      <td>7</td>\n",
              "    </tr>\n",
              "    <tr>\n",
              "      <th>2</th>\n",
              "      <td>Santos, Macapá, Santo André, Vila Velha, Vitór...</td>\n",
              "      <td>0.02</td>\n",
              "      <td>10</td>\n",
              "    </tr>\n",
              "    <tr>\n",
              "      <th>1</th>\n",
              "      <td>Cuiabá, Porto Velho, São João de Meriti, Juiz ...</td>\n",
              "      <td>0.01</td>\n",
              "      <td>73</td>\n",
              "    </tr>\n",
              "    <tr>\n",
              "      <th>0</th>\n",
              "      <td>Franca, Cascais, Ciudad Autónoma de Buenos Air...</td>\n",
              "      <td>0.00</td>\n",
              "      <td>4392</td>\n",
              "    </tr>\n",
              "  </tbody>\n",
              "</table>\n",
              "</div>"
            ],
            "text/plain": [
              "                                       grupos_lugares  porcentagem  qntd\n",
              "13                                     Rio de Janeiro         0.51     1\n",
              "10                                          Sao Paulo         0.45     1\n",
              "8                                            Brasília         0.17     1\n",
              "7                        Porto Alegre, Belo Horizonte         0.11     2\n",
              "12                                           Curitiba         0.09     1\n",
              "5                            Recife, Fortaleza, Belém         0.08     3\n",
              "9                                            Salvador         0.07     1\n",
              "11                                             Manaus         0.06     1\n",
              "6                                   Goiânia, São Luís         0.05     2\n",
              "4   Natal, Lisbon, Niterói, João Pessoa, Florianóp...         0.04     5\n",
              "3   Campinas, Nova Iguaçu, Duque de Caxias, São Go...         0.03     7\n",
              "2   Santos, Macapá, Santo André, Vila Velha, Vitór...         0.02    10\n",
              "1   Cuiabá, Porto Velho, São João de Meriti, Juiz ...         0.01    73\n",
              "0   Franca, Cascais, Ciudad Autónoma de Buenos Air...         0.00  4392"
            ]
          },
          "metadata": {
            "tags": []
          },
          "execution_count": 63
        }
      ]
    },
    {
      "cell_type": "markdown",
      "metadata": {
        "id": "sUGGLAqFaa_l"
      },
      "source": [
        "A respeito da relação quantidade de tweets por mês, temos o seguinte gráfico em barras:"
      ]
    },
    {
      "cell_type": "code",
      "metadata": {
        "id": "yfQO3-8HJrA-"
      },
      "source": [
        "df_original['mes'] = pd.DatetimeIndex(df_original['data']).month"
      ],
      "execution_count": null,
      "outputs": []
    },
    {
      "cell_type": "code",
      "metadata": {
        "id": "O5ELXYQl6Jgq"
      },
      "source": [
        "df_tweets_mes = df_original['mes'].value_counts().to_frame()\n",
        "df_tweets_mes = df_tweets_mes.rename(columns = {'mes':'qntd_mes'})\n",
        "df_tweets_mes['num_mes'] = df_tweets_mes.index\n",
        "df_tweets_mes.reset_index(drop=True, inplace=True)\n",
        "df_tweets_mes = df_tweets_mes.sort_values(by='num_mes')"
      ],
      "execution_count": null,
      "outputs": []
    },
    {
      "cell_type": "code",
      "metadata": {
        "id": "fnnvf40g59dV"
      },
      "source": [
        "def defineNomeMes(num_mes):\n",
        "  if (num_mes == 1):\n",
        "    return 'Janeiro'\n",
        "  elif (num_mes == 2):\n",
        "    return 'Fevereiro'\n",
        "  elif (num_mes == 3):\n",
        "    return 'Março'\n",
        "  elif (num_mes == 4):\n",
        "    return 'Abril'\n",
        "  elif (num_mes == 5):\n",
        "    return 'Maio'\n",
        "  elif (num_mes == 6):\n",
        "    return 'Junho'\n",
        "  elif (num_mes == 7):\n",
        "    return 'Julho'\n",
        "  else:\n",
        "    return 'outro'"
      ],
      "execution_count": null,
      "outputs": []
    },
    {
      "cell_type": "code",
      "metadata": {
        "id": "3b12mGhqXNtR"
      },
      "source": [
        "df_tweets_mes['nome_mes'] = df_tweets_mes.apply(lambda row: defineNomeMes(row['num_mes']), axis = 'columns')"
      ],
      "execution_count": null,
      "outputs": []
    },
    {
      "cell_type": "code",
      "metadata": {
        "id": "rpKxifuaVNEc",
        "outputId": "2caf578b-4b24-4067-ae8f-12627bfbc233",
        "colab": {
          "base_uri": "https://localhost:8080/",
          "height": 295
        }
      },
      "source": [
        "#Quantidade de Tweets x mês\n",
        "\n",
        "plt.bar(df_tweets_mes.nome_mes, df_tweets_mes.qntd_mes)\n",
        "plt.title('Qntd. de Tweets x Mês')\n",
        "plt.xlabel('Meses')\n",
        "plt.ylabel('Quantidade de Tweets')\n",
        "plt.savefig('qntd_tweets_por_mes_df_original.png')\n",
        "plt.show()"
      ],
      "execution_count": null,
      "outputs": [
        {
          "output_type": "display_data",
          "data": {
            "image/png": "[encoded data removed]",
            "text/plain": [
              "<Figure size 432x288 with 1 Axes>"
            ]
          },
          "metadata": {
            "tags": [],
            "needs_background": "light"
          }
        }
      ]
    },
    {
      "cell_type": "markdown",
      "metadata": {
        "id": "lM_rUKAYctJ2"
      },
      "source": [
        "No gráfico acima, podemos observar que:\n",
        "\n",
        "*   Conforme a COVID-19 é espalhada no exterior a quantidade de tweets sobre o assunto aumenta.\n",
        "*   Chega ao pico no mês de março, onde diversas metrópoles começam a anunciar casos suspeitos e confirmados. \n",
        "*   Em abril ainda temos um número alto de postagens. Trata-se do período em que cidades iniciam o período de quarentena e reforçam mensagens do protocolo de distanciamento social e higiene. \n",
        "*   Nos meses seguintes (maio e junho), há uma queda de aproximadamente 39,68%. Pode-se supor que a queda se dá pela transferência da menção textual ao vírus para menções audiovisuais (memes e vídeos, por exemplo) e/ou para menções que envolvam os termos #quarentena e #fiqueemcasa.\n",
        "\n",
        "\n"
      ]
    },
    {
      "cell_type": "code",
      "metadata": {
        "id": "gry77Y7tR7Bp"
      },
      "source": [
        "#Não executar\n",
        "\n",
        "# Range com a quantidade de itens das barras\n",
        "x_pos = np.arange(len(df_original))\n",
        "\n",
        "first_bar = plt.bar(x_pos, l_idiomas.sigla_idioma, 0.5, color='b')\n",
        "second_bar = plt.bar(x_pos, l_siglas.sigla_idioma, 0.5, color='y', bottom=l_idiomas.sigla_idioma)\n",
        "\n",
        "labels_atributos_categoricos = ['Idiomas', 'Siglas']\n",
        "\n",
        "# Definir posição e labels no eixo X\n",
        "plt.xticks(x_pos+0.25, (labels_atributos_categoricos))\n",
        "\n",
        "plt.title(\"Perspectiva Quantitativa: Nulos x Não-nulos\")\n",
        "#plt.savefig('qntd__barchar.png')\n",
        "plt.show()"
      ],
      "execution_count": null,
      "outputs": []
    },
    {
      "cell_type": "code",
      "metadata": {
        "id": "Iktk03KtgbdE",
        "outputId": "5eedadb6-45ca-42bb-e5a1-cae86f3869ad",
        "colab": {
          "base_uri": "https://localhost:8080/",
          "height": 281
        }
      },
      "source": [
        "y = np.random.randn(100)\n",
        "x = [x for x in range(len(y))]\n",
        "\n",
        "plt.plot(x, y,  '-')\n",
        "plt.fill_between(x, y, 200, where=(y > 195), facecolor = 'g', alpha = 0.6)\n",
        "plt.title(\"Sample Plot\")\n",
        "plt.show()"
      ],
      "execution_count": null,
      "outputs": [
        {
          "output_type": "display_data",
          "data": {
            "image/png": "[encoded data removed]",
            "text/plain": [
              "<Figure size 432x288 with 1 Axes>"
            ]
          },
          "metadata": {
            "tags": [],
            "needs_background": "light"
          }
        }
      ]
    },
    {
      "cell_type": "markdown",
      "metadata": {
        "id": "zDeFTdMIwRxt"
      },
      "source": [
        "## Tratamento de Dados"
      ]
    },
    {
      "cell_type": "markdown",
      "metadata": {
        "id": "LL4uILih1M4T"
      },
      "source": [
        "De acordo com os achados apresentados anteriormente, as colunas *usuario*, *lugar*, *pais* e *sigla*. Por conta da natureza dos atributos, *latitude* e *longitude* serão mantidos como estão para uma análise posterior.\n",
        "\n",
        "A seguir, temos o preenchimento de dados aplicados somente nas colunas *usuario*, *lugar*, *pais* e *sigla*. "
      ]
    },
    {
      "cell_type": "code",
      "metadata": {
        "id": "wixhhCC-1Nu2"
      },
      "source": [
        "df_original['usuario'] = df_original['usuario'].fillna('')\n",
        "df_original['lugar'] = df_original['lugar'].fillna('Não Informado')\n",
        "df_original['pais'] = df_original['pais'].fillna('Não Informado')\n",
        "df_original['sigla'] = df_original['sigla'].fillna('Não Informado')"
      ],
      "execution_count": null,
      "outputs": []
    },
    {
      "cell_type": "markdown",
      "metadata": {
        "id": "G6M64__5yLjK"
      },
      "source": [
        "Em uma busca manual, foi conferido que existem tweets repetidos. Para tanto, foi aplicada a função de remoção de linhas duplicadas."
      ]
    },
    {
      "cell_type": "code",
      "metadata": {
        "id": "4LI4lnVk9XHh"
      },
      "source": [
        "df_reduzida = pd.DataFrame.drop_duplicates(df_original)\n",
        "print('Foram removidas', qntd_linhas - df_reduzida.shape[0], 'linhas.')\n",
        "print('Quantidade atual de linhas:', df_reduzida.shape[0], '.')"
      ],
      "execution_count": null,
      "outputs": []
    },
    {
      "cell_type": "markdown",
      "metadata": {
        "id": "EG-3sUUG_CNm"
      },
      "source": [
        "Ainda na busca manual, foi percebido que existem tweets em línguas estrangeiras que com o valor **pt** na coluna idioma. Faz-se necessária a criação de uma outra coluna, **idioma_detectado**, com os reais idiomas do tweet. "
      ]
    },
    {
      "cell_type": "code",
      "metadata": {
        "id": "u68TQposz9EL"
      },
      "source": [
        "#criação de uma coluna extra, para armazenar o idioma correto dos tweets\n",
        "df_original['idioma_detectado'] = ''"
      ],
      "execution_count": null,
      "outputs": []
    },
    {
      "cell_type": "markdown",
      "metadata": {
        "id": "AVbPvSwmTgAH"
      },
      "source": [
        "**---------------------------------------------**\n",
        "\n",
        "###**Identificação de pontos de interrogação**\n"
      ]
    },
    {
      "cell_type": "markdown",
      "metadata": {
        "id": "wxAgBuZMkZ_l"
      },
      "source": [
        "#### Métodos para detecção das perguntas"
      ]
    },
    {
      "cell_type": "code",
      "metadata": {
        "id": "Xd5FcSBPl00M"
      },
      "source": [
        "# Criando dataframe\n",
        "df_textos = df_copia_original[['texto', 'idioma']].copy()"
      ],
      "execution_count": null,
      "outputs": []
    },
    {
      "cell_type": "code",
      "metadata": {
        "id": "YnokQMxwkuAL",
        "outputId": "5728517d-18d2-487d-9488-cd02fceb3644",
        "colab": {
          "base_uri": "https://localhost:8080/",
          "height": 51
        }
      },
      "source": [
        "def get_question_by_text(text):\n",
        "  questions = []\n",
        "  text = text.replace('\\n', ' ')\n",
        "\n",
        "  regular_expression = '(\\S[^?.!]*[?!.]*)*'\n",
        "  sentences = re.split(regular_expression, text)\n",
        "  for sentence in sentences:\n",
        "    if not sentence.isspace() and '?' in sentence:\n",
        "      questions.append(sentence)\n",
        "  return questions\n",
        "\n",
        "def extract_questions(df_textos):\n",
        "  dic = []\n",
        "  for index, row in df_textos.iterrows():\n",
        "    questions = get_question_by_text(row['texto'])\n",
        "    for question in questions:\n",
        "      dic.append({'id': index, \n",
        "                  'question': question,\n",
        "                  'language': row['idioma']})\n",
        "  \n",
        "  df_questions = pd.DataFrame(dic, \n",
        "                              columns = ['id',\n",
        "                                         'question',\n",
        "                                         'language'])\n",
        "  return df_questions\n",
        "\n",
        "df_duvidas = extract_questions(df_textos)"
      ],
      "execution_count": null,
      "outputs": [
        {
          "output_type": "stream",
          "text": [
            "/usr/lib/python3.6/re.py:212: FutureWarning: split() requires a non-empty pattern match.\n",
            "  return _compile(pattern, flags).split(string, maxsplit)\n"
          ],
          "name": "stderr"
        }
      ]
    },
    {
      "cell_type": "code",
      "metadata": {
        "id": "gaN3XrqEqDDo",
        "outputId": "e5b5a708-fef3-41fe-96ae-6261cf41563d",
        "colab": {
          "base_uri": "https://localhost:8080/",
          "height": 35
        }
      },
      "source": [
        "# df_duvidas.head()\n",
        "df_textos.iloc[45]['texto']"
      ],
      "execution_count": null,
      "outputs": [
        {
          "output_type": "execute_result",
          "data": {
            "application/vnd.google.colaboratory.intrinsic+json": {
              "type": "string"
            },
            "text/plain": [
              "'Prioridade ?!\\n\\n #COVID19 #floripa #isolamento https://t.co/iKjchaimzn'"
            ]
          },
          "metadata": {
            "tags": []
          },
          "execution_count": 33
        }
      ]
    },
    {
      "cell_type": "markdown",
      "metadata": {
        "id": "pxZrGInSfuz9"
      },
      "source": [
        "##Classificação de conteúdo"
      ]
    },
    {
      "cell_type": "markdown",
      "metadata": {
        "id": "3JuZhmeZgJ5Y"
      },
      "source": [
        "Os códigos das células abaixo mostarão as N (a ser definido pelo usuário) palavras/termos mais comuns dentre os tweets. Esse mecanismo foi utilizado para auxiliar na produção de um dicionário contendo palavras-chaves que indicarão a classificação do tweet em questão. "
      ]
    },
    {
      "cell_type": "code",
      "metadata": {
        "id": "Xx27BVmie3_Q"
      },
      "source": [
        "stopwords = set(line.strip() for line in open ('/content/drive/Shared drives/trabalhoPratico_programacaoDS/pt_stop_words.txt'))\n",
        "stopwords = stopwords.union(set(['?','q','tá','pra','vc', 'gente', 'vcs', 'ta', \n",
        "                                 'cadê', 'ficar', 'pq', 'rt', '??', 'né', 'pro', 'to', 'n', '19', 'oq', 'já', \n",
        "                                 'ja', 'p', 'né', 'socia?', 'alguém', '-', '???', 'causa', 'falar', 'fazendo', 'não?', 'isso?', 'vou', 'tomar', 'tomou', 'cara', 'combate', 'algum', 'alguma', 'brasil?', 'brasil', 'sério', 'sair', 'pessoa', 'mesmo?', 'china', 'acabar', 'acabou' \n",
        "                                 'conta', 'pergunta', 'bem?', 'país', 'medo', 'tô', 'porra', '19?', 'fica', \n",
        "                                 'mano', 'plena', 'vacina', 'passar', 'é?', 'lockdown?', 'deus', 'fala', 'né?', ' ', \n",
        "                                 'pandemia?', 'cloroquina?', 'covid-19?', 'vírus?', 'quarentena?', 'socia?', \n",
        "                                 'coronavírus?', 'coronavirus?', 'acha', 'covid?', 'casos', 'saúde', 'uso', '????', \n",
        "                                 'senhor', 'pessoal', 'ninguém', 'ninguem', 'disse', 'agora?', 'ai', 'ajudar', \n",
        "                                 'quantas', 'the', 'hoje?', 'tava', 'virus?', 'teste', 'melhor', \n",
        "                                 'eh', 'tempos', 'realmente', 'mãe', 'deu', 'remédio', 'galera', 'quê?', 'sera', \n",
        "                                 'queria', 'existe', 'acham', 'tratamento', 'morrer', 'casa?', 'conta', 'social?', \n",
        "                                 'mundo', 'casa','lockdown', 'vamos', 'covid19?', 'hidroxicloroquina?', 'mortes', \n",
        "                                 'dias', 'viu', 'acabou', 'cura', 'que?', 'falando', 'quantos', 'crise', 'oi',\n",
        "                                 'merda', 'mortos', 'precisa', 'pegou', 'imagina', 'chegou', 'hein?', 'ué', \n",
        "                                 'combater', 'la', 'falou', 'morreu', 'carnaval', 'you', 'noção', 'pós', 'máscara', \n",
        "                                 'pega', 'usando', 'daí?', 'daí', 'dai', '2', 'acho', 'morte', 'aí?']))"
      ],
      "execution_count": null,
      "outputs": []
    },
    {
      "cell_type": "code",
      "metadata": {
        "id": "9uv1s0FCe9JY"
      },
      "source": [
        "#Instanciar um dicionário onde, para cada palavra contada, a palavra (inexistente no dict).\n",
        "#Se já existir, sua contagem incrementa.\n",
        "\n",
        "wordcount = {}\n",
        "\n",
        "for index, row in df_duvidas.iterrows():\n",
        "  for word in row['question'].lower().split():\n",
        "      word = word.replace(\".\",\"\")\n",
        "      word = word.replace(\",\",\"\")\n",
        "      word = word.replace(\":\",\"\")\n",
        "      word = word.replace(\"\\\"\",\"\")\n",
        "      word = word.replace(\"!\",\"\")\n",
        "      word = word.replace(\"â€œ\",\"\")\n",
        "      word = word.replace(\"â€˜\",\"\")\n",
        "      word = word.replace(\"*\",\"\")\n",
        "      if word not in stopwords:\n",
        "          if word not in wordcount:\n",
        "              wordcount[word] = 1\n",
        "          else:\n",
        "              wordcount[word] += 1"
      ],
      "execution_count": null,
      "outputs": []
    },
    {
      "cell_type": "code",
      "metadata": {
        "id": "9HfWszLbfE4Y"
      },
      "source": [
        "# Print most common word\n",
        "n_print = int(input(\"Informar a quantidade de palavras desejada: \"))\n",
        "print(\"As {} palavras mais mencionadas são as seguintes:\".format(n_print))\n",
        "word_counter = collections.Counter(wordcount)\n",
        "for word, count in word_counter.most_common(n_print):\n",
        "    print(word, \": \", count)"
      ],
      "execution_count": null,
      "outputs": []
    },
    {
      "cell_type": "markdown",
      "metadata": {
        "id": "xTxaiM-vgkHj"
      },
      "source": [
        "Acima temos as N palavras mais comuns nas perguntas identificadas. \n",
        "\n",
        "Abaixo, temos o dicionário gerado manualmente. Sua construção também base em pesquisas manuais a parte. "
      ]
    },
    {
      "cell_type": "code",
      "metadata": {
        "id": "u6QauzNBia0P"
      },
      "source": [
        "dict_categorias = {\n",
        "'cura':'Medicamento',\n",
        "'doença':'Doença',\n",
        "'pandemia':'Doença',\n",
        "'corona':'Doença',\n",
        "'coronavírus':'Doença',\n",
        "'coronavirus':'Doença',\n",
        "'coronga':'Doença',\n",
        "'covid-19':'Doença',\n",
        "'covid19':'Doença',\n",
        "'covid':'Doença',\n",
        "'sars-cov-2':'Doença',\n",
        "'tratamento':'Medicamento',\n",
        "'curar':'Medicamento',\n",
        "'cloroquina':'Medicamento',\n",
        "'hidroxicloroquina':'Medicamento',\n",
        "'ministro':'Pessoas',\n",
        "'ministério':'Organizações',\n",
        "'emissora':'Organizações',\n",
        "'jornal':'Organizações',\n",
        "'Jornal':'Organizações',\n",
        "'contra':'Medicamento',\n",
        "'combate': 'Medicamento',\n",
        "'especialista':'Pessoas',\n",
        "'mandetta':'Pessoas',\n",
        "'melhora':'Medicamento',\n",
        "'sintoma':'Doença',\n",
        "'sintomas':'Doença',\n",
        "'caso':'Doença',\n",
        "'casos':'Doença',\n",
        "'vacina':'Medicamento',\n",
        "'vacinas':'Medicamento',\n",
        "'tamiflu':'Medicamento',\n",
        "'covidao':'Doença',\n",
        "'infecção': 'Doença',\n",
        "'contágio':'Doença',\n",
        "'atazanavir':'Medicamento',\n",
        "'remdesivir':'Medicamento',\n",
        "'ivermectina':'Medicamento',\n",
        "'azitromicina':'Medicamento',\n",
        "'who':'Organizações',\n",
        "'oms':'Organizações',\n",
        "'organização mundial da saúde':'Organizações',\n",
        "'profissionais da saúde':'Pessoas',\n",
        "'coriza':'Doença',\n",
        "'dor':'Doença',\n",
        "'falta de ar': 'Doença',\n",
        "'febre':'Doença',\n",
        "'tosse':'Doença',\n",
        "'fiocruz':'Organizações',\n",
        "'fundação nacional da saúde': 'Organizações',\n",
        "'funasa':'Organizações',\n",
        "'opas':'Organizações',\n",
        "'organização pan-americana da saúde': 'Organizações',\n",
        "'teich':'Pessoas',\n",
        "'etienne':'Pessoas',\n",
        "'@jairbolsonaro':'Pessoas',\n",
        "'bolsonaro':'Pessoas',\n",
        "'@lhmandetta':'Pessoas',\n",
        "'vírus':'Doença',\n",
        "'@jdoriajr':'Pessoas',\n",
        "'doria':'Pessoas',\n",
        "'dória':'Pessoas',\n",
        "'@bolsonarosp':'Pessoas',\n",
        "'@veramagalhaes':'Pessoas',\n",
        "'@minsaude':'Organizações',\n",
        "'@folha':'Organizações',\n",
        "'@estadao':'Organizações',\n",
        "'folha':'Organizações',\n",
        "'Estadão':'Organizações',\n",
        "'@rodrigomaia':'Pessoas',\n",
        "'@g1':'Organizações',\n",
        "'g1':'Organizações',\n",
        "'@teichnelson':'Pessoas',\n",
        "'@wilsonwitzel':'Pessoas',\n",
        "'@o_antagonista':'Pessoas',\n",
        "'@cnnbrasil':'Organizações',\n",
        "'@rconstantino':'Pessoas',\n",
        "'@uolnoticias':'Organizações',\n",
        "'ivermectina':'Medicamento',\n",
        "'@osmarterra':'Pessoas',\n",
        "'@carlosbolsonaro':'Pessoas',\n",
        "'@bbcbrasil':'Orgnizações'\n",
        "}"
      ],
      "execution_count": null,
      "outputs": []
    },
    {
      "cell_type": "markdown",
      "metadata": {
        "id": "fL2Z4Ep8g-sT"
      },
      "source": [
        "A função classificador() recebe a pergunta e cada palavra da frase é comparada aos termos existentes no dicionário. Se der match, o retorno é a categoria respectiva da palavra. Caso não haja match, a categoria devolvida é *Outro*, que pode ser definida por diversas peculiaridades (a pergunta está em outro idioma, o contexto não faz referência direta ao vírus, etc.)."
      ]
    },
    {
      "cell_type": "code",
      "metadata": {
        "id": "wEImd2iwmd5U"
      },
      "source": [
        "#Função classificadora de tuítes\n",
        "#Recebe o texto do tuíte e retorna a classificação\n",
        "\n",
        "def classificador(texto):\n",
        "  t = texto.split()\n",
        "  #t = t[:-1] #para desconsiderar o ponto de interrogação no final da frase\n",
        "\n",
        "  for palavra in t:\n",
        "    l = len(palavra)\n",
        "    if ( palavra[l-1] == '?'):\n",
        "      palavra = palavra[:-1]\n",
        "      \n",
        "    for key, value in dict_categorias.items():\n",
        "      if ( palavra.lower() == key):\n",
        "        return value\n",
        "  #no caso de não ter retornado nada no for\n",
        "  return 'Outro'"
      ],
      "execution_count": null,
      "outputs": []
    },
    {
      "cell_type": "markdown",
      "metadata": {
        "id": "sGGzXj-uhoa9"
      },
      "source": [
        "Abaixo temos o dataframe atualizado com as categorias das suas respectivas perguntas. "
      ]
    },
    {
      "cell_type": "code",
      "metadata": {
        "id": "ac8drrKKfzn1"
      },
      "source": [
        "df_duvidas['category'] = df_duvidas.apply(lambda row: classificador(row['question']), axis = 'columns')"
      ],
      "execution_count": null,
      "outputs": []
    },
    {
      "cell_type": "markdown",
      "metadata": {
        "id": "H2zRzqQRpfWh"
      },
      "source": [
        "##**Análise temporal**\n"
      ]
    },
    {
      "cell_type": "code",
      "metadata": {
        "id": "hj6K2SEwpxm-"
      },
      "source": [
        "# Criar dataframe\n",
        "df_textos = df_copia_original.copy()"
      ],
      "execution_count": null,
      "outputs": []
    }
  ]
}