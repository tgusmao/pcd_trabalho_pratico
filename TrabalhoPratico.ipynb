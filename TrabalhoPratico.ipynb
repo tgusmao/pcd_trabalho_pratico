{
  "nbformat": 4,
  "nbformat_minor": 0,
  "metadata": {
    "colab": {
      "name": "TrabalhoPratico.ipynb",
      "provenance": [],
      "collapsed_sections": [
        "KJPQWTJUYi86"
      ],
      "toc_visible": true,
      "include_colab_link": true
    },
    "kernelspec": {
      "name": "python3",
      "display_name": "Python 3"
    }
  },
  "cells": [
    {
      "cell_type": "markdown",
      "metadata": {
        "id": "view-in-github",
        "colab_type": "text"
      },
      "source": [
        "<a href=\"https://colab.research.google.com/github/tgusmao/programacao_ds/blob/master/TrabalhoPratico.ipynb\" target=\"_parent\"><img src=\"https://colab.research.google.com/assets/colab-badge.svg\" alt=\"Open In Colab\"/></a>"
      ]
    },
    {
      "cell_type": "markdown",
      "metadata": {
        "id": "KxvNKP0DGdVo"
      },
      "source": [
        "# **Trabalho Prático de Programação para Ciências de Dados**"
      ]
    },
    {
      "cell_type": "markdown",
      "metadata": {
        "id": "eBEzEafyyx_R"
      },
      "source": [
        "Dupla: \n",
        "*   Tammy Hikari Yanai Gusmão\n",
        "*   Thalita Naiara Andre Alves\n",
        "\n",
        "\n",
        "Trabalho Prático para obtenção de nota na disciplina de Programação para Ciências de Dados - Turma 1 de 2020."
      ]
    },
    {
      "cell_type": "markdown",
      "metadata": {
        "id": "-4c7TRd12Edq"
      },
      "source": [
        "##Instalações e Importações Utilzadas"
      ]
    },
    {
      "cell_type": "code",
      "metadata": {
        "id": "Fzyt46Tzpsev"
      },
      "source": [
        "!pip install geopandas"
      ],
      "execution_count": null,
      "outputs": []
    },
    {
      "cell_type": "code",
      "metadata": {
        "id": "Xu430E4N6lt6"
      },
      "source": [
        "import pandas as pd\n",
        "import numpy as np  \n",
        "import matplotlib.pyplot as plt\n",
        "import matplotlib.colors as pltc\n",
        "from random import sample\n",
        "import string\n",
        "import re\n",
        "import time\n",
        "import nltk"
      ],
      "execution_count": null,
      "outputs": []
    },
    {
      "cell_type": "markdown",
      "metadata": {
        "id": "1nm1WqMqp99i"
      },
      "source": [
        "##Importação da Base de Dados"
      ]
    },
    {
      "cell_type": "markdown",
      "metadata": {
        "id": "WLFvYC1LMdiP"
      },
      "source": [
        "Iniciando abaixo a leitura do arquivo CSV local (localizado no Google Drive)"
      ]
    },
    {
      "cell_type": "code",
      "metadata": {
        "id": "4xNXtQqqlT0p",
        "outputId": "22cab59f-7511-4f6b-b6b1-57efee706bd7",
        "colab": {
          "base_uri": "https://localhost:8080/",
          "height": 34
        }
      },
      "source": [
        "from google.colab import drive\n",
        "drive.mount('/content/drive')"
      ],
      "execution_count": null,
      "outputs": [
        {
          "output_type": "stream",
          "text": [
            "Mounted at /content/drive\n"
          ],
          "name": "stdout"
        }
      ]
    },
    {
      "cell_type": "code",
      "metadata": {
        "id": "hh5J92U3V3tj"
      },
      "source": [
        "df_original = pd.read_csv('/content/drive/Shared drives/trabalhoPratico_programacaoDS/dados-curso-completo.csv', sep = ',', skiprows = 0, encoding = 'utf-8')"
      ],
      "execution_count": null,
      "outputs": []
    },
    {
      "cell_type": "code",
      "metadata": {
        "id": "9H-XIRhkz1Mc"
      },
      "source": [
        "#cópia da base original\n",
        "df_copia_original = df_original.copy()"
      ],
      "execution_count": null,
      "outputs": []
    },
    {
      "cell_type": "markdown",
      "metadata": {
        "id": "KJPQWTJUYi86"
      },
      "source": [
        "##Resumo do dataset original\n",
        "\n"
      ]
    },
    {
      "cell_type": "markdown",
      "metadata": {
        "id": "Cb9irjg20UCE"
      },
      "source": [
        "A base de dados contém informações sobre tuítes sobre a COVID-19, postados durante o primeiro semestre do ano de 2020. A base foi levemente pré-processada anteriormente pelo professor da disciplina.  "
      ]
    },
    {
      "cell_type": "code",
      "metadata": {
        "id": "Jz3vp2V-0W7d",
        "outputId": "d7db424e-e717-45e5-e9c9-130379009cba",
        "colab": {
          "base_uri": "https://localhost:8080/",
          "height": 51
        }
      },
      "source": [
        "qntd_linhas = df_original.shape[0]\n",
        "qntd_colunas = df_original.shape[1]\n",
        "print('Quantidade de linhas: ', qntd_linhas)\n",
        "print('Quantidade de colunas: ', qntd_colunas)"
      ],
      "execution_count": null,
      "outputs": [
        {
          "output_type": "stream",
          "text": [
            "Quantidade de linhas:  1658825\n",
            "Quantidade de colunas:  14\n"
          ],
          "name": "stdout"
        }
      ]
    },
    {
      "cell_type": "markdown",
      "metadata": {
        "id": "1CqY9eC70yXY"
      },
      "source": [
        "Como pode ser visto acima, o atributo *shape* retornou uma tupla contendo a quantidade de linhas e colunas que constituem a base: 1.658.825 linhas e 13 colunas. \n",
        "\n",
        "Abaixo temos a lista dos nomes das colunas existentes:"
      ]
    },
    {
      "cell_type": "code",
      "metadata": {
        "id": "IL-uTjIP024C",
        "outputId": "18a3ddff-3644-4fd0-851b-872b327aae18",
        "colab": {
          "base_uri": "https://localhost:8080/",
          "height": 255
        }
      },
      "source": [
        "for col in df_original.columns:\n",
        "  print(col)"
      ],
      "execution_count": null,
      "outputs": [
        {
          "output_type": "stream",
          "text": [
            "data\n",
            "usuario\n",
            "apelido\n",
            "texto\n",
            "retweet\n",
            "seguidores\n",
            "idioma\n",
            "lugar\n",
            "pais\n",
            "sigla\n",
            "latitude\n",
            "longitude\n",
            "hashtags\n",
            "mes\n"
          ],
          "name": "stdout"
        }
      ]
    },
    {
      "cell_type": "markdown",
      "metadata": {
        "id": "Vv7Ozr7DBUmQ"
      },
      "source": [
        "Como pode ser observado abaixo, os tipos de variáveis que consistem o dataframe são *object*, *int64* e *float64*. As colunas com tipo *object* são aquelas com dados textuais. As colunas com tipo *int64* são as que contém dados quantitativos. As de tipo *float64* contém dados de números quebrados. "
      ]
    },
    {
      "cell_type": "code",
      "metadata": {
        "id": "BxC551PL_ABb",
        "outputId": "cf18377d-49d1-4126-8dc6-2a3daabb2164",
        "colab": {
          "base_uri": "https://localhost:8080/",
          "height": 272
        }
      },
      "source": [
        "df_original.dtypes"
      ],
      "execution_count": null,
      "outputs": [
        {
          "output_type": "execute_result",
          "data": {
            "text/plain": [
              "data           object\n",
              "usuario        object\n",
              "apelido        object\n",
              "texto          object\n",
              "retweet         int64\n",
              "seguidores      int64\n",
              "idioma         object\n",
              "lugar          object\n",
              "pais           object\n",
              "sigla          object\n",
              "latitude      float64\n",
              "longitude     float64\n",
              "hashtags       object\n",
              "mes             int64\n",
              "dtype: object"
            ]
          },
          "metadata": {
            "tags": []
          },
          "execution_count": 28
        }
      ]
    },
    {
      "cell_type": "code",
      "metadata": {
        "id": "3Z8tvFH5mk-9",
        "outputId": "4696dc0e-9968-418c-dfee-c67923ace95b",
        "colab": {
          "base_uri": "https://localhost:8080/",
          "height": 272
        }
      },
      "source": [
        "df_original.isnull().sum()"
      ],
      "execution_count": null,
      "outputs": [
        {
          "output_type": "execute_result",
          "data": {
            "text/plain": [
              "data                0\n",
              "usuario            57\n",
              "apelido             0\n",
              "texto               0\n",
              "retweet             0\n",
              "seguidores          0\n",
              "idioma              0\n",
              "lugar         1584220\n",
              "pais          1584225\n",
              "sigla         1584230\n",
              "latitude      1650105\n",
              "longitude     1650105\n",
              "hashtags            0\n",
              "mes                 0\n",
              "dtype: int64"
            ]
          },
          "metadata": {
            "tags": []
          },
          "execution_count": 29
        }
      ]
    },
    {
      "cell_type": "markdown",
      "metadata": {
        "id": "NjpTBvorDHXe"
      },
      "source": [
        "Levando em consideração o achado acima, faz-se necessário o preenchimento apropriado para eliminar os espaços vazios presentes no dataset. Esta atividade é realizada na seção seguinte (Tratamento de Dados).\n",
        "\n",
        "Para uma perspectiva visual da característica quantitativa dos atributos, foram plotados os gráficos a seguir:\n"
      ]
    },
    {
      "cell_type": "code",
      "metadata": {
        "id": "yyyC_Q_rP7uX"
      },
      "source": [
        "#Arrays com as quantidades de células não nulas e nulas, respectivamente, \n",
        "#de cada coluna que apresenta valores nulos\n",
        "qntd_naonulos = [df_original.usuario.notnull().sum(),df_original.sigla.notnull().sum(),df_original.lugar.notnull().sum(),\n",
        "           df_original.pais.notnull().sum(), df_original.latitude.notnull().sum(), \n",
        "           df_original.longitude.notnull().sum()]\n",
        "\n",
        "qntd_nulos = [df_original.usuario.isnull().sum(), df_original.sigla.isnull().sum(), df_original.lugar.isnull().sum(),\n",
        "                 df_original.pais.isnull().sum(), df_original.latitude.isnull().sum(), \n",
        "                 df_original.longitude.isnull().sum()]\n",
        "\n",
        "#Array com labels para os gráficos a seguir\n",
        "labels_valores_ausentes = ['Usuário', 'Sigla', 'Lugar', 'País', 'Latitude', 'Longitude']"
      ],
      "execution_count": null,
      "outputs": []
    },
    {
      "cell_type": "code",
      "metadata": {
        "id": "hR1V84Q8P9f4",
        "outputId": "0e4fab56-e42e-4fd2-e53e-f54523e1597b",
        "colab": {
          "base_uri": "https://localhost:8080/",
          "height": 281
        }
      },
      "source": [
        "# Range com a quantidade de itens das barras\n",
        "x_pos = np.arange(len(qntd_naonulos))\n",
        "\n",
        "first_bar = plt.bar(x_pos, qntd_naonulos, 0.5, color='b')\n",
        "second_bar = plt.bar(x_pos, qntd_nulos, 0.5, color='y', bottom=qntd_naonulos)\n",
        "\n",
        "# Definir posição e labels no eixo X\n",
        "plt.xticks(x_pos+0.25, (labels_valores_ausentes))\n",
        "\n",
        "plt.title(\"Perspectiva Quantitativa: Nulos x Não-nulos\")\n",
        "plt.savefig('qntd_nulos_naoNulos_barchar.png')\n",
        "plt.legend(['Não Nulos', 'Nulos'],loc=5)\n",
        "plt.show()"
      ],
      "execution_count": null,
      "outputs": [
        {
          "output_type": "display_data",
          "data": {
            "image/png": "[encoded data removed]",
            "text/plain": [
              "<Figure size 432x288 with 1 Axes>"
            ]
          },
          "metadata": {
            "tags": [],
            "needs_background": "light"
          }
        }
      ]
    },
    {
      "cell_type": "markdown",
      "metadata": {
        "id": "8MchyP7kUCXR"
      },
      "source": [
        "No que diz respeito à coluna *usuario*, sabe-se que existem 57 linhas que possuem valores. Por conta da grande quantidade de casos existentes (acima de 1 milhão), não é possível ver a barra inferior que contabiliza o total de nulos da coluna. \n",
        "\n",
        "Ademais, nota-se que: as quantidades para *sigla*, *lugar* e '*pais* são semelhantes; e que a base de casos possui pouquíssimas lacunas preenchidas com valores de latitude e longitude. \n",
        "\n",
        "Abaixo podemos observar a quantidade em porcentagem para as colunas que apresentam valores nulos. "
      ]
    },
    {
      "cell_type": "code",
      "metadata": {
        "id": "cLBvK3FqLoBF"
      },
      "source": [
        "#Gerador de cores aleatórias para os gráficos.\n",
        "todas_as_cores = [k for k,v in pltc.cnames.items()]\n",
        "fracs = np.array([600, 179, 154, 139, 126, 1185])\n",
        "\n",
        "def gerar_cores_aleatorias():\n",
        "  return sample(todas_as_cores, len(fracs))"
      ],
      "execution_count": null,
      "outputs": []
    },
    {
      "cell_type": "code",
      "metadata": {
        "id": "ZvVm5J8jA9o2",
        "outputId": "5bc8c04b-74ea-4659-941c-6b5df11a47cd",
        "colab": {
          "base_uri": "https://localhost:8080/",
          "height": 264
        }
      },
      "source": [
        "# Criação da figure com uma linha e duas colunas. Figsize define o tamanho da figure\n",
        "fig, eixos = plt.subplots(nrows=1, ncols=2, figsize=(8,4))\n",
        "\n",
        "cores_aleatorias = gerar_cores_aleatorias()\n",
        "\n",
        "# Cria o gráfico de pizza na primeira posição com as configurações definidas\n",
        "pie_1 = eixos[0].pie(qntd_nulos, labels=labels_valores_ausentes,\n",
        "                    autopct='%1.1f%%', colors=cores_aleatorias)\n",
        "\n",
        "# Define o título deste gráfico\n",
        "eixos[0].set_title('Porcentagem de Valores Nulos')\n",
        "# Deixa os dois eixos iguais, fazendo com que o gráfico mantenha-se redondo\n",
        "eixos[0].axis('equal')\n",
        "\n",
        "# Idem a acima, para o segundo gráfico de pizza\n",
        "pie_2 = eixos[1].pie(qntd_naonulos, \n",
        "                     labels = labels_valores_ausentes,\n",
        "                    autopct='%1.1f%%', \n",
        "                     startangle = 180, \n",
        "                     colors=cores_aleatorias,\n",
        "                     explode = (0,0.5,0.5,0.5,0.2, 0.2),)\n",
        "eixos[1].set_title('Porcentagem de Valores Não-nulos')\n",
        "plt.axis('equal')\n",
        "\n",
        "# Ajusta o espaço entre os dois gráficos\n",
        "plt.subplots_adjust(wspace=1)\n",
        "plt.savefig('qntd_nulos_naoNulos_piechar.png')\n",
        "plt.legend(loc='lower left')\n",
        "plt.show()"
      ],
      "execution_count": null,
      "outputs": [
        {
          "output_type": "display_data",
          "data": {
            "image/png": "[encoded data removed]",
            "text/plain": [
              "<Figure size 576x288 with 2 Axes>"
            ]
          },
          "metadata": {
            "tags": []
          }
        }
      ]
    },
    {
      "cell_type": "markdown",
      "metadata": {
        "id": "d-76Mohdbojn"
      },
      "source": [
        "*idioma*, *sigla*, *pais* e *lugar* são atributos categróricos, isto é, caracterizam o tweet e/ou o usuário que postou o tweet. Como não houve restrição na coleta dedados quanto a localização e idioma, o dataset possui tweets do mundo todo como pode ser observado nas estatísticas abaixo, que apresentam os dez primeiros itens com maiores ocorrências:"
      ]
    },
    {
      "cell_type": "code",
      "metadata": {
        "id": "Or9WjEKL-QOq"
      },
      "source": [
        "def get_df_itens_por_coluna(df, nome_coluna):\n",
        "  return df[nome_coluna].value_counts().to_frame()"
      ],
      "execution_count": null,
      "outputs": []
    },
    {
      "cell_type": "code",
      "metadata": {
        "id": "0VltSCgQ-R-w"
      },
      "source": [
        "def set_nome_coluna(df, coluna_antiga, coluna_nova):\n",
        "  return df.rename(columns = {coluna_antiga:coluna_nova})"
      ],
      "execution_count": null,
      "outputs": []
    },
    {
      "cell_type": "code",
      "metadata": {
        "id": "xQ0eZMmf-TTU"
      },
      "source": [
        "def calcula_df_porcentagem (df, nome_coluna, tam):\n",
        "  return round(((df[nome_coluna] * 100)/tam), 2)"
      ],
      "execution_count": null,
      "outputs": []
    },
    {
      "cell_type": "code",
      "metadata": {
        "id": "vGXcr46I-VW2"
      },
      "source": [
        "#col_principal = coluna principal\n",
        "#nova_col_1 = nome da nova coluna que conterá os valores da col_principal\n",
        "#nova_col_2 = nome da coluna que conterá os valores do index\n",
        "#coluna4 = qualquer nome de coluna para guardar porcentagens\n",
        "\n",
        "def organiza_itens_unicos(df, col_principal, nova_col_1, nova_col_2, coluna4 = 'porcentagem'):\n",
        "  \n",
        "  lista = df[col_principal].value_counts().to_frame()\n",
        "  lista = set_nome_coluna(lista, col_principal, nova_col_1)\n",
        "  lista[coluna4] =  calcula_df_porcentagem(lista, nova_col_1, df.shape[0])\n",
        "  lista[nova_col_2] = lista.index\n",
        "\n",
        "  return lista.reset_index(drop=True)"
      ],
      "execution_count": null,
      "outputs": []
    },
    {
      "cell_type": "code",
      "metadata": {
        "id": "mgpWxjVp-aA2"
      },
      "source": [
        "l_idiomas = organiza_itens_unicos(df_original, \n",
        "                                  'idioma', \n",
        "                                  'qntd_idioma', \n",
        "                                  'sigla_idioma', \n",
        "                                  'porcentagem')\n",
        "\n",
        "l_siglas = organiza_itens_unicos(df_original,\n",
        "                                 'sigla',\n",
        "                                 'qntd_sigla',\n",
        "                                 'sigla',\n",
        "                                 'porcentagem')\n",
        "\n",
        "l_paises = organiza_itens_unicos(df_original,\n",
        "                                 'pais',\n",
        "                                 'qntd_pais',\n",
        "                                 'pais',\n",
        "                                 'porcentagem')\n",
        "\n",
        "l_lugares = organiza_itens_unicos(df_original,\n",
        "                                 'lugar',\n",
        "                                 'qntd_lugar',\n",
        "                                 'lugar',\n",
        "                                 'porcentagem')"
      ],
      "execution_count": null,
      "outputs": []
    },
    {
      "cell_type": "code",
      "metadata": {
        "id": "Pb9qmqva-hcm"
      },
      "source": [
        "#Reorganizando a ordem das colunas\n",
        "\n",
        "l_idiomas = l_idiomas[['sigla_idioma','qntd_idioma','porcentagem']]\n",
        "\n",
        "l_siglas = l_siglas[['sigla','qntd_sigla','porcentagem']]\n",
        "\n",
        "l_paises = l_paises[['pais','qntd_pais','porcentagem']]\n",
        "\n",
        "l_lugares = l_lugares[['lugar','qntd_lugar','porcentagem']]"
      ],
      "execution_count": null,
      "outputs": []
    },
    {
      "cell_type": "code",
      "metadata": {
        "id": "iY--PaDCwxKR"
      },
      "source": [
        "#Redução das listas geradas acima - organização por grupos de porcentagem\n",
        "\n",
        "#Agrupamentos de porcentagens em idiomas\n",
        "l_idiomas_resumido = l_idiomas['porcentagem'].value_counts().to_frame()\n",
        "l_idiomas_resumido = l_idiomas_resumido.rename(columns = {'porcentagem':'qntd'})\n",
        "l_idiomas_resumido['porcentagem'] = l_idiomas_resumido.index\n",
        "l_idiomas_resumido.reset_index(drop=True, inplace=True)\n",
        "\n",
        "#Agrupamentos de porcentagens em siglas\n",
        "l_siglas_resumido = l_siglas['porcentagem'].value_counts().to_frame()\n",
        "l_siglas_resumido = l_siglas_resumido.rename(columns = {'porcentagem':'qntd'})\n",
        "l_siglas_resumido['porcentagem'] = l_siglas_resumido.index\n",
        "l_siglas_resumido.reset_index(drop=True, inplace=True)\n",
        "\n",
        "#Agrupamentos de porcentagens em países\n",
        "l_paises_resumido = l_paises['porcentagem'].value_counts().to_frame()\n",
        "l_paises_resumido = l_paises_resumido.rename(columns = {'porcentagem':'qntd'})\n",
        "l_paises_resumido['porcentagem'] = l_paises_resumido.index\n",
        "l_paises_resumido.reset_index(drop=True, inplace=True)\n",
        "\n",
        "#Agrupamentos de porcentagens em lugares\n",
        "l_lugares_resumido = l_lugares['porcentagem'].value_counts().to_frame()\n",
        "l_lugares_resumido = l_lugares_resumido.rename(columns = {'porcentagem':'qntd'})\n",
        "l_lugares_resumido['porcentagem'] = l_lugares_resumido.index\n",
        "l_lugares_resumido.reset_index(drop=True, inplace=True)"
      ],
      "execution_count": null,
      "outputs": []
    },
    {
      "cell_type": "code",
      "metadata": {
        "id": "KLJK6VgQoInw"
      },
      "source": [
        "def agruparPorPorcentagens(df, df_geral, nome_coluna): \n",
        "  #df = o df reduzido\n",
        "  #df_geral = o l_<nome da coluna no plural>\n",
        "  #nome_coluna = nome da coluna de siglas/países/lugares\n",
        "\n",
        "  titulos_agrupados = []\n",
        "\n",
        "  for index, row in df.iterrows():\n",
        "    string_concat = ''\n",
        "    #define condição de busca para ser aplicada no dataframe genérico\n",
        "    condicao = df_geral['porcentagem'] == row['porcentagem']\n",
        "    lista = df_geral[condicao]\n",
        "\n",
        "    for i, j in lista.iterrows():\n",
        "      if (len(string_concat) > 0):\n",
        "        string_concat = string_concat + ', ' + j[nome_coluna]\n",
        "      else:\n",
        "        string_concat = string_concat + j[nome_coluna]\n",
        "    \n",
        "    titulos_agrupados.append(string_concat)\n",
        "\n",
        "  return titulos_agrupados"
      ],
      "execution_count": null,
      "outputs": []
    },
    {
      "cell_type": "code",
      "metadata": {
        "id": "XCIqyhIgn1Sw",
        "outputId": "b01ddfb7-f911-4516-98fb-35bfbb54fd44",
        "colab": {
          "base_uri": "https://localhost:8080/",
          "height": 610
        }
      },
      "source": [
        "print(\"Quantidade de siglas idiomáticas únicas: \", len(l_idiomas))\n",
        "print('Relação de grupos de porcentagens para Idiomas:')\n",
        "l_idiomas_resumido['grupos_idiomas'] = agruparPorPorcentagens(l_idiomas_resumido, l_idiomas, 'sigla_idioma')\n",
        "l_idiomas_resumido[['grupos_idiomas', 'porcentagem', 'qntd']].sort_values(by='porcentagem', ascending=False)"
      ],
      "execution_count": null,
      "outputs": [
        {
          "output_type": "stream",
          "text": [
            "Quantidade de siglas idiomáticas únicas:  59\n",
            "Relação de grupos de porcentagens para Idiomas:\n"
          ],
          "name": "stdout"
        },
        {
          "output_type": "execute_result",
          "data": {
            "text/html": [
              "<div>\n",
              "<style scoped>\n",
              "    .dataframe tbody tr th:only-of-type {\n",
              "        vertical-align: middle;\n",
              "    }\n",
              "\n",
              "    .dataframe tbody tr th {\n",
              "        vertical-align: top;\n",
              "    }\n",
              "\n",
              "    .dataframe thead th {\n",
              "        text-align: right;\n",
              "    }\n",
              "</style>\n",
              "<table border=\"1\" class=\"dataframe\">\n",
              "  <thead>\n",
              "    <tr style=\"text-align: right;\">\n",
              "      <th></th>\n",
              "      <th>grupos_idiomas</th>\n",
              "      <th>porcentagem</th>\n",
              "      <th>qntd</th>\n",
              "    </tr>\n",
              "  </thead>\n",
              "  <tbody>\n",
              "    <tr>\n",
              "      <th>10</th>\n",
              "      <td>pt</td>\n",
              "      <td>95.66</td>\n",
              "      <td>1</td>\n",
              "    </tr>\n",
              "    <tr>\n",
              "      <th>14</th>\n",
              "      <td>en</td>\n",
              "      <td>1.45</td>\n",
              "      <td>1</td>\n",
              "    </tr>\n",
              "    <tr>\n",
              "      <th>6</th>\n",
              "      <td>es</td>\n",
              "      <td>0.86</td>\n",
              "      <td>1</td>\n",
              "    </tr>\n",
              "    <tr>\n",
              "      <th>12</th>\n",
              "      <td>it</td>\n",
              "      <td>0.39</td>\n",
              "      <td>1</td>\n",
              "    </tr>\n",
              "    <tr>\n",
              "      <th>5</th>\n",
              "      <td>und</td>\n",
              "      <td>0.34</td>\n",
              "      <td>1</td>\n",
              "    </tr>\n",
              "    <tr>\n",
              "      <th>15</th>\n",
              "      <td>ar</td>\n",
              "      <td>0.28</td>\n",
              "      <td>1</td>\n",
              "    </tr>\n",
              "    <tr>\n",
              "      <th>4</th>\n",
              "      <td>fr</td>\n",
              "      <td>0.22</td>\n",
              "      <td>1</td>\n",
              "    </tr>\n",
              "    <tr>\n",
              "      <th>7</th>\n",
              "      <td>ca</td>\n",
              "      <td>0.16</td>\n",
              "      <td>1</td>\n",
              "    </tr>\n",
              "    <tr>\n",
              "      <th>13</th>\n",
              "      <td>tr</td>\n",
              "      <td>0.14</td>\n",
              "      <td>1</td>\n",
              "    </tr>\n",
              "    <tr>\n",
              "      <th>8</th>\n",
              "      <td>ja</td>\n",
              "      <td>0.12</td>\n",
              "      <td>1</td>\n",
              "    </tr>\n",
              "    <tr>\n",
              "      <th>11</th>\n",
              "      <td>in</td>\n",
              "      <td>0.06</td>\n",
              "      <td>1</td>\n",
              "    </tr>\n",
              "    <tr>\n",
              "      <th>16</th>\n",
              "      <td>th</td>\n",
              "      <td>0.05</td>\n",
              "      <td>1</td>\n",
              "    </tr>\n",
              "    <tr>\n",
              "      <th>9</th>\n",
              "      <td>tl</td>\n",
              "      <td>0.04</td>\n",
              "      <td>1</td>\n",
              "    </tr>\n",
              "    <tr>\n",
              "      <th>3</th>\n",
              "      <td>ko, hi, ru</td>\n",
              "      <td>0.03</td>\n",
              "      <td>3</td>\n",
              "    </tr>\n",
              "    <tr>\n",
              "      <th>2</th>\n",
              "      <td>de, pl, fa</td>\n",
              "      <td>0.02</td>\n",
              "      <td>3</td>\n",
              "    </tr>\n",
              "    <tr>\n",
              "      <th>1</th>\n",
              "      <td>nl, ur, ht, et, eu, el, lt, sv</td>\n",
              "      <td>0.01</td>\n",
              "      <td>8</td>\n",
              "    </tr>\n",
              "    <tr>\n",
              "      <th>0</th>\n",
              "      <td>cs, no, zh, da, ro, fi, cy, uk, lv, iw, ta, hu...</td>\n",
              "      <td>0.00</td>\n",
              "      <td>32</td>\n",
              "    </tr>\n",
              "  </tbody>\n",
              "</table>\n",
              "</div>"
            ],
            "text/plain": [
              "                                       grupos_idiomas  porcentagem  qntd\n",
              "10                                                 pt        95.66     1\n",
              "14                                                 en         1.45     1\n",
              "6                                                  es         0.86     1\n",
              "12                                                 it         0.39     1\n",
              "5                                                 und         0.34     1\n",
              "15                                                 ar         0.28     1\n",
              "4                                                  fr         0.22     1\n",
              "7                                                  ca         0.16     1\n",
              "13                                                 tr         0.14     1\n",
              "8                                                  ja         0.12     1\n",
              "11                                                 in         0.06     1\n",
              "16                                                 th         0.05     1\n",
              "9                                                  tl         0.04     1\n",
              "3                                          ko, hi, ru         0.03     3\n",
              "2                                          de, pl, fa         0.02     3\n",
              "1                      nl, ur, ht, et, eu, el, lt, sv         0.01     8\n",
              "0   cs, no, zh, da, ro, fi, cy, uk, lv, iw, ta, hu...         0.00    32"
            ]
          },
          "metadata": {
            "tags": []
          },
          "execution_count": 37
        }
      ]
    },
    {
      "cell_type": "code",
      "metadata": {
        "id": "uzEVj_GdxBeE",
        "outputId": "a873282b-895c-4c74-a1c0-dc3239d0362e",
        "colab": {
          "base_uri": "https://localhost:8080/",
          "height": 300
        }
      },
      "source": [
        "print(\"Quantidade de países únicos:\", len(l_paises))\n",
        "print('Relação de grupos de porcentagens para Países:')\n",
        "l_paises_resumido['grupos_paises'] = agruparPorPorcentagens(l_paises_resumido, l_paises, 'pais')\n",
        "l_paises_resumido[['grupos_paises', 'porcentagem', 'qntd']].sort_values(by='porcentagem', ascending=False)"
      ],
      "execution_count": null,
      "outputs": [
        {
          "output_type": "stream",
          "text": [
            "Quantidade de países únicos: 121\n",
            "Relação de grupos de porcentagens para Países:\n"
          ],
          "name": "stdout"
        },
        {
          "output_type": "execute_result",
          "data": {
            "text/html": [
              "<div>\n",
              "<style scoped>\n",
              "    .dataframe tbody tr th:only-of-type {\n",
              "        vertical-align: middle;\n",
              "    }\n",
              "\n",
              "    .dataframe tbody tr th {\n",
              "        vertical-align: top;\n",
              "    }\n",
              "\n",
              "    .dataframe thead th {\n",
              "        text-align: right;\n",
              "    }\n",
              "</style>\n",
              "<table border=\"1\" class=\"dataframe\">\n",
              "  <thead>\n",
              "    <tr style=\"text-align: right;\">\n",
              "      <th></th>\n",
              "      <th>grupos_paises</th>\n",
              "      <th>porcentagem</th>\n",
              "      <th>qntd</th>\n",
              "    </tr>\n",
              "  </thead>\n",
              "  <tbody>\n",
              "    <tr>\n",
              "      <th>4</th>\n",
              "      <td>Brazil</td>\n",
              "      <td>4.05</td>\n",
              "      <td>1</td>\n",
              "    </tr>\n",
              "    <tr>\n",
              "      <th>6</th>\n",
              "      <td>Portugal</td>\n",
              "      <td>0.16</td>\n",
              "      <td>1</td>\n",
              "    </tr>\n",
              "    <tr>\n",
              "      <th>5</th>\n",
              "      <td>United States</td>\n",
              "      <td>0.06</td>\n",
              "      <td>1</td>\n",
              "    </tr>\n",
              "    <tr>\n",
              "      <th>3</th>\n",
              "      <td>Italy</td>\n",
              "      <td>0.03</td>\n",
              "      <td>1</td>\n",
              "    </tr>\n",
              "    <tr>\n",
              "      <th>2</th>\n",
              "      <td>Spain, United Kingdom</td>\n",
              "      <td>0.02</td>\n",
              "      <td>2</td>\n",
              "    </tr>\n",
              "    <tr>\n",
              "      <th>1</th>\n",
              "      <td>France, Argentina, Republic of Mozambique, Can...</td>\n",
              "      <td>0.01</td>\n",
              "      <td>8</td>\n",
              "    </tr>\n",
              "    <tr>\n",
              "      <th>0</th>\n",
              "      <td>India, Mexico, Chile, Paraguay, Australia, Col...</td>\n",
              "      <td>0.00</td>\n",
              "      <td>107</td>\n",
              "    </tr>\n",
              "  </tbody>\n",
              "</table>\n",
              "</div>"
            ],
            "text/plain": [
              "                                       grupos_paises  porcentagem  qntd\n",
              "4                                             Brazil         4.05     1\n",
              "6                                           Portugal         0.16     1\n",
              "5                                      United States         0.06     1\n",
              "3                                              Italy         0.03     1\n",
              "2                              Spain, United Kingdom         0.02     2\n",
              "1  France, Argentina, Republic of Mozambique, Can...         0.01     8\n",
              "0  India, Mexico, Chile, Paraguay, Australia, Col...         0.00   107"
            ]
          },
          "metadata": {
            "tags": []
          },
          "execution_count": 38
        }
      ]
    },
    {
      "cell_type": "code",
      "metadata": {
        "id": "pinLDyq5dssx",
        "outputId": "a2d077b0-0dcd-448c-9a43-01ce2906b6a6",
        "colab": {
          "base_uri": "https://localhost:8080/",
          "height": 300
        }
      },
      "source": [
        "print(\"Quantidade de siglas únicas:\", len(l_siglas))\n",
        "print('Relação de grupos de Siglas:')\n",
        "l_siglas_resumido['grupos_siglas'] = agruparPorPorcentagens(l_siglas_resumido, l_siglas, 'sigla')\n",
        "l_siglas_resumido[['grupos_siglas', 'porcentagem', 'qntd']].sort_values(by='porcentagem', ascending=False)"
      ],
      "execution_count": null,
      "outputs": [
        {
          "output_type": "stream",
          "text": [
            "Quantidade de siglas únicas: 120\n",
            "Relação de grupos de Siglas:\n"
          ],
          "name": "stdout"
        },
        {
          "output_type": "execute_result",
          "data": {
            "text/html": [
              "<div>\n",
              "<style scoped>\n",
              "    .dataframe tbody tr th:only-of-type {\n",
              "        vertical-align: middle;\n",
              "    }\n",
              "\n",
              "    .dataframe tbody tr th {\n",
              "        vertical-align: top;\n",
              "    }\n",
              "\n",
              "    .dataframe thead th {\n",
              "        text-align: right;\n",
              "    }\n",
              "</style>\n",
              "<table border=\"1\" class=\"dataframe\">\n",
              "  <thead>\n",
              "    <tr style=\"text-align: right;\">\n",
              "      <th></th>\n",
              "      <th>grupos_siglas</th>\n",
              "      <th>porcentagem</th>\n",
              "      <th>qntd</th>\n",
              "    </tr>\n",
              "  </thead>\n",
              "  <tbody>\n",
              "    <tr>\n",
              "      <th>4</th>\n",
              "      <td>BR</td>\n",
              "      <td>4.05</td>\n",
              "      <td>1</td>\n",
              "    </tr>\n",
              "    <tr>\n",
              "      <th>6</th>\n",
              "      <td>PT</td>\n",
              "      <td>0.16</td>\n",
              "      <td>1</td>\n",
              "    </tr>\n",
              "    <tr>\n",
              "      <th>5</th>\n",
              "      <td>US</td>\n",
              "      <td>0.06</td>\n",
              "      <td>1</td>\n",
              "    </tr>\n",
              "    <tr>\n",
              "      <th>3</th>\n",
              "      <td>IT</td>\n",
              "      <td>0.03</td>\n",
              "      <td>1</td>\n",
              "    </tr>\n",
              "    <tr>\n",
              "      <th>2</th>\n",
              "      <td>ES, GB</td>\n",
              "      <td>0.02</td>\n",
              "      <td>2</td>\n",
              "    </tr>\n",
              "    <tr>\n",
              "      <th>1</th>\n",
              "      <td>FR, AR, MZ, CA, IE, DE, JP, AO</td>\n",
              "      <td>0.01</td>\n",
              "      <td>8</td>\n",
              "    </tr>\n",
              "    <tr>\n",
              "      <th>0</th>\n",
              "      <td>IN, MX, CL, PY, AU, CO, CN, BE, NL, TR, CH, ZA...</td>\n",
              "      <td>0.00</td>\n",
              "      <td>106</td>\n",
              "    </tr>\n",
              "  </tbody>\n",
              "</table>\n",
              "</div>"
            ],
            "text/plain": [
              "                                       grupos_siglas  porcentagem  qntd\n",
              "4                                                 BR         4.05     1\n",
              "6                                                 PT         0.16     1\n",
              "5                                                 US         0.06     1\n",
              "3                                                 IT         0.03     1\n",
              "2                                             ES, GB         0.02     2\n",
              "1                     FR, AR, MZ, CA, IE, DE, JP, AO         0.01     8\n",
              "0  IN, MX, CL, PY, AU, CO, CN, BE, NL, TR, CH, ZA...         0.00   106"
            ]
          },
          "metadata": {
            "tags": []
          },
          "execution_count": 39
        }
      ]
    },
    {
      "cell_type": "code",
      "metadata": {
        "id": "3t9tHfKFxFrw",
        "outputId": "df50826d-bda3-4737-cd8d-b879253f3576",
        "colab": {
          "base_uri": "https://localhost:8080/",
          "height": 517
        }
      },
      "source": [
        "print(\"Quantidade de lugares únicos:\", len(l_lugares))\n",
        "print('Relação de grupos de Lugares:')\n",
        "l_lugares_resumido['grupos_lugares'] = agruparPorPorcentagens(l_lugares_resumido, l_lugares, 'lugar')\n",
        "l_lugares_resumido[['grupos_lugares', 'porcentagem', 'qntd']].sort_values(by='porcentagem', ascending=False)"
      ],
      "execution_count": null,
      "outputs": [
        {
          "output_type": "stream",
          "text": [
            "Quantidade de lugares únicos: 4500\n",
            "Relação de grupos de Lugares:\n"
          ],
          "name": "stdout"
        },
        {
          "output_type": "execute_result",
          "data": {
            "text/html": [
              "<div>\n",
              "<style scoped>\n",
              "    .dataframe tbody tr th:only-of-type {\n",
              "        vertical-align: middle;\n",
              "    }\n",
              "\n",
              "    .dataframe tbody tr th {\n",
              "        vertical-align: top;\n",
              "    }\n",
              "\n",
              "    .dataframe thead th {\n",
              "        text-align: right;\n",
              "    }\n",
              "</style>\n",
              "<table border=\"1\" class=\"dataframe\">\n",
              "  <thead>\n",
              "    <tr style=\"text-align: right;\">\n",
              "      <th></th>\n",
              "      <th>grupos_lugares</th>\n",
              "      <th>porcentagem</th>\n",
              "      <th>qntd</th>\n",
              "    </tr>\n",
              "  </thead>\n",
              "  <tbody>\n",
              "    <tr>\n",
              "      <th>13</th>\n",
              "      <td>Rio de Janeiro</td>\n",
              "      <td>0.51</td>\n",
              "      <td>1</td>\n",
              "    </tr>\n",
              "    <tr>\n",
              "      <th>10</th>\n",
              "      <td>Sao Paulo</td>\n",
              "      <td>0.45</td>\n",
              "      <td>1</td>\n",
              "    </tr>\n",
              "    <tr>\n",
              "      <th>8</th>\n",
              "      <td>Brasília</td>\n",
              "      <td>0.17</td>\n",
              "      <td>1</td>\n",
              "    </tr>\n",
              "    <tr>\n",
              "      <th>7</th>\n",
              "      <td>Porto Alegre, Belo Horizonte</td>\n",
              "      <td>0.11</td>\n",
              "      <td>2</td>\n",
              "    </tr>\n",
              "    <tr>\n",
              "      <th>12</th>\n",
              "      <td>Curitiba</td>\n",
              "      <td>0.09</td>\n",
              "      <td>1</td>\n",
              "    </tr>\n",
              "    <tr>\n",
              "      <th>5</th>\n",
              "      <td>Recife, Fortaleza, Belém</td>\n",
              "      <td>0.08</td>\n",
              "      <td>3</td>\n",
              "    </tr>\n",
              "    <tr>\n",
              "      <th>9</th>\n",
              "      <td>Salvador</td>\n",
              "      <td>0.07</td>\n",
              "      <td>1</td>\n",
              "    </tr>\n",
              "    <tr>\n",
              "      <th>11</th>\n",
              "      <td>Manaus</td>\n",
              "      <td>0.06</td>\n",
              "      <td>1</td>\n",
              "    </tr>\n",
              "    <tr>\n",
              "      <th>6</th>\n",
              "      <td>Goiânia, São Luís</td>\n",
              "      <td>0.05</td>\n",
              "      <td>2</td>\n",
              "    </tr>\n",
              "    <tr>\n",
              "      <th>4</th>\n",
              "      <td>Natal, Lisbon, Niterói, João Pessoa, Florianóp...</td>\n",
              "      <td>0.04</td>\n",
              "      <td>5</td>\n",
              "    </tr>\n",
              "    <tr>\n",
              "      <th>3</th>\n",
              "      <td>Campinas, Nova Iguaçu, Duque de Caxias, São Go...</td>\n",
              "      <td>0.03</td>\n",
              "      <td>7</td>\n",
              "    </tr>\n",
              "    <tr>\n",
              "      <th>2</th>\n",
              "      <td>Santos, Macapá, Santo André, Vila Velha, Vitór...</td>\n",
              "      <td>0.02</td>\n",
              "      <td>10</td>\n",
              "    </tr>\n",
              "    <tr>\n",
              "      <th>1</th>\n",
              "      <td>Cuiabá, Porto Velho, São João de Meriti, Joinv...</td>\n",
              "      <td>0.01</td>\n",
              "      <td>73</td>\n",
              "    </tr>\n",
              "    <tr>\n",
              "      <th>0</th>\n",
              "      <td>Franca, Ciudad Autónoma de Buenos Aires, Casca...</td>\n",
              "      <td>0.00</td>\n",
              "      <td>4392</td>\n",
              "    </tr>\n",
              "  </tbody>\n",
              "</table>\n",
              "</div>"
            ],
            "text/plain": [
              "                                       grupos_lugares  porcentagem  qntd\n",
              "13                                     Rio de Janeiro         0.51     1\n",
              "10                                          Sao Paulo         0.45     1\n",
              "8                                            Brasília         0.17     1\n",
              "7                        Porto Alegre, Belo Horizonte         0.11     2\n",
              "12                                           Curitiba         0.09     1\n",
              "5                            Recife, Fortaleza, Belém         0.08     3\n",
              "9                                            Salvador         0.07     1\n",
              "11                                             Manaus         0.06     1\n",
              "6                                   Goiânia, São Luís         0.05     2\n",
              "4   Natal, Lisbon, Niterói, João Pessoa, Florianóp...         0.04     5\n",
              "3   Campinas, Nova Iguaçu, Duque de Caxias, São Go...         0.03     7\n",
              "2   Santos, Macapá, Santo André, Vila Velha, Vitór...         0.02    10\n",
              "1   Cuiabá, Porto Velho, São João de Meriti, Joinv...         0.01    73\n",
              "0   Franca, Ciudad Autónoma de Buenos Aires, Casca...         0.00  4392"
            ]
          },
          "metadata": {
            "tags": []
          },
          "execution_count": 40
        }
      ]
    },
    {
      "cell_type": "markdown",
      "metadata": {
        "id": "sUGGLAqFaa_l"
      },
      "source": [
        "A respeito da relação quantidade de tweets por mês, temos o seguinte gráfico em barras:"
      ]
    },
    {
      "cell_type": "code",
      "metadata": {
        "id": "yfQO3-8HJrA-"
      },
      "source": [
        "df_original['mes'] = pd.DatetimeIndex(df_original['data']).month"
      ],
      "execution_count": null,
      "outputs": []
    },
    {
      "cell_type": "code",
      "metadata": {
        "id": "O5ELXYQl6Jgq"
      },
      "source": [
        "df_tweets_mes = df_original['mes'].value_counts().to_frame()\n",
        "df_tweets_mes = df_tweets_mes.rename(columns = {'mes':'qntd_mes'})\n",
        "df_tweets_mes['num_mes'] = df_tweets_mes.index\n",
        "df_tweets_mes.reset_index(drop=True, inplace=True)\n",
        "df_tweets_mes = df_tweets_mes.sort_values(by='num_mes')"
      ],
      "execution_count": null,
      "outputs": []
    },
    {
      "cell_type": "code",
      "metadata": {
        "id": "fnnvf40g59dV"
      },
      "source": [
        "def defineNomeMes(num_mes):\n",
        "  if (num_mes == 1):\n",
        "    return 'Janeiro'\n",
        "  elif (num_mes == 2):\n",
        "    return 'Fevereiro'\n",
        "  elif (num_mes == 3):\n",
        "    return 'Março'\n",
        "  elif (num_mes == 4):\n",
        "    return 'Abril'\n",
        "  elif (num_mes == 5):\n",
        "    return 'Maio'\n",
        "  elif (num_mes == 6):\n",
        "    return 'Junho'\n",
        "  elif (num_mes == 7):\n",
        "    return 'Julho'\n",
        "  else:\n",
        "    return 'outro'"
      ],
      "execution_count": null,
      "outputs": []
    },
    {
      "cell_type": "code",
      "metadata": {
        "id": "3b12mGhqXNtR"
      },
      "source": [
        "df_tweets_mes['nome_mes'] = df_tweets_mes.apply(lambda row: defineNomeMes(row['num_mes']), axis = 'columns')"
      ],
      "execution_count": null,
      "outputs": []
    },
    {
      "cell_type": "code",
      "metadata": {
        "id": "rpKxifuaVNEc",
        "outputId": "205f6e63-56b3-450c-b185-b125a5573b67",
        "colab": {
          "base_uri": "https://localhost:8080/",
          "height": 295
        }
      },
      "source": [
        "#Quantidade de Tweets x mês\n",
        "\n",
        "plt.bar(df_tweets_mes.nome_mes, df_tweets_mes.qntd_mes)\n",
        "plt.title('Qntd. de Tweets x Mês')\n",
        "plt.xlabel('Meses')\n",
        "plt.ylabel('Quantidade de Tweets')\n",
        "plt.savefig('qntd_tweets_por_mes_df_original.png')\n",
        "plt.show()"
      ],
      "execution_count": null,
      "outputs": [
        {
          "output_type": "display_data",
          "data": {
            "image/png": "[encoded data removed]",
            "text/plain": [
              "<Figure size 432x288 with 1 Axes>"
            ]
          },
          "metadata": {
            "tags": [],
            "needs_background": "light"
          }
        }
      ]
    },
    {
      "cell_type": "markdown",
      "metadata": {
        "id": "lM_rUKAYctJ2"
      },
      "source": [
        "No gráfico acima, podemos observar que:\n",
        "\n",
        "*   Conforme a COVID-19 é espalhada no exterior a quantidade de tweets sobre o assunto aumenta.\n",
        "*   Chega ao pico no mês de março, onde diversas metrópoles começam a anunciar casos suspeitos e confirmados. \n",
        "*   Em abril ainda temos um número alto de postagens. Trata-se do período em que cidades iniciam o período de quarentena e reforçam mensagens do protocolo de distanciamento social e higiene. \n",
        "*   Nos meses seguintes (maio e junho), há uma queda de aproximadamente 39,68%. Pode-se supor que a queda se dá pela transferência da menção textual ao vírus para menções audiovisuais (memes e vídeos, por exemplo) e/ou para menções que envolvam os termos #quarentena e #fiqueemcasa."
      ]
    },
    {
      "cell_type": "markdown",
      "metadata": {
        "id": "zDeFTdMIwRxt"
      },
      "source": [
        "## Tratamento de Dados"
      ]
    },
    {
      "cell_type": "markdown",
      "metadata": {
        "id": "LL4uILih1M4T"
      },
      "source": [
        "De acordo com os achados apresentados anteriormente, as colunas *usuario*, *lugar*, *pais* e *sigla*. Por conta da natureza dos atributos, *latitude* e *longitude* serão mantidos como estão para uma análise posterior.\n",
        "\n",
        "A seguir, temos o preenchimento de dados aplicados somente nas colunas *usuario*, *lugar*, *pais* e *sigla*. "
      ]
    },
    {
      "cell_type": "code",
      "metadata": {
        "id": "wixhhCC-1Nu2"
      },
      "source": [
        "df_original['usuario'] = df_original['usuario'].fillna('')\n",
        "#df_original['lugar'] = df_original['lugar'].fillna('Não Informado')\n",
        "#df_original['pais'] = df_original['pais'].fillna('Não Informado')\n",
        "#df_original['sigla'] = df_original['sigla'].fillna('Não Informado')"
      ],
      "execution_count": null,
      "outputs": []
    },
    {
      "cell_type": "markdown",
      "metadata": {
        "id": "rIU-hPy1Ai8p"
      },
      "source": [
        "Em uma busca manual, foi percebido que existem tweets em línguas estrangeiras que com o valor **pt** na coluna idioma. Abaixo podemos conferir alguns exemplos:"
      ]
    },
    {
      "cell_type": "code",
      "metadata": {
        "id": "jdLFGYaDAIjS"
      },
      "source": [
        "df_original.loc[[231939, 48469, 711500]]"
      ],
      "execution_count": null,
      "outputs": []
    },
    {
      "cell_type": "markdown",
      "metadata": {
        "id": "3b7c7Z0MA8k6"
      },
      "source": [
        "Inicialmente foram experimentadas algumas das bibliotecas disponíveis para detecção automática de idiomas. Foram elas **langdetect**, **TextBlop** e **googletrans** (um API do Google Tradutor).\n",
        "\n",
        "Langdetect e TextBlop apresentaram limitações quanto ao tamanho do texto (tweet) e a quantidade de requisições seguidas. Já o Google Tradutor, apesar de não ter apresentado nenhum dos impedimentos das bibliotecas mencionadas anteriormente, não se mostrou um tradutor confiável. Ademais, todas as três bibliotecas detectaram idiomas errados diversas vezes (pt -> en e vice-versa). Isto provavelmente se deve ao linguajar informal, que pode conter palavras de outros idiomas (crush, top, le, etc.) ou mesmo reduções de palavras e suas variações (q, pq, tô, to, etc.), que podem dificultar a identificação correta do idioma de um texto. \n",
        "\n",
        "As divergências idiomáticas podem se dar pelos seguintes fatores:\n",
        "* Um país pode ter uma língua oficial, mas possui outras não oficiais.\n",
        "* Um país possui mais de uma língua oficial.\n",
        "* O usuário do twitter é poliglota.\n",
        "\n",
        "Portanto, o idioma informado no dataset não é um bom indicador de localização geográfica. "
      ]
    },
    {
      "cell_type": "markdown",
      "metadata": {
        "id": "G6M64__5yLjK"
      },
      "source": [
        "Ainda na busca manual, foi conferido que existem itens repetidos:"
      ]
    },
    {
      "cell_type": "code",
      "metadata": {
        "id": "P3KeKo4K_Ssn"
      },
      "source": [
        "df_original.loc[[1211517, 1231661]]"
      ],
      "execution_count": null,
      "outputs": []
    },
    {
      "cell_type": "markdown",
      "metadata": {
        "id": "aCBe6VAR_TWD"
      },
      "source": [
        "Para tanto, foi aplicada a função de remoção de linhas duplicadas:"
      ]
    },
    {
      "cell_type": "code",
      "metadata": {
        "id": "4LI4lnVk9XHh",
        "outputId": "958915d1-73de-408f-f16b-edb36f6e291b",
        "colab": {
          "base_uri": "https://localhost:8080/",
          "height": 51
        }
      },
      "source": [
        "df_reduzida = pd.DataFrame.drop_duplicates(df_original)\n",
        "print('Foram removidas', df_original.shape[0] - df_reduzida.shape[0], 'linhas.')\n",
        "print('Quantidade atual de linhas: '+ format(df_reduzida.shape[0])+'.')"
      ],
      "execution_count": null,
      "outputs": [
        {
          "output_type": "stream",
          "text": [
            "Foram removidas 2 linhas.\n",
            "Quantidade atual de linhas: 1658823 .\n"
          ],
          "name": "stdout"
        }
      ]
    },
    {
      "cell_type": "markdown",
      "metadata": {
        "id": "EG-3sUUG_CNm"
      },
      "source": [
        "A remoção da linhas duplicadas mostra que haviam 3 tweets iguais no dataset. Somente uma delas permaneceu no dataset."
      ]
    },
    {
      "cell_type": "markdown",
      "metadata": {
        "id": "AVbPvSwmTgAH"
      },
      "source": [
        "###**Métodos de Detecção de Perguntas**\n"
      ]
    },
    {
      "cell_type": "markdown",
      "metadata": {
        "id": "QWxRheJiIZUY"
      },
      "source": [
        "Foram desevolvidas duas funções que auxiliam na aquisição de um trecho específico de um tweet, o que contém a(s) pergunta(s). Cada pergunta se torna um novo item em um novo dataframe (df_duvidas). O novo dataframe contém o índice do dataframe original (df_reduzida) e seus respectivos dados para uso posterior. Como delimitador, buscamos apenas frases que terminem com ponto de interrogação. "
      ]
    },
    {
      "cell_type": "code",
      "metadata": {
        "id": "YnokQMxwkuAL"
      },
      "source": [
        "def get_question_by_text(text):\n",
        "  questions = []\n",
        "  text = text.replace('\\n', ' ')\n",
        "\n",
        "  regular_expression = '(\\S[^?.!]*[?!.]*)*'\n",
        "  sentences = re.split(regular_expression, text)\n",
        "  for sentence in sentences:\n",
        "    if not sentence.isspace() and '?' in sentence:\n",
        "      questions.append(sentence)\n",
        "  return questions\n",
        "\n",
        "def extract_questions(df_reduzida):\n",
        "  dic = []\n",
        "  for index, row in df_reduzida.iterrows():\n",
        "\n",
        "    questions = get_question_by_text(row['texto'])\n",
        "\n",
        "    for question in questions:\n",
        "\n",
        "      dic.append({'id': index, \n",
        "                  'pergunta': question,\n",
        "                  'idioma': row['idioma'],\n",
        "                  'data': row['data'], \n",
        "                  'apelido': row['apelido'], \n",
        "                  'retweet': row['retweet'],\n",
        "                  'seguidores': row['seguidores'],\n",
        "                  'lugar': row['lugar'],\n",
        "                  'pais': row['pais'],\n",
        "                  'sigla': row['sigla'],\n",
        "                  'latitude': row['latitude'],\n",
        "                  'longitude': row['longitude'],\n",
        "                  'hashtags': row['hashtags']})\n",
        "  \n",
        "  df_questions = pd.DataFrame(dic, \n",
        "                              columns = ['id',\n",
        "                                         'pergunta',\n",
        "                                         'idioma',\n",
        "                                         'data',\n",
        "                                         'apelido',\n",
        "                                         'retweet',\n",
        "                                         'seguidores',\n",
        "                                         'lugar',\n",
        "                                         'pais',\n",
        "                                         'sigla',\n",
        "                                         'latitude',\n",
        "                                         'longitude',\n",
        "                                         'hashtags'])\n",
        "  return df_questions"
      ],
      "execution_count": null,
      "outputs": []
    },
    {
      "cell_type": "code",
      "metadata": {
        "id": "sObLZfll6tQm",
        "outputId": "94991fa0-fb14-44c3-b211-82343d820828",
        "colab": {
          "base_uri": "https://localhost:8080/",
          "height": 51
        }
      },
      "source": [
        "df_duvidas = extract_questions(df_reduzida)"
      ],
      "execution_count": null,
      "outputs": [
        {
          "output_type": "stream",
          "text": [
            "/usr/lib/python3.6/re.py:212: FutureWarning: split() requires a non-empty pattern match.\n",
            "  return _compile(pattern, flags).split(string, maxsplit)\n"
          ],
          "name": "stderr"
        }
      ]
    },
    {
      "cell_type": "markdown",
      "metadata": {
        "id": "pxZrGInSfuz9"
      },
      "source": [
        "###**Classificação das Perguntas**"
      ]
    },
    {
      "cell_type": "markdown",
      "metadata": {
        "id": "3JuZhmeZgJ5Y"
      },
      "source": [
        "Os códigos das células abaixo mostarão as 50 palavras/termos mais comuns dentre os tweets. Esse mecanismo foi utilizado para auxiliar na produção de um dicionário contendo palavras-chaves que indicarão a classificação do tweet em questão. "
      ]
    },
    {
      "cell_type": "code",
      "metadata": {
        "id": "Xx27BVmie3_Q"
      },
      "source": [
        "#Adquirindo uma lista de stopword, presente no Drive compartilhado.\n",
        "stopwords = set(line.strip() for line in open ('/content/drive/Shared drives/trabalhoPratico_programacaoDS/pt_stop_words.txt'))"
      ],
      "execution_count": null,
      "outputs": []
    },
    {
      "cell_type": "code",
      "metadata": {
        "id": "9uv1s0FCe9JY"
      },
      "source": [
        "#Instanciar um dicionário onde, para cada palavra contada, a palavra (inexistente no dict).\n",
        "#Se já existir, sua contagem incrementa.\n",
        "\n",
        "wordcount = {}\n",
        "\n",
        "for index, row in df_duvidas.iterrows():\n",
        "  for word in row['pergunta'].lower().split():\n",
        "      word = word.replace(\".\",\"\")\n",
        "      word = word.replace(\",\",\"\")\n",
        "      word = word.replace(\":\",\"\")\n",
        "      word = word.replace(\"\\\"\",\"\")\n",
        "      word = word.replace(\"!\",\"\")\n",
        "      word = word.replace(\"â€œ\",\"\")\n",
        "      word = word.replace(\"â€˜\",\"\")\n",
        "      word = word.replace(\"*\",\"\")\n",
        "      word = word.replace(\"?\",\"\")\n",
        "      word = word.replace(\"+\",\"\")\n",
        "      if word not in stopwords:\n",
        "          if word not in wordcount:\n",
        "              wordcount[word] = 1\n",
        "          else:\n",
        "              wordcount[word] += 1"
      ],
      "execution_count": null,
      "outputs": []
    },
    {
      "cell_type": "code",
      "metadata": {
        "id": "9HfWszLbfE4Y"
      },
      "source": [
        "#Imprime as palavras mais repetidas:\n",
        "#n_print = int(input(\"Informar a quantidade de palavras desejada: \"))\n",
        "n_print = 50\n",
        "\n",
        "print(\"As {} palavras mais mencionadas são as seguintes:\".format(n_print))\n",
        "word_counter = collections.Counter(wordcount)\n",
        "\n",
        "for word, count in word_counter.most_common(n_print):\n",
        "    print(word, \": \", count)"
      ],
      "execution_count": null,
      "outputs": []
    },
    {
      "cell_type": "markdown",
      "metadata": {
        "id": "xTxaiM-vgkHj"
      },
      "source": [
        "Abaixo, temos o dicionário que gerado manualmente. Sua construção também tem base em pesquisas a parte. "
      ]
    },
    {
      "cell_type": "code",
      "metadata": {
        "id": "u6QauzNBia0P"
      },
      "source": [
        "dict_categorias = {\n",
        "'cura':'Medicamento',\n",
        "'doença':'Doença',\n",
        "'pandemia':'Doença',\n",
        "'corona':'Doença',\n",
        "'coronavírus':'Doença',\n",
        "'coronavirus':'Doença',\n",
        "'coronga':'Doença',\n",
        "'covid-19':'Doença',\n",
        "'covid19':'Doença',\n",
        "'covid':'Doença',\n",
        "'sars-cov-2':'Doença',\n",
        "'tratamento':'Medicamento',\n",
        "'curar':'Medicamento',\n",
        "'cloroquina':'Medicamento',\n",
        "'hidroxicloroquina':'Medicamento',\n",
        "'ministro':'Pessoas',\n",
        "'ministério':'Organizações',\n",
        "'emissora':'Organizações',\n",
        "'jornal':'Organizações',\n",
        "'contra':'Medicamento',\n",
        "'combate': 'Medicamento',\n",
        "'especialista':'Pessoas',\n",
        "'mandetta':'Pessoas',\n",
        "'melhora':'Medicamento',\n",
        "'sintoma':'Doença',\n",
        "'sintomas':'Doença',\n",
        "'caso':'Doença',\n",
        "'casos':'Doença',\n",
        "'vacina':'Medicamento',\n",
        "'vacinas':'Medicamento',\n",
        "'tamiflu':'Medicamento',\n",
        "'covidao':'Doença',\n",
        "'infecção': 'Doença',\n",
        "'contágio':'Doença',\n",
        "'atazanavir':'Medicamento',\n",
        "'remdesivir':'Medicamento',\n",
        "'ivermectina':'Medicamento',\n",
        "'azitromicina':'Medicamento',\n",
        "'who':'Organizações',\n",
        "'oms':'Organizações',\n",
        "'organização':'Organizações',\n",
        "'organizações':'Organizações',\n",
        "'coriza':'Doença',\n",
        "'dor':'Doença',\n",
        "'febre':'Doença',\n",
        "'falta':'Doença',\n",
        "'ar':'Doença',\n",
        "'tosse':'Doença',\n",
        "'fiocruz':'Organizações',\n",
        "'fundação': 'Organizações',\n",
        "'fundações': 'Organizações',\n",
        "'funasa':'Organizações',\n",
        "'opas':'Organizações',\n",
        "'pan-americana': 'Organizações',\n",
        "'teich':'Pessoas',\n",
        "'etienne':'Pessoas',\n",
        "'@jairbolsonaro':'Pessoas',\n",
        "'bolsonaro':'Pessoas',\n",
        "'@lhmandetta':'Pessoas',\n",
        "'vírus':'Doença',\n",
        "'virus':'Doença',\n",
        "'@jdoriajr':'Pessoas',\n",
        "'doria':'Pessoas',\n",
        "'dória':'Pessoas',\n",
        "'@bolsonarosp':'Pessoas',\n",
        "'@veramagalhaes':'Pessoas',\n",
        "'@minsaude':'Organizações',\n",
        "'@folha':'Organizações',\n",
        "'@estadao':'Organizações',\n",
        "'folha':'Organizações',\n",
        "'Estadão':'Organizações',\n",
        "'@rodrigomaia':'Pessoas',\n",
        "'@g1':'Organizações',\n",
        "'g1':'Organizações',\n",
        "'@teichnelson':'Pessoas',\n",
        "'@wilsonwitzel':'Pessoas',\n",
        "'@o_antagonista':'Pessoas',\n",
        "'@cnnbrasil':'Organizações',\n",
        "'@rconstantino':'Pessoas',\n",
        "'@uolnoticias':'Organizações',\n",
        "'ivermectina':'Medicamento',\n",
        "'@osmarterra':'Pessoas',\n",
        "'@carlosbolsonaro':'Pessoas',\n",
        "'@bbcbrasil':'Organizações',\n",
        "'trump':'Pessoas',\n",
        "'uso':'Medicamento',\n",
        "'mascara':'Medicamento',\n",
        "'máscara':'Medicamento',\n",
        "'alcool':'Medicamento',\n",
        "'álcool':'Medicamento',\n",
        "'gel':'Medicamento',\n",
        "'70%':'Medicamento',\n",
        "'combater':'Medicamento'\n",
        "}"
      ],
      "execution_count": 1,
      "outputs": []
    },
    {
      "cell_type": "markdown",
      "metadata": {
        "id": "fL2Z4Ep8g-sT"
      },
      "source": [
        "A função classificador() recebe a pergunta e cada palavra da frase é comparada aos termos existentes no dicionário. Se iguais, o retorno é a categoria respectiva da palavra. Caso não sejam iguais, a categoria devolvida é *Outro*, que pode ser definida por diversas peculiaridades (a pergunta está em outro idioma, o contexto não faz referência direta ao vírus, etc.)."
      ]
    },
    {
      "cell_type": "code",
      "metadata": {
        "id": "wEImd2iwmd5U"
      },
      "source": [
        "#Função classificadora de tuítes\n",
        "#Recebe o texto do tuíte e retorna a classificação\n",
        "\n",
        "def classificador(texto):\n",
        "  t = texto.split()\n",
        "\n",
        "  for palavra in t:\n",
        "    l = len(palavra)\n",
        "\n",
        "    if ( palavra[l-1] == '?'):\n",
        "      palavra = palavra[:-1]\n",
        "      \n",
        "    for key, value in dict_categorias.items():\n",
        "      if ( palavra.lower() == key):\n",
        "        return value\n",
        "\n",
        "  return 'Outro'"
      ],
      "execution_count": null,
      "outputs": []
    },
    {
      "cell_type": "markdown",
      "metadata": {
        "id": "sGGzXj-uhoa9"
      },
      "source": [
        "Abaixo temos o dataframe atualizado com as categorias das suas respectivas perguntas. "
      ]
    },
    {
      "cell_type": "code",
      "metadata": {
        "id": "ac8drrKKfzn1"
      },
      "source": [
        "df_duvidas['categoria'] = df_duvidas.apply(lambda row: classificador(row['pergunta']), axis = 'columns')"
      ],
      "execution_count": null,
      "outputs": []
    },
    {
      "cell_type": "markdown",
      "metadata": {
        "id": "Y4Gx41K33Mss"
      },
      "source": [
        "##**Análise Geográfica**"
      ]
    },
    {
      "cell_type": "code",
      "metadata": {
        "id": "DhJBjqwC3Re3"
      },
      "source": [
        "#Criação de um dataframe específico para análise geográfica.\n",
        "df_geo = df_duvidas[['id', 'categoria', 'idioma', 'pais', 'sigla', 'lugar', 'latitude', 'longitude']].copy()"
      ],
      "execution_count": null,
      "outputs": []
    },
    {
      "cell_type": "markdown",
      "metadata": {
        "id": "wPqNn3Da3mOa"
      },
      "source": [
        "###Visão Geográfica Geral"
      ]
    },
    {
      "cell_type": "code",
      "metadata": {
        "id": "YQmfbke23jBO"
      },
      "source": [
        ""
      ],
      "execution_count": null,
      "outputs": []
    },
    {
      "cell_type": "markdown",
      "metadata": {
        "id": "x4Tla69G3qg0"
      },
      "source": [
        "###Visão Mapeada"
      ]
    },
    {
      "cell_type": "code",
      "metadata": {
        "id": "N0FD1ciE30mS"
      },
      "source": [
        "world = gpd.read_file(gpd.datasets.get_path('naturalearth_lowres'))"
      ],
      "execution_count": null,
      "outputs": []
    },
    {
      "cell_type": "code",
      "metadata": {
        "id": "sNu0pXro31SA"
      },
      "source": [
        "#Devolve um dataframe filtrado com a categoria informada\n",
        "#Se tiver uma coluna geometry, a função a exclue.\n",
        "\n",
        "def get_df_geo_categoria(df, categoria):\n",
        "\n",
        "  if ('geometry' in df):\n",
        "    df.drop(['geometry'], axis=1, inplace = True)\n",
        "\n",
        "  return df.query('categoria == @categoria')"
      ],
      "execution_count": null,
      "outputs": []
    },
    {
      "cell_type": "code",
      "metadata": {
        "id": "-xCNymfG35Aj"
      },
      "source": [
        "#Gera um dataframe (a partir de outro) filtrando por país específico.\n",
        "\n",
        "def get_df_geo_pais(df, pais):\n",
        "  return df.query('pais == @pais')"
      ],
      "execution_count": null,
      "outputs": []
    },
    {
      "cell_type": "code",
      "metadata": {
        "id": "4YAihgte35ik"
      },
      "source": [
        "#Função Geradora de geodataframe\n",
        "\n",
        "def get_geodataframe(df):\n",
        "  return GeoDataFrame(df, geometry = gpd.points_from_xy(df.latitude, df.longitude))"
      ],
      "execution_count": null,
      "outputs": []
    },
    {
      "cell_type": "code",
      "metadata": {
        "id": "em0WfPXU4ISV"
      },
      "source": [
        "#Seleção de dataframes organizados por categorias:\n",
        "#Também inclui a exclusão da coluna geometry (originária do df_geo)\n",
        "\n",
        "#Categoria Doença\n",
        "df_geo_doenca = get_df_geo_categoria(df_geo, 'Doença')\n",
        "#df_geo_doenca = df_geo_doenca.drop(['geometry'], axis=1)\n",
        "\n",
        "#Categoria Medicamento\n",
        "df_geo_med = get_df_geo_categoria(df_geo, 'Medicamento')\n",
        "#df_geo_med = df_geo_med.drop(['geometry'], axis=1) \n",
        "\n",
        "#Categoria Organizações\n",
        "df_geo_org = get_df_geo_categoria(df_geo, 'Organizações')\n",
        "#df_geo_org = df_geo_org.drop(['geometry'], axis=1) \n",
        "\n",
        "#Categoria Pessoas\n",
        "df_geo_pe = get_df_geo_categoria(df_geo, 'Pessoas')\n",
        "#df_geo_pe = df_geo_pe.drop(['geometry'], axis=1) \n",
        "\n",
        "#Categoria Outro\n",
        "df_geo_outro = get_df_geo_categoria(df_geo, 'Outro')\n",
        "#df_geo_outro = df_geo_outro.drop(['geometry'], axis=1) "
      ],
      "execution_count": null,
      "outputs": []
    },
    {
      "cell_type": "code",
      "metadata": {
        "id": "pX4N-ygr4LEL"
      },
      "source": [
        "#Geração de geodataframes de cada categoria:\n",
        "\n",
        "gdf_doenca = get_geodataframe(df_geo_doenca)\n",
        "\n",
        "gdf_med = get_geodataframe(df_geo_med)\n",
        "\n",
        "gdf_org = get_geodataframe(df_geo_org)\n",
        "\n",
        "gdf_pe = get_geodataframe(df_geo_pe)\n",
        "\n",
        "gdf_outro = get_geodataframe(df_geo_outro)"
      ],
      "execution_count": null,
      "outputs": []
    },
    {
      "cell_type": "code",
      "metadata": {
        "id": "idIAchOV4MjU"
      },
      "source": [
        "#Gera gráfico de distribuição mundial das categorias das perguntas\n",
        "\n",
        "ax = world.plot(color='white', \n",
        "                marker = 'o', \n",
        "                edgecolor='grey', \n",
        "                markersize = 20,\n",
        "                figsize=(16, 10))\n",
        "\n",
        "#ax = plt.gca()\n",
        "\n",
        "gdf_outro.plot(ax=ax, color='brown', label = 'Outro')\n",
        "gdf_doenca.plot(ax=ax, color='gold', label = 'Doença')\n",
        "gdf_med.plot(color='blue', ax=ax, label = 'Medicamento')\n",
        "gdf_org.plot(ax=ax, color='fuchsia', label = 'Organizações')\n",
        "gdf_pe.plot(ax=ax, color='lime', label = 'Pessoas')\n",
        "\n",
        "ax.set_title('Distribuição Mundial - Categorias de Perguntas',fontsize=20)\n",
        "ax.axis('off')\n",
        "\n",
        "plt.legend(loc = 'center left')\n",
        "plt.savefig('geo_visao_mundial_categorias.png')\n",
        "plt.show()"
      ],
      "execution_count": null,
      "outputs": []
    },
    {
      "cell_type": "markdown",
      "metadata": {
        "id": "9P9iPuAB4X49"
      },
      "source": [
        "De acordo com o gráfico acima, verifica-se que a maior parte dos tweets foi postada por usuários que estavam no Brasil, com maior concentração nas áreas litorâneas e centro-sul. \n",
        "\n",
        "Ainda se nota que a Europa Ocidental e alguns territórios do continente africano também concentram uma parte significante de postagem de tweets contendo perguntas. \n",
        "\n",
        "No entanto, o continente africano, assim como a China, contém apenas perguntas não diretamente relacionadas com as categorias Doença, Medicamento, Organizações e Pessoas. As perguntas, então, podem envolver contextos diferentes como opiniões e visões pessoais, a quarentena e os protocolos de segurança e higiene - distanciamento social, uso de álcool gel 70%, lavar as mãos com frequência, uso de máscaras, etc.\n"
      ]
    },
    {
      "cell_type": "markdown",
      "metadata": {
        "id": "xhd8cLxu4blm"
      },
      "source": [
        "Em resumo, podemos afirmar que a maior parte das perguntas foi realizada por usuários presentes no Brasil e as categorias de perguntas mais frequentes são, respectivamente:\n",
        "1.   Doença\n",
        "2.   Medicamento\n",
        "3.   Organizações\n",
        "4.   Pessoas\n"
      ]
    },
    {
      "cell_type": "markdown",
      "metadata": {
        "id": "5QEqnrjy4fMn"
      },
      "source": [
        "###Perguntas realizadas no Brasil"
      ]
    },
    {
      "cell_type": "markdown",
      "metadata": {
        "id": "X5Yj62yH4ksS"
      },
      "source": [
        "Como visto anteriormente, o Brasil concentra a maior quantidade de perguntas realizadas por usuários, além de ser o único país no mundo a ter ocorrências únicas nas categorias Organizações e Pessoas. Esta última afirmação pode se dar pela barreira idiomática, já que em algumas línguas estrangeiras (japonês, por exemplo) que não dependem do ponto de interrogação para identificar perguntas na escrita. "
      ]
    },
    {
      "cell_type": "markdown",
      "metadata": {
        "id": "CB4HFjZ35KYD"
      },
      "source": [
        "####Visão Regional"
      ]
    },
    {
      "cell_type": "code",
      "metadata": {
        "id": "cB6BqVaP4WEb"
      },
      "source": [
        "#Função que renderiza textos em mapas\n",
        "def text(x, y, text):\n",
        "    ax.text(x, y, text,\n",
        "            ha='center', va='top', weight='bold', color='black')"
      ],
      "execution_count": null,
      "outputs": []
    },
    {
      "cell_type": "code",
      "metadata": {
        "id": "coX---5o4noW"
      },
      "source": [
        "brazil_regioes = gpd.read_file('/content/drive/Shared drives/trabalhoPratico_programacaoDS/shapes/regioes_2010.shp')"
      ],
      "execution_count": null,
      "outputs": []
    },
    {
      "cell_type": "code",
      "metadata": {
        "id": "6AQ-jCy74pTH"
      },
      "source": [
        "#df_geo_brazil = df_geo.query(\"(pais=='Brazil')\")\n",
        "df_geo_brazil = get_df_geo_pais(df, 'Brazil')"
      ],
      "execution_count": null,
      "outputs": []
    },
    {
      "cell_type": "code",
      "metadata": {
        "id": "TKk5W8Ec4sd4"
      },
      "source": [
        "#gdf_brazil = GeoDataFrame(df_geo_brazil, geometry = gpd.points_from_xy(df_geo_brazil.latitude, df_geo_brazil.longitude))\n",
        "gdf_brazil = get_geodataframe(df_geo_brazil)"
      ],
      "execution_count": null,
      "outputs": []
    },
    {
      "cell_type": "code",
      "metadata": {
        "id": "IhNtd3UQ4wn7"
      },
      "source": [
        "#Gera gráfico, com divisórias regionais, da distribuição\n",
        "#geográfica das categorias\n",
        "\n",
        "ax = brazil_regioes.plot(color = 'ghostwhite',\n",
        "                         linewidth=.6, \n",
        "                         marker = 'D',\n",
        "                         markersize = 50,\n",
        "                         edgecolor='grey',\n",
        "                         figsize=(10, 8))\n",
        "\n",
        "text(-55, 5, \"NORTE\")\n",
        "text(-62, -17, \"CENTRO-OESTE\")\n",
        "text(-40, -1, \"NORDESTE\")\n",
        "text(-41, -24, \"SUDESTE\")\n",
        "text(-49, -32, \"SUL\")\n",
        "\n",
        "ax = plt.gca()\n",
        "\n",
        "gdf_outro = get_df_geo_pais(gdf_outro, 'Brazil')\n",
        "gdf_outro.plot(ax=ax, color='brown', label = 'Outro')\n",
        "\n",
        "gdf_doenca = get_df_geo_pais(gdf_doenca, 'Brazil')\n",
        "gdf_doenca.plot(ax=ax, color='gold', label = 'Doença')\n",
        "\n",
        "gdf_med = get_df_geo_pais(gdf_med, 'Brazil')\n",
        "gdf_med.plot(color='blue', ax=ax, label = 'Medicamento')\n",
        "\n",
        "gdf_org = get_df_geo_pais(gdf_org, 'Brazil')\n",
        "gdf_org.plot(ax=ax, color='fuchsia', label = 'Organizações')\n",
        "\n",
        "gdf_pe = get_df_geo_pais(gdf_pe, 'Brazil')\n",
        "gdf_pe.plot(ax=ax, color='lime', label = 'Pessoas')\n",
        "\n",
        "ax.axis('off')\n",
        "\n",
        "plt.legend(loc = 'upper right')\n",
        "\n",
        "ax.set_title('Distribuição por Regiões do Brasil',fontsize=20)\n",
        "\n",
        "plt.tight_layout()\n",
        "plt.savefig('geo_visao_regional_brazil.png')"
      ],
      "execution_count": null,
      "outputs": []
    },
    {
      "cell_type": "markdown",
      "metadata": {
        "id": "LzRdv8sE5Bd3"
      },
      "source": [
        "Com a visualização acima, podemos afirmar que o Sudeste é a região que tende a fazer perguntas de diversos contextos, seguido do Nordeste. "
      ]
    },
    {
      "cell_type": "markdown",
      "metadata": {
        "id": "1v2scEHp5EJN"
      },
      "source": [
        "####Visão Estadual"
      ]
    },
    {
      "cell_type": "code",
      "metadata": {
        "id": "Hp9wcVQT4_82"
      },
      "source": [
        "brazil_estados = gpd.read_file('/content/drive/Shared drives/trabalhoPratico_programacaoDS/shapes/estados_2010.shp')"
      ],
      "execution_count": null,
      "outputs": []
    },
    {
      "cell_type": "code",
      "metadata": {
        "id": "i2d7Fr2P5Qbq"
      },
      "source": [
        "#Gera gráfico, com divisórias estaduais, da distribuição\n",
        "#geográfica das categorias\n",
        "\n",
        "ax = brazil_estados.plot(color='ghostwhite', \n",
        "                         edgecolor='grey', \n",
        "                         marker = 'D',\n",
        "                         markersize = 50,\n",
        "                         figsize=(10, 8))\n",
        "\n",
        "gdf_outro.plot(ax=ax, color='brown', label = 'Outro')\n",
        "gdf_doenca.plot(ax=ax, color='gold', label = 'Doença')\n",
        "gdf_med.plot(color='blue', ax=ax, label = 'Medicamento')\n",
        "gdf_org.plot(ax=ax, color='fuchsia', label = 'Organizações')\n",
        "gdf_pe.plot(ax=ax, color='lime', label = 'Pessoas')\n",
        "\n",
        "#Colocando tags nos estados\n",
        "text(-73, -11, \"AC\")\n",
        "text(-73, -3, \"AM\")\n",
        "text(-63, 6, \"RR\")\n",
        "text(-65, -13, \"RO\")\n",
        "text(-53, 4, \"AP\")\n",
        "\n",
        "text(-53, -7, \"PA\")\n",
        "text(-62, -16, \"MT\")\n",
        "text(-60, -20, \"MS\")\n",
        "text(-56, -25, \"PR\")\n",
        "text(-47, -27, \"SC\")\n",
        "\n",
        "text(-50, -32, \"RS\")\n",
        "text(-43, 0, \"MA\")\n",
        "text(-48, -11, \"TO\")\n",
        "text(-51, -17, \"GO\")\n",
        "text(-45, -24, \"SP\")\n",
        "\n",
        "text(-44, -8, \"PI\")\n",
        "text(-37, -14, \"BA\")\n",
        "text(-45, -18, \"MG\")\n",
        "text(-39, -1.5, \"CE\")\n",
        "text(-34, -4, \"RN\")\n",
        "\n",
        "text(-33, -6.5, \"PB\")\n",
        "text(-33.5, -8, \"PE\")\n",
        "text(-34, -9, \"AL\")\n",
        "text(-36, -11, \"SE\")\n",
        "text(-39, -19.5, \"ES\")\n",
        "text(-40, -22, \"RJ\")\n",
        "#\n",
        "\n",
        "ax.set_title('Distribuição por Estados do Brasil',fontsize=20)\n",
        "ax.axis('off')\n",
        "\n",
        "plt.legend(loc = 'upper right')\n",
        "plt.savefig('geo_visao_estadual_brazil.png')\n",
        "plt.show()"
      ],
      "execution_count": null,
      "outputs": []
    },
    {
      "cell_type": "markdown",
      "metadata": {
        "id": "gZ2RR53y6tbD"
      },
      "source": [
        "Considerando a densidade demográfica populacional, temos a seguinte visualização:"
      ]
    },
    {
      "cell_type": "code",
      "metadata": {
        "id": "uDFl2uwA6l4-"
      },
      "source": [
        "brazil_municipios = gpd.read_file('/content/drive/Shared drives/trabalhoPratico_programacaoDS/shapes/municipios_2010.shp')"
      ],
      "execution_count": null,
      "outputs": []
    },
    {
      "cell_type": "code",
      "metadata": {
        "id": "1DPH7848656O"
      },
      "source": [
        "#A quantidade populacional e índices estaduais estão em formato de string.\n",
        "#Casting nos valores das colunas é necessário.\n",
        "\n",
        "brazil_municipios = brazil_municipios.astype({\"populacao\":'int64', \"estado_id\":'int64'}) "
      ],
      "execution_count": null,
      "outputs": []
    },
    {
      "cell_type": "code",
      "metadata": {
        "id": "tjrbCc5B7Ot2"
      },
      "source": [
        "#Gera gráfico, com divisórias estaduais, \n",
        "\n",
        "ax = brazil_municipios.plot(color='ghostwhite', \n",
        "                         edgecolor='grey', \n",
        "                         marker = 'D',\n",
        "                         markersize = 50,\n",
        "                         figsize=(10, 8))\n",
        "\n",
        "gdf_outro.plot(ax=ax, color='brown', label = 'Outro')\n",
        "gdf_doenca.plot(ax=ax, color='gold', label = 'Doença')\n",
        "gdf_med.plot(color='blue', ax=ax, label = 'Medicamento')\n",
        "gdf_org.plot(ax=ax, color='fuchsia', label = 'Organizações')\n",
        "gdf_pe.plot(ax=ax, color='lime', label = 'Pessoas')\n",
        "\n",
        "#Colocando tags nos estados\n",
        "text(-73, -11, \"AC\")\n",
        "text(-73, -3, \"AM\")\n",
        "text(-63, 6, \"RR\")\n",
        "text(-65, -13, \"RO\")\n",
        "text(-53, 4, \"AP\")\n",
        "\n",
        "text(-53, -7, \"PA\")\n",
        "text(-62, -16, \"MT\")\n",
        "text(-60, -20, \"MS\")\n",
        "text(-56, -25, \"PR\")\n",
        "text(-47, -27, \"SC\")\n",
        "\n",
        "text(-50, -32, \"RS\")\n",
        "text(-43, 0, \"MA\")\n",
        "text(-48, -11, \"TO\")\n",
        "text(-51, -17, \"GO\")\n",
        "text(-45, -24, \"SP\")\n",
        "\n",
        "text(-44, -8, \"PI\")\n",
        "text(-37, -14, \"BA\")\n",
        "text(-45, -18, \"MG\")\n",
        "text(-39, -1.5, \"CE\")\n",
        "text(-34, -4, \"RN\")\n",
        "\n",
        "text(-33, -6.5, \"PB\")\n",
        "text(-33.5, -8, \"PE\")\n",
        "text(-34, -9, \"AL\")\n",
        "text(-36, -11, \"SE\")\n",
        "text(-39, -19.5, \"ES\")\n",
        "text(-40, -22, \"RJ\")\n",
        "\n",
        "\n",
        "ax.set_title('Distribuição por  do Brasil',fontsize=20)\n",
        "#ax.axis('off')\n",
        "\n",
        "plt.legend(loc = 'upper right')\n",
        "plt.savefig('geo_visao_estadual_brazil.png')\n",
        "plt.show()"
      ],
      "execution_count": null,
      "outputs": []
    },
    {
      "cell_type": "code",
      "metadata": {
        "id": "z1T1ADbF8PjH"
      },
      "source": [
        "def cont_populacao_estadual(id): #id do estado\n",
        "  #populacao = []\n",
        "  cont = 0\n",
        "  lista = brazil_municipios[brazil_municipios['estado_id'] == id]\n",
        "          #brazil_municipios[brazil_municipios['uf'] == 'AM']\n",
        "\n",
        "  for index, row in lista.iterrows():\n",
        "    cont = cont + row['populacao']\n",
        "\n",
        "  return cont"
      ],
      "execution_count": null,
      "outputs": []
    },
    {
      "cell_type": "code",
      "metadata": {
        "id": "zU1a-sAU8QhY"
      },
      "source": [
        "brazil_estados['populacao'] = brazil_estados.apply(lambda row: cont_populacao_estadual(row['id']), axis = 'columns')"
      ],
      "execution_count": null,
      "outputs": []
    },
    {
      "cell_type": "code",
      "metadata": {
        "id": "A7qLQryj8Sb_"
      },
      "source": [
        "#Gera gráfico da distribuição das categorias por divisão estadual \n",
        "#em densidades demográficas populacionais.\n",
        "\n",
        "ax = world[world.name == 'Brazil'].plot(color='white', \n",
        "                                         edgecolor='grey',\n",
        "                                         figsize=(10, 8))\n",
        "\n",
        "brazil_estados.plot(column='populacao',\n",
        "           #figsize=(25, 20),\n",
        "           #legend=True,\n",
        "           cmap='coolwarm',\n",
        "           legend=True,\n",
        "           ax=ax)\n",
        "\n",
        "gdf_outro.plot(ax=ax, color='black', label = 'Outro')\n",
        "gdf_doenca.plot(ax=ax, color='gold', label = 'Doença')\n",
        "gdf_med.plot(color='blue', ax=ax, label = 'Medicamento')\n",
        "gdf_org.plot(ax=ax, color='fuchsia', label = 'Organizações')\n",
        "gdf_pe.plot(ax=ax, color='lime', label = 'Pessoas')\n",
        "\n",
        "ax.set_title('Distribuição por Municípios do Brasil',fontsize=20)\n",
        "ax.axis('off')\n",
        "\n",
        "plt.legend(loc = 'upper right')\n",
        "plt.savefig('geo_visao_municipal_brazil.png')\n",
        "plt.show()"
      ],
      "execution_count": null,
      "outputs": []
    },
    {
      "cell_type": "markdown",
      "metadata": {
        "id": "H2zRzqQRpfWh"
      },
      "source": [
        "##**Análise Temporal**\n"
      ]
    },
    {
      "cell_type": "markdown",
      "metadata": {
        "id": "JVTm_BRLS5zQ"
      },
      "source": [
        "### Definição dos dataframes"
      ]
    },
    {
      "cell_type": "markdown",
      "metadata": {
        "id": "2bDamJAcVG33"
      },
      "source": [
        "\n",
        "BRAINSTORM\n",
        "*   Agrupar por dia\n",
        "*   Agrupar por periodo do dia (dia, tarde, noite)\n",
        "*   buscar as datas dos pronunciamento do bolsonaro\n",
        "*   Agrupar por categoria\n",
        "\n",
        "\n"
      ]
    },
    {
      "cell_type": "code",
      "metadata": {
        "id": "hj6K2SEwpxm-"
      },
      "source": [
        "#  dataframe\n",
        "df_copy = df_copia_original.copy() #df_reduzida\n",
        "df_duvidas_copy = df_duvidas.copy()"
      ],
      "execution_count": null,
      "outputs": []
    },
    {
      "cell_type": "code",
      "metadata": {
        "id": "OSUlnhPpXv2p"
      },
      "source": [
        "# convert coluna data de object para datatime\n",
        "# pd.to_datetime(pd.Series(['05/23/2005']))\n",
        "df_copy.data= pd.to_datetime(df_copy.data)\n",
        "df_duvidas_copy.data= pd.to_datetime(df_duvidas_copy.data)"
      ],
      "execution_count": null,
      "outputs": []
    },
    {
      "cell_type": "markdown",
      "metadata": {
        "id": "Bix9FeZ3Sn69"
      },
      "source": [
        "### Dataframe geral"
      ]
    },
    {
      "cell_type": "markdown",
      "metadata": {
        "id": "mSMHrmSQS3Oi"
      },
      "source": [
        ""
      ]
    },
    {
      "cell_type": "code",
      "metadata": {
        "id": "x_cqekEWZ2Iq",
        "outputId": "d92aa75f-d005-44ac-b41a-335d06093fb3",
        "colab": {
          "base_uri": "https://localhost:8080/",
          "height": 340
        }
      },
      "source": [
        "# Transformando o datetime em index\n",
        "df_copy.set_index('data', inplace=True)\n",
        "df_copy.info()"
      ],
      "execution_count": null,
      "outputs": [
        {
          "output_type": "stream",
          "text": [
            "<class 'pandas.core.frame.DataFrame'>\n",
            "DatetimeIndex: 1658825 entries, 2020-03-23 18:51:14 to 2020-06-02 16:04:51\n",
            "Data columns (total 12 columns):\n",
            " #   Column      Non-Null Count    Dtype  \n",
            "---  ------      --------------    -----  \n",
            " 0   usuario     1658768 non-null  object \n",
            " 1   apelido     1658825 non-null  object \n",
            " 2   texto       1658825 non-null  object \n",
            " 3   retweet     1658825 non-null  int64  \n",
            " 4   seguidores  1658825 non-null  int64  \n",
            " 5   idioma      1658825 non-null  object \n",
            " 6   lugar       74605 non-null    object \n",
            " 7   pais        74600 non-null    object \n",
            " 8   sigla       74595 non-null    object \n",
            " 9   latitude    8720 non-null     float64\n",
            " 10  longitude   8720 non-null     float64\n",
            " 11  hashtags    1658825 non-null  object \n",
            "dtypes: float64(2), int64(2), object(8)\n",
            "memory usage: 164.5+ MB\n"
          ],
          "name": "stdout"
        }
      ]
    },
    {
      "cell_type": "code",
      "metadata": {
        "id": "Co2h_l87ajeu",
        "outputId": "c030ad5e-8c10-4bbd-ff4e-092c3dc464d4",
        "colab": {
          "base_uri": "https://localhost:8080/",
          "height": 299
        }
      },
      "source": [
        "df_copy.retweet.plot(figsize=(15, 6))"
      ],
      "execution_count": null,
      "outputs": [
        {
          "output_type": "execute_result",
          "data": {
            "text/plain": [
              "<matplotlib.axes._subplots.AxesSubplot at 0x7f482373da20>"
            ]
          },
          "metadata": {
            "tags": []
          },
          "execution_count": 54
        },
        {
          "output_type": "display_data",
          "data": {
            "image/png": "[encoded data removed]",
            "text/plain": [
              "<Figure size 1080x432 with 1 Axes>"
            ]
          },
          "metadata": {
            "tags": [],
            "needs_background": "light"
          }
        }
      ]
    },
    {
      "cell_type": "markdown",
      "metadata": {
        "id": "OlBGYpBoSs2Y"
      },
      "source": [
        "### Dataframe Perguntas"
      ]
    },
    {
      "cell_type": "code",
      "metadata": {
        "id": "he3tpkfWTE2d",
        "outputId": "954bf31d-e77e-4b34-c28a-ebc2d08f974d",
        "colab": {
          "base_uri": "https://localhost:8080/",
          "height": 357
        }
      },
      "source": [
        "# Transformando o datetime em index\n",
        "df_duvidas_copy.set_index('data', inplace=True)\n",
        "df_duvidas_copy.info()"
      ],
      "execution_count": null,
      "outputs": [
        {
          "output_type": "stream",
          "text": [
            "<class 'pandas.core.frame.DataFrame'>\n",
            "DatetimeIndex: 186964 entries, 2020-03-23 18:51:14 to 2020-05-12 13:02:34\n",
            "Data columns (total 13 columns):\n",
            " #   Column      Non-Null Count   Dtype  \n",
            "---  ------      --------------   -----  \n",
            " 0   id          186964 non-null  int64  \n",
            " 1   pergunta    186964 non-null  object \n",
            " 2   idioma      186964 non-null  object \n",
            " 3   apelido     186964 non-null  object \n",
            " 4   retweet     186964 non-null  int64  \n",
            " 5   seguidores  186964 non-null  int64  \n",
            " 6   lugar       186964 non-null  object \n",
            " 7   pais        186964 non-null  object \n",
            " 8   sigla       186964 non-null  object \n",
            " 9   latitude    623 non-null     float64\n",
            " 10  longitude   623 non-null     float64\n",
            " 11  hashtags    186964 non-null  object \n",
            " 12  categoria   186964 non-null  object \n",
            "dtypes: float64(2), int64(3), object(8)\n",
            "memory usage: 20.0+ MB\n"
          ],
          "name": "stdout"
        }
      ]
    },
    {
      "cell_type": "code",
      "metadata": {
        "id": "ugIOsNQLYcgq",
        "outputId": "a5302731-e00f-4199-f417-2c7c8f09f2aa",
        "colab": {
          "base_uri": "https://localhost:8080/",
          "height": 299
        }
      },
      "source": [
        "# Agrupar as categorias\n",
        "filter =  df_duvidas_copy.categoria == 'Doença'\n",
        "df_doencas = df_duvidas_copy[filter].copy()\n",
        "df_doencas.plot(figsize=(15, 6))"
      ],
      "execution_count": null,
      "outputs": [
        {
          "output_type": "execute_result",
          "data": {
            "text/plain": [
              "<matplotlib.axes._subplots.AxesSubplot at 0x7f48218cfb38>"
            ]
          },
          "metadata": {
            "tags": []
          },
          "execution_count": 107
        },
        {
          "output_type": "display_data",
          "data": {
            "image/png": "[encoded data removed]",
            "text/plain": [
              "<Figure size 1080x432 with 1 Axes>"
            ]
          },
          "metadata": {
            "tags": [],
            "needs_background": "light"
          }
        }
      ]
    },
    {
      "cell_type": "code",
      "metadata": {
        "id": "aw_N58SwaSm6",
        "outputId": "4cda0bea-057e-4106-abd4-b6438dc50ea3",
        "colab": {
          "base_uri": "https://localhost:8080/",
          "height": 450
        }
      },
      "source": [
        "# df_original.groupby('apelido').count()\n",
        "df_original[''].groupby('apelido').count()"
      ],
      "execution_count": null,
      "outputs": [
        {
          "output_type": "execute_result",
          "data": {
            "text/html": [
              "<div>\n",
              "<style scoped>\n",
              "    .dataframe tbody tr th:only-of-type {\n",
              "        vertical-align: middle;\n",
              "    }\n",
              "\n",
              "    .dataframe tbody tr th {\n",
              "        vertical-align: top;\n",
              "    }\n",
              "\n",
              "    .dataframe thead th {\n",
              "        text-align: right;\n",
              "    }\n",
              "</style>\n",
              "<table border=\"1\" class=\"dataframe\">\n",
              "  <thead>\n",
              "    <tr style=\"text-align: right;\">\n",
              "      <th></th>\n",
              "      <th>data</th>\n",
              "      <th>usuario</th>\n",
              "      <th>texto</th>\n",
              "      <th>retweet</th>\n",
              "      <th>seguidores</th>\n",
              "      <th>idioma</th>\n",
              "      <th>lugar</th>\n",
              "      <th>pais</th>\n",
              "      <th>sigla</th>\n",
              "      <th>latitude</th>\n",
              "      <th>longitude</th>\n",
              "      <th>hashtags</th>\n",
              "    </tr>\n",
              "    <tr>\n",
              "      <th>apelido</th>\n",
              "      <th></th>\n",
              "      <th></th>\n",
              "      <th></th>\n",
              "      <th></th>\n",
              "      <th></th>\n",
              "      <th></th>\n",
              "      <th></th>\n",
              "      <th></th>\n",
              "      <th></th>\n",
              "      <th></th>\n",
              "      <th></th>\n",
              "      <th></th>\n",
              "    </tr>\n",
              "  </thead>\n",
              "  <tbody>\n",
              "    <tr>\n",
              "      <th>00000001a9</th>\n",
              "      <td>1</td>\n",
              "      <td>1</td>\n",
              "      <td>1</td>\n",
              "      <td>1</td>\n",
              "      <td>1</td>\n",
              "      <td>1</td>\n",
              "      <td>0</td>\n",
              "      <td>0</td>\n",
              "      <td>0</td>\n",
              "      <td>0</td>\n",
              "      <td>0</td>\n",
              "      <td>1</td>\n",
              "    </tr>\n",
              "    <tr>\n",
              "      <th>000000_beatriz</th>\n",
              "      <td>1</td>\n",
              "      <td>1</td>\n",
              "      <td>1</td>\n",
              "      <td>1</td>\n",
              "      <td>1</td>\n",
              "      <td>1</td>\n",
              "      <td>0</td>\n",
              "      <td>0</td>\n",
              "      <td>0</td>\n",
              "      <td>0</td>\n",
              "      <td>0</td>\n",
              "      <td>1</td>\n",
              "    </tr>\n",
              "    <tr>\n",
              "      <th>0000lou</th>\n",
              "      <td>1</td>\n",
              "      <td>1</td>\n",
              "      <td>1</td>\n",
              "      <td>1</td>\n",
              "      <td>1</td>\n",
              "      <td>1</td>\n",
              "      <td>0</td>\n",
              "      <td>0</td>\n",
              "      <td>0</td>\n",
              "      <td>0</td>\n",
              "      <td>0</td>\n",
              "      <td>1</td>\n",
              "    </tr>\n",
              "    <tr>\n",
              "      <th>0001testo</th>\n",
              "      <td>1</td>\n",
              "      <td>1</td>\n",
              "      <td>1</td>\n",
              "      <td>1</td>\n",
              "      <td>1</td>\n",
              "      <td>1</td>\n",
              "      <td>0</td>\n",
              "      <td>0</td>\n",
              "      <td>0</td>\n",
              "      <td>0</td>\n",
              "      <td>0</td>\n",
              "      <td>1</td>\n",
              "    </tr>\n",
              "    <tr>\n",
              "      <th>00096i</th>\n",
              "      <td>4</td>\n",
              "      <td>4</td>\n",
              "      <td>4</td>\n",
              "      <td>4</td>\n",
              "      <td>4</td>\n",
              "      <td>4</td>\n",
              "      <td>0</td>\n",
              "      <td>0</td>\n",
              "      <td>0</td>\n",
              "      <td>0</td>\n",
              "      <td>0</td>\n",
              "      <td>4</td>\n",
              "    </tr>\n",
              "    <tr>\n",
              "      <th>...</th>\n",
              "      <td>...</td>\n",
              "      <td>...</td>\n",
              "      <td>...</td>\n",
              "      <td>...</td>\n",
              "      <td>...</td>\n",
              "      <td>...</td>\n",
              "      <td>...</td>\n",
              "      <td>...</td>\n",
              "      <td>...</td>\n",
              "      <td>...</td>\n",
              "      <td>...</td>\n",
              "      <td>...</td>\n",
              "    </tr>\n",
              "    <tr>\n",
              "      <th>zzzzz_dai</th>\n",
              "      <td>1</td>\n",
              "      <td>1</td>\n",
              "      <td>1</td>\n",
              "      <td>1</td>\n",
              "      <td>1</td>\n",
              "      <td>1</td>\n",
              "      <td>0</td>\n",
              "      <td>0</td>\n",
              "      <td>0</td>\n",
              "      <td>0</td>\n",
              "      <td>0</td>\n",
              "      <td>1</td>\n",
              "    </tr>\n",
              "    <tr>\n",
              "      <th>zzzzzabella</th>\n",
              "      <td>1</td>\n",
              "      <td>1</td>\n",
              "      <td>1</td>\n",
              "      <td>1</td>\n",
              "      <td>1</td>\n",
              "      <td>1</td>\n",
              "      <td>0</td>\n",
              "      <td>0</td>\n",
              "      <td>0</td>\n",
              "      <td>0</td>\n",
              "      <td>0</td>\n",
              "      <td>1</td>\n",
              "    </tr>\n",
              "    <tr>\n",
              "      <th>zzzzzadora</th>\n",
              "      <td>1</td>\n",
              "      <td>1</td>\n",
              "      <td>1</td>\n",
              "      <td>1</td>\n",
              "      <td>1</td>\n",
              "      <td>1</td>\n",
              "      <td>0</td>\n",
              "      <td>0</td>\n",
              "      <td>0</td>\n",
              "      <td>0</td>\n",
              "      <td>0</td>\n",
              "      <td>1</td>\n",
              "    </tr>\n",
              "    <tr>\n",
              "      <th>zzzzzguilherme</th>\n",
              "      <td>1</td>\n",
              "      <td>1</td>\n",
              "      <td>1</td>\n",
              "      <td>1</td>\n",
              "      <td>1</td>\n",
              "      <td>1</td>\n",
              "      <td>0</td>\n",
              "      <td>0</td>\n",
              "      <td>0</td>\n",
              "      <td>0</td>\n",
              "      <td>0</td>\n",
              "      <td>1</td>\n",
              "    </tr>\n",
              "    <tr>\n",
              "      <th>zzzzzzabela</th>\n",
              "      <td>1</td>\n",
              "      <td>1</td>\n",
              "      <td>1</td>\n",
              "      <td>1</td>\n",
              "      <td>1</td>\n",
              "      <td>1</td>\n",
              "      <td>0</td>\n",
              "      <td>0</td>\n",
              "      <td>0</td>\n",
              "      <td>0</td>\n",
              "      <td>0</td>\n",
              "      <td>1</td>\n",
              "    </tr>\n",
              "  </tbody>\n",
              "</table>\n",
              "<p>774516 rows × 12 columns</p>\n",
              "</div>"
            ],
            "text/plain": [
              "                data  usuario  texto  ...  latitude  longitude  hashtags\n",
              "apelido                               ...                               \n",
              "00000001a9         1        1      1  ...         0          0         1\n",
              "000000_beatriz     1        1      1  ...         0          0         1\n",
              "0000lou            1        1      1  ...         0          0         1\n",
              "0001testo          1        1      1  ...         0          0         1\n",
              "00096i             4        4      4  ...         0          0         4\n",
              "...              ...      ...    ...  ...       ...        ...       ...\n",
              "zzzzz_dai          1        1      1  ...         0          0         1\n",
              "zzzzzabella        1        1      1  ...         0          0         1\n",
              "zzzzzadora         1        1      1  ...         0          0         1\n",
              "zzzzzguilherme     1        1      1  ...         0          0         1\n",
              "zzzzzzabela        1        1      1  ...         0          0         1\n",
              "\n",
              "[774516 rows x 12 columns]"
            ]
          },
          "metadata": {
            "tags": []
          },
          "execution_count": 8
        }
      ]
    }
  ]
}