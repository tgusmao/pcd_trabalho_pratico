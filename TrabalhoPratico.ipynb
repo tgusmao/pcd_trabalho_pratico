{
  "nbformat": 4,
  "nbformat_minor": 0,
  "metadata": {
    "colab": {
      "name": "TrabalhoPratico.ipynb",
      "provenance": [],
      "collapsed_sections": [],
      "toc_visible": true,
      "include_colab_link": true
    },
    "kernelspec": {
      "name": "python3",
      "display_name": "Python 3"
    }
  },
  "cells": [
    {
      "cell_type": "markdown",
      "metadata": {
        "id": "view-in-github",
        "colab_type": "text"
      },
      "source": [
        "<a href=\"https://colab.research.google.com/github/tgusmao/programacao_ds/blob/master/TrabalhoPratico.ipynb\" target=\"_parent\"><img src=\"https://colab.research.google.com/assets/colab-badge.svg\" alt=\"Open In Colab\"/></a>"
      ]
    },
    {
      "cell_type": "markdown",
      "metadata": {
        "id": "KxvNKP0DGdVo",
        "colab_type": "text"
      },
      "source": [
        "# **Trabalho Prático de Programação para Ciências de Dados**"
      ]
    },
    {
      "cell_type": "markdown",
      "metadata": {
        "id": "eBEzEafyyx_R",
        "colab_type": "text"
      },
      "source": [
        "Dupla: \n",
        "*   Tammy Hikari Yanai Gusmão\n",
        "*   Thalita Naiara Alves\n",
        "\n",
        "\n",
        "Trabalho Prático para obtenção de nota na disciplina de Programação para Ciências de Dados - Turma 1 de 2020."
      ]
    },
    {
      "cell_type": "markdown",
      "metadata": {
        "id": "1nm1WqMqp99i",
        "colab_type": "text"
      },
      "source": [
        "##Importação da Base de Dados"
      ]
    },
    {
      "cell_type": "code",
      "metadata": {
        "id": "Xu430E4N6lt6",
        "colab_type": "code",
        "colab": {}
      },
      "source": [
        "import pandas as pd\n",
        "import numpy as np\n",
        "import matplotlib.pyplot as plt"
      ],
      "execution_count": 1,
      "outputs": []
    },
    {
      "cell_type": "markdown",
      "metadata": {
        "id": "WLFvYC1LMdiP",
        "colab_type": "text"
      },
      "source": [
        "Iniciando abaixo a leitura do arquivo CSV local (localizado no Google Drive)"
      ]
    },
    {
      "cell_type": "code",
      "metadata": {
        "id": "4xNXtQqqlT0p",
        "colab_type": "code",
        "colab": {
          "base_uri": "https://localhost:8080/",
          "height": 35
        },
        "outputId": "8a3b071e-a462-4ff4-9288-b8fdf4b402b6"
      },
      "source": [
        "from google.colab import drive\n",
        "drive.mount('/content/drive')"
      ],
      "execution_count": 2,
      "outputs": [
        {
          "output_type": "stream",
          "text": [
            "Mounted at /content/drive\n"
          ],
          "name": "stdout"
        }
      ]
    },
    {
      "cell_type": "code",
      "metadata": {
        "id": "hh5J92U3V3tj",
        "colab_type": "code",
        "colab": {}
      },
      "source": [
        "df_original = pd.read_csv('/content/drive/Shared drives/trabalhoPratico_programacaoDS/dados-curso-completo.csv', sep = ',', skiprows = 0, encoding = 'utf-8')"
      ],
      "execution_count": 3,
      "outputs": []
    },
    {
      "cell_type": "code",
      "metadata": {
        "id": "9H-XIRhkz1Mc",
        "colab_type": "code",
        "colab": {}
      },
      "source": [
        "#cópia da base original\n",
        "df_copia_original = df_original.copy()"
      ],
      "execution_count": 52,
      "outputs": []
    },
    {
      "cell_type": "markdown",
      "metadata": {
        "id": "KJPQWTJUYi86",
        "colab_type": "text"
      },
      "source": [
        "##Resumo do dataset original\n",
        "\n"
      ]
    },
    {
      "cell_type": "markdown",
      "metadata": {
        "id": "Cb9irjg20UCE",
        "colab_type": "text"
      },
      "source": [
        "A base de dados contém informações sobre tuítes sobre a COVID-19, postados durante o primeiro semestre do ano de 2020. A base foi levemente pré-processada anteriormente pelo professor da disciplina.  "
      ]
    },
    {
      "cell_type": "code",
      "metadata": {
        "id": "Jz3vp2V-0W7d",
        "colab_type": "code",
        "colab": {
          "base_uri": "https://localhost:8080/",
          "height": 52
        },
        "outputId": "c868dc97-218f-46d8-de80-3a2203b9c2f5"
      },
      "source": [
        "qntd_linhas = df_original.shape[0]\n",
        "qntd_colunas = df_original.shape[1]\n",
        "print('Quantidade de linhas: ', qntd_linhas)\n",
        "print('Quantidade de colunas: ', qntd_colunas)"
      ],
      "execution_count": 4,
      "outputs": [
        {
          "output_type": "stream",
          "text": [
            "Quantidade de linhas:  1658825\n",
            "Quantidade de colunas:  13\n"
          ],
          "name": "stdout"
        }
      ]
    },
    {
      "cell_type": "markdown",
      "metadata": {
        "id": "1CqY9eC70yXY",
        "colab_type": "text"
      },
      "source": [
        "Como pode ser visto acima, o atributo *shape* retornou uma tupla contendo a quantidade de linhas e colunas que constituem a base: 1.658.825 linhas e 13 colunas. \n",
        "\n",
        "Abaixo temos a lista dos nomes das colunas existentes:"
      ]
    },
    {
      "cell_type": "code",
      "metadata": {
        "id": "IL-uTjIP024C",
        "colab_type": "code",
        "colab": {
          "base_uri": "https://localhost:8080/",
          "height": 243
        },
        "outputId": "a46a4cfc-1f54-4da4-f5a0-b2a8244fb2eb"
      },
      "source": [
        "for col in df_original.columns:\n",
        "  print(col)"
      ],
      "execution_count": 5,
      "outputs": [
        {
          "output_type": "stream",
          "text": [
            "data\n",
            "usuario\n",
            "apelido\n",
            "texto\n",
            "retweet\n",
            "seguidores\n",
            "idioma\n",
            "lugar\n",
            "pais\n",
            "sigla\n",
            "latitude\n",
            "longitude\n",
            "hashtags\n"
          ],
          "name": "stdout"
        }
      ]
    },
    {
      "cell_type": "markdown",
      "metadata": {
        "id": "Vv7Ozr7DBUmQ",
        "colab_type": "text"
      },
      "source": [
        "Como pode ser observado abaixo, os tipos de variáveis que consistem o dataframe são *object*, *int64* e *float64*. As colunas com tipo *object* são aquelas com dados textuais. As colunas com tipo *int64* são as que contém dados quantitativos. As de tipo *float64* contém dados de números quebrados. "
      ]
    },
    {
      "cell_type": "code",
      "metadata": {
        "id": "BxC551PL_ABb",
        "colab_type": "code",
        "colab": {
          "base_uri": "https://localhost:8080/",
          "height": 260
        },
        "outputId": "a1e8f1a4-bdb6-4238-dddb-ac0dc7fb4b2b"
      },
      "source": [
        "df_original.dtypes"
      ],
      "execution_count": 6,
      "outputs": [
        {
          "output_type": "execute_result",
          "data": {
            "text/plain": [
              "data           object\n",
              "usuario        object\n",
              "apelido        object\n",
              "texto          object\n",
              "retweet         int64\n",
              "seguidores      int64\n",
              "idioma         object\n",
              "lugar          object\n",
              "pais           object\n",
              "sigla          object\n",
              "latitude      float64\n",
              "longitude     float64\n",
              "hashtags       object\n",
              "dtype: object"
            ]
          },
          "metadata": {
            "tags": []
          },
          "execution_count": 6
        }
      ]
    },
    {
      "cell_type": "code",
      "metadata": {
        "id": "3Z8tvFH5mk-9",
        "colab_type": "code",
        "colab": {
          "base_uri": "https://localhost:8080/",
          "height": 260
        },
        "outputId": "8fd8ff4a-1d20-4b63-9ad2-686a570857e4"
      },
      "source": [
        "df_original.isnull().sum()"
      ],
      "execution_count": 7,
      "outputs": [
        {
          "output_type": "execute_result",
          "data": {
            "text/plain": [
              "data                0\n",
              "usuario            57\n",
              "apelido             0\n",
              "texto               0\n",
              "retweet             0\n",
              "seguidores          0\n",
              "idioma              0\n",
              "lugar         1584220\n",
              "pais          1584225\n",
              "sigla         1584230\n",
              "latitude      1650105\n",
              "longitude     1650105\n",
              "hashtags            0\n",
              "dtype: int64"
            ]
          },
          "metadata": {
            "tags": []
          },
          "execution_count": 7
        }
      ]
    },
    {
      "cell_type": "code",
      "metadata": {
        "id": "yyyC_Q_rP7uX",
        "colab_type": "code",
        "colab": {}
      },
      "source": [
        "#arrays com as quantidades de células não nulas e nulas, respectivamente, \n",
        "#de cada coluna que apresenta valores nulos\n",
        "qntd_naonulos = [df_original.usuario.notnull().sum(),df_original.sigla.notnull().sum(),df_original.lugar.notnull().sum(),\n",
        "           df_original.pais.notnull().sum(), df_original.latitude.notnull().sum(), \n",
        "           df_original.longitude.notnull().sum()]\n",
        "\n",
        "qntd_nulos = [df_original.usuario.isnull().sum(), df_original.sigla.isnull().sum(), df_original.lugar.isnull().sum(),\n",
        "                 df_original.pais.isnull().sum(), df_original.latitude.isnull().sum(), \n",
        "                 df_original.longitude.isnull().sum()]\n",
        "\n",
        "#Array com labels para os gráficos a seguir\n",
        "labels_valores_ausentes = ['Usuário', 'Sigla', 'Lugar', 'País', 'Latitude', 'Longitude']"
      ],
      "execution_count": 13,
      "outputs": []
    },
    {
      "cell_type": "code",
      "metadata": {
        "id": "hR1V84Q8P9f4",
        "colab_type": "code",
        "colab": {
          "base_uri": "https://localhost:8080/",
          "height": 281
        },
        "outputId": "01118c81-3904-433c-8f31-60f9ef5a396e"
      },
      "source": [
        "# Range com a quantidade de itens das barras\n",
        "x_pos = np.arange(len(qntd_naonulos))\n",
        "\n",
        "first_bar = plt.bar(x_pos, qntd_naonulos, 0.5, color='b')\n",
        "second_bar = plt.bar(x_pos, qntd_nulos, 0.5, color='y', bottom=qntd_naonulos)\n",
        "# Definir posição e labels no eixo X\n",
        "plt.xticks(x_pos+0.25, (labels_valores_ausentes))\n",
        "\n",
        "plt.title(\"Perspectiva Quantitativa: Nulos x Não-nulos\")\n",
        "plt.savefig('qntd_nulos_naoNulos_barchar.png')\n",
        "plt.show()"
      ],
      "execution_count": 16,
      "outputs": [
        {
          "output_type": "display_data",
          "data": {
            "image/png": "[encoded data removed]",
            "text/plain": [
              "<Figure size 432x288 with 1 Axes>"
            ]
          },
          "metadata": {
            "tags": [],
            "needs_background": "light"
          }
        }
      ]
    },
    {
      "cell_type": "code",
      "metadata": {
        "id": "ZvVm5J8jA9o2",
        "colab_type": "code",
        "colab": {
          "base_uri": "https://localhost:8080/",
          "height": 264
        },
        "outputId": "b9299d59-371d-46d0-ee3a-a4100d9ec848"
      },
      "source": [
        "# Criação da figure com uma linha e duas colunas. Figsize define o tamanho da figure\n",
        "fig, eixos = plt.subplots(nrows=1, ncols=2, figsize=(8,4))\n",
        "\n",
        "# Cria o gráfico de pizza na primeira posição com as configurações definidas\n",
        "pie_1 = eixos[0].pie(qntd_nulos, labels=labels_valores_ausentes,\n",
        "                    autopct='%1.1f%%', colors=['gold', 'lightskyblue'])\n",
        "\n",
        "# Define o título deste gráfico\n",
        "eixos[0].set_title('Porcentagem de Valores Nulos')\n",
        "# Deixa os dois eixos iguais, fazendo com que o gráfico mantenha-se redondo\n",
        "eixos[0].axis('equal')\n",
        "\n",
        "# Idem a acima, para o segundo gráfico de pizza\n",
        "pie_2 = eixos[1].pie(qntd_naonulos, labels=labels_valores_ausentes,\n",
        "                    autopct='%1.1f%%', startangle=180, colors=['gold', 'lightskyblue'])\n",
        "eixos[1].set_title('Porcentagem de Valores Não-nulos')\n",
        "plt.axis('equal')\n",
        "\n",
        "# Ajusta o espaço entre os dois gráficos\n",
        "plt.subplots_adjust(wspace=1)\n",
        "plt.savefig('qntd_nulos_naoNulos_piechar.png')\n",
        "plt.show()"
      ],
      "execution_count": 18,
      "outputs": [
        {
          "output_type": "display_data",
          "data": {
            "image/png": "[encoded data removed]",
            "text/plain": [
              "<Figure size 576x288 with 2 Axes>"
            ]
          },
          "metadata": {
            "tags": []
          }
        }
      ]
    },
    {
      "cell_type": "markdown",
      "metadata": {
        "id": "NjpTBvorDHXe",
        "colab_type": "text"
      },
      "source": [
        "Levando em consideração o achado acima, faz-se necessário o preenchimento apropriado para eliminar os espaços vazios presentes no dataset. Esta atividade é realizada na seção seguinte (Tratamento de Dados).\n",
        "\n",
        "No quesito idiomas, temos as seguintes ocorrências:\n"
      ]
    },
    {
      "cell_type": "code",
      "metadata": {
        "id": "t8pXMhWRUgR_",
        "colab_type": "code",
        "colab": {}
      },
      "source": [
        "#array\n",
        "l = df_original['idioma'].value_counts().to_frame()\n",
        "l['sigla_idioma'] = l.index"
      ],
      "execution_count": 83,
      "outputs": []
    },
    {
      "cell_type": "code",
      "metadata": {
        "id": "_q4HplxlcR9v",
        "colab_type": "code",
        "colab": {}
      },
      "source": [
        "lista_idiomas = []\n",
        "count_idiomas_unicos = []\n",
        "\n",
        "for index, row in l.iterrows():\n",
        "  lista_idiomas.append(row['sigla_idioma'])\n",
        "  count_idiomas_unicos.append(row['idioma'])"
      ],
      "execution_count": 85,
      "outputs": []
    },
    {
      "cell_type": "code",
      "metadata": {
        "id": "cLBvK3FqLoBF",
        "colab_type": "code",
        "colab": {}
      },
      "source": [
        "#Gerador de cores aleatórias para os gráficos.\n",
        "import matplotlib.colors as pltc\n",
        "from random import sample\n",
        "todas_as_cores = [k for k,v in pltc.cnames.items()]\n",
        "\n",
        "fracs = np.array([600, 179, 154, 139, 126, 1185])\n",
        "cores = sample(todas_as_cores, len(fracs))"
      ],
      "execution_count": 27,
      "outputs": []
    },
    {
      "cell_type": "code",
      "metadata": {
        "id": "qcJQEAQlGDrg",
        "colab_type": "code",
        "colab": {
          "base_uri": "https://localhost:8080/",
          "height": 291
        },
        "outputId": "8bf0e10b-15c6-402f-cbde-63e9143f78d6"
      },
      "source": [
        "# Criação da figure com uma linha e duas colunas. Figsize define o tamanho da figure\n",
        "fig, eixos = plt.subplots(nrows=1, ncols=2, figsize=(8,4))\n",
        "\n",
        "# Cria o gráfico de pizza na primeira posição com as configurações definidas\n",
        "pie_1 = eixos[0].pie(count_idiomas_unicos, labels=lista_idiomas,\n",
        "                    autopct='%1.1f%%', colors=cores)\n",
        "\n",
        "# Define o título deste gráfico\n",
        "eixos[0].set_title('Idiomas registrados')\n",
        "plt.savefig('porcentagem_idiomas.png')"
      ],
      "execution_count": 89,
      "outputs": [
        {
          "output_type": "execute_result",
          "data": {
            "text/plain": [
              "Text(0.5, 1.0, 'Idiomas registrados')"
            ]
          },
          "metadata": {
            "tags": []
          },
          "execution_count": 89
        },
        {
          "output_type": "display_data",
          "data": {
            "image/png": "[encoded data removed]",
            "text/plain": [
              "<Figure size 576x288 with 2 Axes>"
            ]
          },
          "metadata": {
            "tags": [],
            "needs_background": "light"
          }
        }
      ]
    },
    {
      "cell_type": "code",
      "metadata": {
        "id": "Iktk03KtgbdE",
        "colab_type": "code",
        "colab": {
          "base_uri": "https://localhost:8080/",
          "height": 281
        },
        "outputId": "12a9d2b1-6dfe-479e-f5ca-060c3a816ccb"
      },
      "source": [
        "y = np.random.randn(100)\n",
        "x = [x for x in range(len(y))]\n",
        "\n",
        "plt.plot(x, y,  '-')\n",
        "plt.fill_between(x, y, 200, where=(y > 195), facecolor = 'g', alpha = 0.6)\n",
        "plt.title(\"Sample Plot\")\n",
        "plt.show()"
      ],
      "execution_count": 87,
      "outputs": [
        {
          "output_type": "display_data",
          "data": {
            "image/png": "[encoded data removed]",
            "text/plain": [
              "<Figure size 432x288 with 1 Axes>"
            ]
          },
          "metadata": {
            "tags": [],
            "needs_background": "light"
          }
        }
      ]
    },
    {
      "cell_type": "code",
      "metadata": {
        "id": "YSl3kqajOflq",
        "colab_type": "code",
        "colab": {
          "base_uri": "https://localhost:8080/",
          "height": 35
        },
        "outputId": "615fa68a-8128-4510-93a8-10273d823083"
      },
      "source": [
        "type(df_reduzida.idioma.unique())"
      ],
      "execution_count": 73,
      "outputs": [
        {
          "output_type": "execute_result",
          "data": {
            "text/plain": [
              "numpy.ndarray"
            ]
          },
          "metadata": {
            "tags": []
          },
          "execution_count": 73
        }
      ]
    },
    {
      "cell_type": "code",
      "metadata": {
        "id": "If3tGQU-NQ2Z",
        "colab_type": "code",
        "colab": {
          "base_uri": "https://localhost:8080/",
          "height": 267
        },
        "outputId": "751f2a20-cc05-4306-e053-c569282b5042"
      },
      "source": [
        "Tasks = [300,500,700]\n",
        "\n",
        "my_labels = 'Tasks Pending','Tasks Ongoing','Tasks Completed'\n",
        "plt.pie(Tasks,labels=my_labels,autopct='%1.1f%%')\n",
        "plt.title('Idiomas')\n",
        "plt.axis('equal')\n",
        "plt.show()"
      ],
      "execution_count": 75,
      "outputs": [
        {
          "output_type": "display_data",
          "data": {
            "image/png": "[encoded data removed]",
            "text/plain": [
              "<Figure size 432x288 with 1 Axes>"
            ]
          },
          "metadata": {
            "tags": []
          }
        }
      ]
    },
    {
      "cell_type": "markdown",
      "metadata": {
        "id": "zDeFTdMIwRxt",
        "colab_type": "text"
      },
      "source": [
        "## Tratamento de Dados"
      ]
    },
    {
      "cell_type": "markdown",
      "metadata": {
        "id": "LL4uILih1M4T",
        "colab_type": "text"
      },
      "source": [
        "De acordo com os achados apresentados anteriormente, as colunas *usuario*, *lugar*, *pais* e *sigla*. Por conta da natureza dos atributos, *latitude* e *longitude* serão mantidos como estão para uma análise posterior.\n",
        "\n",
        "A seguir, temos o preenchimento de dados aplicados somente nas colunas *usuario*, *lugar*, *pais* e *sigla*. "
      ]
    },
    {
      "cell_type": "code",
      "metadata": {
        "id": "wixhhCC-1Nu2",
        "colab_type": "code",
        "colab": {}
      },
      "source": [
        "df_original['usuario'] = df_original['usuario'].fillna('')\n",
        "df_original['lugar'] = df_original['lugar'].fillna('Não Informado')\n",
        "df_original['pais'] = df_original['pais'].fillna('Não Informado')\n",
        "df_original['sigla'] = df_original['sigla'].fillna('Não Informado')"
      ],
      "execution_count": 8,
      "outputs": []
    },
    {
      "cell_type": "markdown",
      "metadata": {
        "id": "G6M64__5yLjK",
        "colab_type": "text"
      },
      "source": [
        "Em uma busca manual, foi conferido que existem tweets repetidos. Para tanto, foi aplicada a função de remoção de linhas duplicadas."
      ]
    },
    {
      "cell_type": "code",
      "metadata": {
        "id": "4LI4lnVk9XHh",
        "colab_type": "code",
        "colab": {
          "base_uri": "https://localhost:8080/",
          "height": 52
        },
        "outputId": "a4d658d5-243b-4d98-b0dd-198e10a70ead"
      },
      "source": [
        "df_reduzida = pd.DataFrame.drop_duplicates(df_original)\n",
        "print('Foram removidas', qntd_linhas - df_reduzida.shape[0], 'linhas.')\n",
        "print('Quantidade atual de linhas:', df_reduzida.shape[0], '.')"
      ],
      "execution_count": 59,
      "outputs": [
        {
          "output_type": "stream",
          "text": [
            "Foram removidas 2 linhas.\n",
            "Quantidade atual de linhas: 1658823\n"
          ],
          "name": "stdout"
        }
      ]
    },
    {
      "cell_type": "markdown",
      "metadata": {
        "id": "DZ4cSLCQ9dZO",
        "colab_type": "text"
      },
      "source": [
        "A remoção da linhas duplicadas mostra que haviam 3 tweets iguais no dataset. Somente uma delas permaneceu no dataset."
      ]
    },
    {
      "cell_type": "code",
      "metadata": {
        "id": "uKwlICpwwT6T",
        "colab_type": "code",
        "colab": {}
      },
      "source": [
        "df_original = df_original.rename(columns = {'Data':'data','Usuario':'nome_perfil', 'Apelido':'username', 'Texto':'tweet', 'Retweet':'qntd_retweet', 'Seguidores':'qntd_seguidores', 'Idioma':'idioma', 'Lugar':'lugar', 'Pais':'pais', 'Sigla':'sigla_pais', 'Latitude':'lat', 'Longitude':'long', 'Hashtags':'hashtags'})"
      ],
      "execution_count": null,
      "outputs": []
    },
    {
      "cell_type": "markdown",
      "metadata": {
        "id": "EG-3sUUG_CNm",
        "colab_type": "text"
      },
      "source": [
        "Ainda na busca manual, foi percebido que existem tweets em línguas estrangeiras que com o valor **pt** na coluna idioma. Faz-se necessária a criação de uma outra coluna, **idioma_detectado**, com os reais idiomas do tweet. "
      ]
    },
    {
      "cell_type": "code",
      "metadata": {
        "id": "u68TQposz9EL",
        "colab_type": "code",
        "colab": {}
      },
      "source": [
        "#criação de uma coluna extra, para armazenar o idioma correto dos tweets\n",
        "df_original['idioma_detectado'] = ''"
      ],
      "execution_count": 11,
      "outputs": []
    },
    {
      "cell_type": "code",
      "metadata": {
        "id": "MNz0xQB9-qSa",
        "colab_type": "code",
        "colab": {
          "base_uri": "https://localhost:8080/",
          "height": 260
        },
        "outputId": "d15a482b-1a02-43d4-cfd6-68d327ae2bed"
      },
      "source": [
        "df_reduzida.loc[72994]"
      ],
      "execution_count": 85,
      "outputs": [
        {
          "output_type": "execute_result",
          "data": {
            "text/plain": [
              "data                                        2020-06-30 13:00:02\n",
              "usuario                                            UERJ Oficial\n",
              "apelido                                            UERJ_oficial\n",
              "texto         A cartilha Relações Interpessoais e Isolamento...\n",
              "retweet                                                       6\n",
              "seguidores                                                24075\n",
              "idioma                                                       pt\n",
              "lugar                                                       NaN\n",
              "pais                                                        NaN\n",
              "sigla                                                       NaN\n",
              "latitude                                                    NaN\n",
              "longitude                                                   NaN\n",
              "hashtags                                                     []\n",
              "Name: 72994, dtype: object"
            ]
          },
          "metadata": {
            "tags": []
          },
          "execution_count": 85
        }
      ]
    },
    {
      "cell_type": "markdown",
      "metadata": {
        "id": "_zU_nLrIZxlc",
        "colab_type": "text"
      },
      "source": [
        "##Classificação de Temas"
      ]
    }
  ]
}