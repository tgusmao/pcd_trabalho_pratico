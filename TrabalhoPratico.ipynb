{
  "nbformat": 4,
  "nbformat_minor": 0,
  "metadata": {
    "colab": {
      "name": "TrabalhoPratico.ipynb",
      "provenance": [],
      "collapsed_sections": [],
      "toc_visible": true,
      "include_colab_link": true
    },
    "kernelspec": {
      "name": "python3",
      "display_name": "Python 3"
    }
  },
  "cells": [
    {
      "cell_type": "markdown",
      "metadata": {
        "id": "view-in-github",
        "colab_type": "text"
      },
      "source": [
        "<a href=\"https://colab.research.google.com/github/tgusmao/programacao_ds/blob/master/TrabalhoPratico.ipynb\" target=\"_parent\"><img src=\"https://colab.research.google.com/assets/colab-badge.svg\" alt=\"Open In Colab\"/></a>"
      ]
    },
    {
      "cell_type": "markdown",
      "metadata": {
        "id": "KxvNKP0DGdVo",
        "colab_type": "text"
      },
      "source": [
        "# **Trabalho Prático de Programação para Ciências de Dados**"
      ]
    },
    {
      "cell_type": "markdown",
      "metadata": {
        "id": "1nm1WqMqp99i",
        "colab_type": "text"
      },
      "source": [
        "# Importação da Base de Dados"
      ]
    },
    {
      "cell_type": "code",
      "metadata": {
        "id": "Xu430E4N6lt6",
        "colab_type": "code",
        "colab": {}
      },
      "source": [
        "import pandas as pd"
      ],
      "execution_count": null,
      "outputs": []
    },
    {
      "cell_type": "markdown",
      "metadata": {
        "id": "WLFvYC1LMdiP",
        "colab_type": "text"
      },
      "source": [
        "Iniciando abaixo a leitura do arquivo CSV local (localizado no Google Drive)"
      ]
    },
    {
      "cell_type": "markdown",
      "metadata": {
        "id": "BdpluolyQyhI",
        "colab_type": "text"
      },
      "source": [
        "\n",
        "\n",
        "Dupla1: Tammy e Thalita\n",
        "\n",
        "pd.read_csv( string, sep = String, skiprows = int, encoding = string especifica)\n",
        "\n",
        "1.   NOme do arquivo.\n",
        "2.   String que separa os dados no arquivo.\n",
        "3. Quantidade de linhas a serem puladas (linhas iniciais, como cabeçalho). \n",
        "4. Especificação de como o arquivo está codificado (utf-8 ou latin-1). \n",
        "\n"
      ]
    },
    {
      "cell_type": "code",
      "metadata": {
        "id": "4xNXtQqqlT0p",
        "colab_type": "code",
        "colab": {
          "base_uri": "https://localhost:8080/",
          "height": 35
        },
        "outputId": "61bb3b3b-7a1d-430d-84c8-96fc1603ed49"
      },
      "source": [
        "from google.colab import drive\n",
        "drive.mount('/content/drive')"
      ],
      "execution_count": null,
      "outputs": [
        {
          "output_type": "stream",
          "text": [
            "Mounted at /content/drive\n"
          ],
          "name": "stdout"
        }
      ]
    },
    {
      "cell_type": "code",
      "metadata": {
        "id": "hh5J92U3V3tj",
        "colab_type": "code",
        "colab": {}
      },
      "source": [
        "df_duvidas = pd.read_csv('/content/drive/My Drive/dados-curso-completo.csv', sep = ',', skiprows = 0, encoding = 'utf-8')"
      ],
      "execution_count": null,
      "outputs": []
    },
    {
      "cell_type": "code",
      "metadata": {
        "id": "CW4C2fTatDgE",
        "colab_type": "code",
        "colab": {
          "base_uri": "https://localhost:8080/",
          "height": 779
        },
        "outputId": "6f53c303-2dc8-464b-d1e3-f6300fbcf83f"
      },
      "source": [
        "df_duvidas"
      ],
      "execution_count": null,
      "outputs": [
        {
          "output_type": "execute_result",
          "data": {
            "text/html": [
              "<div>\n",
              "<style scoped>\n",
              "    .dataframe tbody tr th:only-of-type {\n",
              "        vertical-align: middle;\n",
              "    }\n",
              "\n",
              "    .dataframe tbody tr th {\n",
              "        vertical-align: top;\n",
              "    }\n",
              "\n",
              "    .dataframe thead th {\n",
              "        text-align: right;\n",
              "    }\n",
              "</style>\n",
              "<table border=\"1\" class=\"dataframe\">\n",
              "  <thead>\n",
              "    <tr style=\"text-align: right;\">\n",
              "      <th></th>\n",
              "      <th>data</th>\n",
              "      <th>usuario</th>\n",
              "      <th>apelido</th>\n",
              "      <th>texto</th>\n",
              "      <th>retweet</th>\n",
              "      <th>seguidores</th>\n",
              "      <th>idioma</th>\n",
              "      <th>lugar</th>\n",
              "      <th>pais</th>\n",
              "      <th>sigla</th>\n",
              "      <th>latitude</th>\n",
              "      <th>longitude</th>\n",
              "      <th>hashtags</th>\n",
              "    </tr>\n",
              "  </thead>\n",
              "  <tbody>\n",
              "    <tr>\n",
              "      <th>0</th>\n",
              "      <td>2020-03-23 18:51:14</td>\n",
              "      <td>Gaboardi</td>\n",
              "      <td>fraslee</td>\n",
              "      <td>@BolsonaroSP Cade o fundão deputado??? Congres...</td>\n",
              "      <td>0</td>\n",
              "      <td>138</td>\n",
              "      <td>pt</td>\n",
              "      <td>NaN</td>\n",
              "      <td>NaN</td>\n",
              "      <td>NaN</td>\n",
              "      <td>NaN</td>\n",
              "      <td>NaN</td>\n",
              "      <td>[]</td>\n",
              "    </tr>\n",
              "    <tr>\n",
              "      <th>1</th>\n",
              "      <td>2020-03-18 03:18:14</td>\n",
              "      <td>Seu Zé da Farmácia</td>\n",
              "      <td>seuzedafarmacia</td>\n",
              "      <td>Em ação preventiva, o Governo do Estado suspen...</td>\n",
              "      <td>0</td>\n",
              "      <td>56</td>\n",
              "      <td>pt</td>\n",
              "      <td>NaN</td>\n",
              "      <td>NaN</td>\n",
              "      <td>NaN</td>\n",
              "      <td>NaN</td>\n",
              "      <td>NaN</td>\n",
              "      <td>[]</td>\n",
              "    </tr>\n",
              "    <tr>\n",
              "      <th>2</th>\n",
              "      <td>2020-03-29 12:09:27</td>\n",
              "      <td>Marília Oliveira 🇧🇷</td>\n",
              "      <td>Marioliveira_gb</td>\n",
              "      <td>Incrível como os defensores do fim do distanci...</td>\n",
              "      <td>0</td>\n",
              "      <td>5</td>\n",
              "      <td>pt</td>\n",
              "      <td>NaN</td>\n",
              "      <td>NaN</td>\n",
              "      <td>NaN</td>\n",
              "      <td>NaN</td>\n",
              "      <td>NaN</td>\n",
              "      <td>[]</td>\n",
              "    </tr>\n",
              "    <tr>\n",
              "      <th>3</th>\n",
              "      <td>2020-04-01 21:11:07</td>\n",
              "      <td>🚩</td>\n",
              "      <td>santosodeto</td>\n",
              "      <td>Fumaça de cigarro pode propagar coronavírus? h...</td>\n",
              "      <td>0</td>\n",
              "      <td>1885</td>\n",
              "      <td>pt</td>\n",
              "      <td>NaN</td>\n",
              "      <td>NaN</td>\n",
              "      <td>NaN</td>\n",
              "      <td>NaN</td>\n",
              "      <td>NaN</td>\n",
              "      <td>[]</td>\n",
              "    </tr>\n",
              "    <tr>\n",
              "      <th>4</th>\n",
              "      <td>2020-03-19 17:49:40</td>\n",
              "      <td>Nova Impressão</td>\n",
              "      <td>novaimpressao_</td>\n",
              "      <td>🚨Todos juntos contra COVID-19💪\\n\\nSolicite seu...</td>\n",
              "      <td>0</td>\n",
              "      <td>124</td>\n",
              "      <td>pt</td>\n",
              "      <td>Brasília</td>\n",
              "      <td>Brazil</td>\n",
              "      <td>BR</td>\n",
              "      <td>-47.8778</td>\n",
              "      <td>-15.77691</td>\n",
              "      <td>[]</td>\n",
              "    </tr>\n",
              "    <tr>\n",
              "      <th>...</th>\n",
              "      <td>...</td>\n",
              "      <td>...</td>\n",
              "      <td>...</td>\n",
              "      <td>...</td>\n",
              "      <td>...</td>\n",
              "      <td>...</td>\n",
              "      <td>...</td>\n",
              "      <td>...</td>\n",
              "      <td>...</td>\n",
              "      <td>...</td>\n",
              "      <td>...</td>\n",
              "      <td>...</td>\n",
              "      <td>...</td>\n",
              "    </tr>\n",
              "    <tr>\n",
              "      <th>1658820</th>\n",
              "      <td>2020-03-13 17:26:18</td>\n",
              "      <td>broca</td>\n",
              "      <td>whoisdrill</td>\n",
              "      <td>oms: tamo tendo pandemia evitar\\n conglomerado...</td>\n",
              "      <td>0</td>\n",
              "      <td>361</td>\n",
              "      <td>pt</td>\n",
              "      <td>NaN</td>\n",
              "      <td>NaN</td>\n",
              "      <td>NaN</td>\n",
              "      <td>NaN</td>\n",
              "      <td>NaN</td>\n",
              "      <td>[]</td>\n",
              "    </tr>\n",
              "    <tr>\n",
              "      <th>1658821</th>\n",
              "      <td>2020-05-12 13:02:34</td>\n",
              "      <td>Renato 🇧🇷</td>\n",
              "      <td>VerdadeExpress</td>\n",
              "      <td>@OsmarTerra Sr. Osmar Terra, gostaria de ouvir...</td>\n",
              "      <td>0</td>\n",
              "      <td>4066</td>\n",
              "      <td>pt</td>\n",
              "      <td>NaN</td>\n",
              "      <td>NaN</td>\n",
              "      <td>NaN</td>\n",
              "      <td>NaN</td>\n",
              "      <td>NaN</td>\n",
              "      <td>[]</td>\n",
              "    </tr>\n",
              "    <tr>\n",
              "      <th>1658822</th>\n",
              "      <td>2020-03-19 18:16:30</td>\n",
              "      <td>eugeniocosta8</td>\n",
              "      <td>EugenioCosta8</td>\n",
              "      <td>CIENTISTA DE HARVARD PREVÊ QUE ATÉ 70% DO MUND...</td>\n",
              "      <td>3</td>\n",
              "      <td>5307</td>\n",
              "      <td>pt</td>\n",
              "      <td>NaN</td>\n",
              "      <td>NaN</td>\n",
              "      <td>NaN</td>\n",
              "      <td>NaN</td>\n",
              "      <td>NaN</td>\n",
              "      <td>['CORONAVIRUS']</td>\n",
              "    </tr>\n",
              "    <tr>\n",
              "      <th>1658823</th>\n",
              "      <td>2020-04-07 18:14:45</td>\n",
              "      <td>Wagner Mota - Seriedade + Geek</td>\n",
              "      <td>wagnermota75</td>\n",
              "      <td>#BolsonaroTemRazaoSim porque, quando a prefeit...</td>\n",
              "      <td>0</td>\n",
              "      <td>1000</td>\n",
              "      <td>pt</td>\n",
              "      <td>NaN</td>\n",
              "      <td>NaN</td>\n",
              "      <td>NaN</td>\n",
              "      <td>NaN</td>\n",
              "      <td>NaN</td>\n",
              "      <td>['BolsonaroTemRazaoSim']</td>\n",
              "    </tr>\n",
              "    <tr>\n",
              "      <th>1658824</th>\n",
              "      <td>2020-06-02 16:04:51</td>\n",
              "      <td>Fotógrafo</td>\n",
              "      <td>omarcelogoulart</td>\n",
              "      <td>Em meio a uma pandemia, estamos na luta também...</td>\n",
              "      <td>0</td>\n",
              "      <td>726</td>\n",
              "      <td>pt</td>\n",
              "      <td>São Félix do Araguaia</td>\n",
              "      <td>Brazil</td>\n",
              "      <td>BR</td>\n",
              "      <td>-53.0000</td>\n",
              "      <td>-11.00000</td>\n",
              "      <td>[]</td>\n",
              "    </tr>\n",
              "  </tbody>\n",
              "</table>\n",
              "<p>1658825 rows × 13 columns</p>\n",
              "</div>"
            ],
            "text/plain": [
              "                        data  ...                  hashtags\n",
              "0        2020-03-23 18:51:14  ...                        []\n",
              "1        2020-03-18 03:18:14  ...                        []\n",
              "2        2020-03-29 12:09:27  ...                        []\n",
              "3        2020-04-01 21:11:07  ...                        []\n",
              "4        2020-03-19 17:49:40  ...                        []\n",
              "...                      ...  ...                       ...\n",
              "1658820  2020-03-13 17:26:18  ...                        []\n",
              "1658821  2020-05-12 13:02:34  ...                        []\n",
              "1658822  2020-03-19 18:16:30  ...           ['CORONAVIRUS']\n",
              "1658823  2020-04-07 18:14:45  ...  ['BolsonaroTemRazaoSim']\n",
              "1658824  2020-06-02 16:04:51  ...                        []\n",
              "\n",
              "[1658825 rows x 13 columns]"
            ]
          },
          "metadata": {
            "tags": []
          },
          "execution_count": 19
        }
      ]
    },
    {
      "cell_type": "code",
      "metadata": {
        "id": "3Z8tvFH5mk-9",
        "colab_type": "code",
        "colab": {
          "base_uri": "https://localhost:8080/",
          "height": 255
        },
        "outputId": "a2b897ec-b0a9-4118-cd78-276389949795"
      },
      "source": [
        "df_duvidas.isnull().sum()"
      ],
      "execution_count": null,
      "outputs": [
        {
          "output_type": "execute_result",
          "data": {
            "text/plain": [
              "data                0\n",
              "usuario            57\n",
              "apelido             0\n",
              "texto               0\n",
              "retweet             0\n",
              "seguidores          0\n",
              "idioma              0\n",
              "lugar         1584220\n",
              "pais          1584225\n",
              "sigla         1584230\n",
              "latitude      1650105\n",
              "longitude     1650105\n",
              "hashtags            0\n",
              "dtype: int64"
            ]
          },
          "metadata": {
            "tags": []
          },
          "execution_count": 21
        }
      ]
    },
    {
      "cell_type": "markdown",
      "metadata": {
        "id": "zDeFTdMIwRxt",
        "colab_type": "text"
      },
      "source": [
        "# Tratamento de Dados"
      ]
    },
    {
      "cell_type": "markdown",
      "metadata": {
        "id": "G6M64__5yLjK",
        "colab_type": "text"
      },
      "source": [
        "Renomeando Colunas:"
      ]
    },
    {
      "cell_type": "markdown",
      "metadata": {
        "id": "sPdvdbEuyues",
        "colab_type": "text"
      },
      "source": [
        "dataframe.rename(columns = **dict**)\n",
        "\n",
        "\n",
        "1.   dict = {'nome_coluna_antiga' : 'nome_coluna_nova'}\n",
        "2.   Item da lista\n",
        "\n"
      ]
    },
    {
      "cell_type": "code",
      "metadata": {
        "id": "uKwlICpwwT6T",
        "colab_type": "code",
        "colab": {}
      },
      "source": [
        "df_duvidas = df_duvidas.rename(columns = {'Data':'data','Usuario':'usuario', 'Apelido':'apelido', 'Texto':'texto', 'Retweet':'retweet', 'Seguidores':'seguidores', 'Idioma':'idioma', 'Lugar':'lugar', 'Pais':'pais', 'Sigla':'sigla_pais', 'Latitude':'lat', 'Longitude':'long', 'Hashtags':'hashtags'})"
      ],
      "execution_count": null,
      "outputs": []
    },
    {
      "cell_type": "code",
      "metadata": {
        "id": "WcvhEsVuRLXK",
        "colab_type": "code",
        "colab": {
          "base_uri": "https://localhost:8080/",
          "height": 35
        },
        "outputId": "988c4898-e809-4f12-c09b-6e91bf0824af"
      },
      "source": [
        "df_duvidas.shape"
      ],
      "execution_count": null,
      "outputs": [
        {
          "output_type": "execute_result",
          "data": {
            "text/plain": [
              "(1658825, 13)"
            ]
          },
          "metadata": {
            "tags": []
          },
          "execution_count": 6
        }
      ]
    },
    {
      "cell_type": "code",
      "metadata": {
        "id": "N120s4jDESIO",
        "colab_type": "code",
        "colab": {}
      },
      "source": [
        "df_duvidas = df_duvidas.dropna(subset=['latitude'])"
      ],
      "execution_count": null,
      "outputs": []
    },
    {
      "cell_type": "code",
      "metadata": {
        "id": "KZT_4q45RSAy",
        "colab_type": "code",
        "colab": {
          "base_uri": "https://localhost:8080/",
          "height": 35
        },
        "outputId": "eaaf326c-b4fe-4340-c98e-5e4232b8b052"
      },
      "source": [
        "df_duvidas.shape"
      ],
      "execution_count": null,
      "outputs": [
        {
          "output_type": "execute_result",
          "data": {
            "text/plain": [
              "(8720, 13)"
            ]
          },
          "metadata": {
            "tags": []
          },
          "execution_count": 8
        }
      ]
    },
    {
      "cell_type": "code",
      "metadata": {
        "id": "hlSSY-AaE9RL",
        "colab_type": "code",
        "colab": {
          "base_uri": "https://localhost:8080/",
          "height": 255
        },
        "outputId": "75f13f32-7db6-4999-abe1-187be413df12"
      },
      "source": [
        "df_duvidas.isnull().sum()"
      ],
      "execution_count": null,
      "outputs": [
        {
          "output_type": "execute_result",
          "data": {
            "text/plain": [
              "data           0\n",
              "usuario        0\n",
              "apelido        0\n",
              "texto          0\n",
              "retweet        0\n",
              "seguidores     0\n",
              "idioma         0\n",
              "lugar         11\n",
              "pais          12\n",
              "sigla         13\n",
              "latitude       0\n",
              "longitude      0\n",
              "hashtags       0\n",
              "dtype: int64"
            ]
          },
          "metadata": {
            "tags": []
          },
          "execution_count": 24
        }
      ]
    },
    {
      "cell_type": "code",
      "metadata": {
        "id": "OeGM8J68F8VE",
        "colab_type": "code",
        "colab": {
          "base_uri": "https://localhost:8080/",
          "height": 966
        },
        "outputId": "d271f299-7ec3-42fc-b1d3-de0846414dea"
      },
      "source": [
        "df_duvidas"
      ],
      "execution_count": null,
      "outputs": [
        {
          "output_type": "execute_result",
          "data": {
            "text/html": [
              "<div>\n",
              "<style scoped>\n",
              "    .dataframe tbody tr th:only-of-type {\n",
              "        vertical-align: middle;\n",
              "    }\n",
              "\n",
              "    .dataframe tbody tr th {\n",
              "        vertical-align: top;\n",
              "    }\n",
              "\n",
              "    .dataframe thead th {\n",
              "        text-align: right;\n",
              "    }\n",
              "</style>\n",
              "<table border=\"1\" class=\"dataframe\">\n",
              "  <thead>\n",
              "    <tr style=\"text-align: right;\">\n",
              "      <th></th>\n",
              "      <th>data</th>\n",
              "      <th>usuario</th>\n",
              "      <th>apelido</th>\n",
              "      <th>texto</th>\n",
              "      <th>retweet</th>\n",
              "      <th>seguidores</th>\n",
              "      <th>idioma</th>\n",
              "      <th>lugar</th>\n",
              "      <th>pais</th>\n",
              "      <th>sigla</th>\n",
              "      <th>latitude</th>\n",
              "      <th>longitude</th>\n",
              "      <th>hashtags</th>\n",
              "    </tr>\n",
              "  </thead>\n",
              "  <tbody>\n",
              "    <tr>\n",
              "      <th>4</th>\n",
              "      <td>2020-03-19 17:49:40</td>\n",
              "      <td>Nova Impressão</td>\n",
              "      <td>novaimpressao_</td>\n",
              "      <td>🚨Todos juntos contra COVID-19💪\\n\\nSolicite seu...</td>\n",
              "      <td>0</td>\n",
              "      <td>124</td>\n",
              "      <td>pt</td>\n",
              "      <td>Brasília</td>\n",
              "      <td>Brazil</td>\n",
              "      <td>BR</td>\n",
              "      <td>-47.877800</td>\n",
              "      <td>-15.776910</td>\n",
              "      <td>[]</td>\n",
              "    </tr>\n",
              "    <tr>\n",
              "      <th>261</th>\n",
              "      <td>2020-04-16 00:34:54</td>\n",
              "      <td>Felipe Silva</td>\n",
              "      <td>felipesilvasr</td>\n",
              "      <td>A secretaria de Saúde da Paraíba confirmou nes...</td>\n",
              "      <td>0</td>\n",
              "      <td>150</td>\n",
              "      <td>pt</td>\n",
              "      <td>Taperoá</td>\n",
              "      <td>Brazil</td>\n",
              "      <td>BR</td>\n",
              "      <td>-36.825000</td>\n",
              "      <td>-7.162778</td>\n",
              "      <td>[]</td>\n",
              "    </tr>\n",
              "    <tr>\n",
              "      <th>265</th>\n",
              "      <td>2020-05-03 13:48:52</td>\n",
              "      <td>Bruno Fortes</td>\n",
              "      <td>Brunaogf</td>\n",
              "      <td>Domingão taí! ☀️\\nEm casa! 😐😬\\nVai passar! 🙏🏼\\...</td>\n",
              "      <td>0</td>\n",
              "      <td>120</td>\n",
              "      <td>pt</td>\n",
              "      <td>Fortaleza</td>\n",
              "      <td>Brazil</td>\n",
              "      <td>BR</td>\n",
              "      <td>-38.526600</td>\n",
              "      <td>-3.729300</td>\n",
              "      <td>['emcasa', 'isolamentosocial', 'saude', 'quero...</td>\n",
              "    </tr>\n",
              "    <tr>\n",
              "      <th>289</th>\n",
              "      <td>2020-03-31 17:52:37</td>\n",
              "      <td>jairo santos souza</td>\n",
              "      <td>soi_jairo</td>\n",
              "      <td>Seguindo orientação do Presidente Bolsonaro, o...</td>\n",
              "      <td>0</td>\n",
              "      <td>22</td>\n",
              "      <td>pt</td>\n",
              "      <td>Euclides da Cunha</td>\n",
              "      <td>Brazil</td>\n",
              "      <td>BR</td>\n",
              "      <td>-39.014620</td>\n",
              "      <td>-10.505250</td>\n",
              "      <td>[]</td>\n",
              "    </tr>\n",
              "    <tr>\n",
              "      <th>477</th>\n",
              "      <td>2020-03-24 17:27:29</td>\n",
              "      <td>Carolina Porne</td>\n",
              "      <td>carolinaporne</td>\n",
              "      <td>#5 - Isolamento social não é desculpa para fic...</td>\n",
              "      <td>0</td>\n",
              "      <td>373</td>\n",
              "      <td>pt</td>\n",
              "      <td>Guarulhos</td>\n",
              "      <td>Brazil</td>\n",
              "      <td>BR</td>\n",
              "      <td>-46.495600</td>\n",
              "      <td>-23.445600</td>\n",
              "      <td>[]</td>\n",
              "    </tr>\n",
              "    <tr>\n",
              "      <th>...</th>\n",
              "      <td>...</td>\n",
              "      <td>...</td>\n",
              "      <td>...</td>\n",
              "      <td>...</td>\n",
              "      <td>...</td>\n",
              "      <td>...</td>\n",
              "      <td>...</td>\n",
              "      <td>...</td>\n",
              "      <td>...</td>\n",
              "      <td>...</td>\n",
              "      <td>...</td>\n",
              "      <td>...</td>\n",
              "      <td>...</td>\n",
              "    </tr>\n",
              "    <tr>\n",
              "      <th>1658284</th>\n",
              "      <td>2020-04-16 19:45:29</td>\n",
              "      <td>Bruno Agrofoglio Ferreira</td>\n",
              "      <td>agrofoglio</td>\n",
              "      <td>Criei um bot para o Telegram raspando os dados...</td>\n",
              "      <td>0</td>\n",
              "      <td>49</td>\n",
              "      <td>pt</td>\n",
              "      <td>Paulínia</td>\n",
              "      <td>Brazil</td>\n",
              "      <td>BR</td>\n",
              "      <td>-47.203010</td>\n",
              "      <td>-22.757163</td>\n",
              "      <td>[]</td>\n",
              "    </tr>\n",
              "    <tr>\n",
              "      <th>1658503</th>\n",
              "      <td>2020-05-31 12:38:32</td>\n",
              "      <td>BARÃO DE CEARA MIRIM</td>\n",
              "      <td>baraocearamirim</td>\n",
              "      <td>Serra da Formiga em Riachuelo RN\\nDestino marc...</td>\n",
              "      <td>0</td>\n",
              "      <td>808</td>\n",
              "      <td>pt</td>\n",
              "      <td>Riachuelo</td>\n",
              "      <td>Brazil</td>\n",
              "      <td>BR</td>\n",
              "      <td>-35.823770</td>\n",
              "      <td>-5.815792</td>\n",
              "      <td>[]</td>\n",
              "    </tr>\n",
              "    <tr>\n",
              "      <th>1658514</th>\n",
              "      <td>2020-03-23 23:48:19</td>\n",
              "      <td>Diego Pelizari</td>\n",
              "      <td>diegopelizari</td>\n",
              "      <td>#Repost de respeito da parceira agroschoolbras...</td>\n",
              "      <td>0</td>\n",
              "      <td>174</td>\n",
              "      <td>pt</td>\n",
              "      <td>São Félix do Araguaia</td>\n",
              "      <td>Brazil</td>\n",
              "      <td>BR</td>\n",
              "      <td>-53.000000</td>\n",
              "      <td>-11.000000</td>\n",
              "      <td>['Repost']</td>\n",
              "    </tr>\n",
              "    <tr>\n",
              "      <th>1658760</th>\n",
              "      <td>2020-05-12 09:30:34</td>\n",
              "      <td>Hamilton Valerio</td>\n",
              "      <td>hvalerio</td>\n",
              "      <td>Mais um amanhecer em isolamento social. em Pra...</td>\n",
              "      <td>0</td>\n",
              "      <td>176</td>\n",
              "      <td>pt</td>\n",
              "      <td>Jaboatão dos Guararapes</td>\n",
              "      <td>Brazil</td>\n",
              "      <td>BR</td>\n",
              "      <td>-34.919555</td>\n",
              "      <td>-8.198139</td>\n",
              "      <td>[]</td>\n",
              "    </tr>\n",
              "    <tr>\n",
              "      <th>1658824</th>\n",
              "      <td>2020-06-02 16:04:51</td>\n",
              "      <td>Fotógrafo</td>\n",
              "      <td>omarcelogoulart</td>\n",
              "      <td>Em meio a uma pandemia, estamos na luta também...</td>\n",
              "      <td>0</td>\n",
              "      <td>726</td>\n",
              "      <td>pt</td>\n",
              "      <td>São Félix do Araguaia</td>\n",
              "      <td>Brazil</td>\n",
              "      <td>BR</td>\n",
              "      <td>-53.000000</td>\n",
              "      <td>-11.000000</td>\n",
              "      <td>[]</td>\n",
              "    </tr>\n",
              "  </tbody>\n",
              "</table>\n",
              "<p>8720 rows × 13 columns</p>\n",
              "</div>"
            ],
            "text/plain": [
              "                        data  ...                                           hashtags\n",
              "4        2020-03-19 17:49:40  ...                                                 []\n",
              "261      2020-04-16 00:34:54  ...                                                 []\n",
              "265      2020-05-03 13:48:52  ...  ['emcasa', 'isolamentosocial', 'saude', 'quero...\n",
              "289      2020-03-31 17:52:37  ...                                                 []\n",
              "477      2020-03-24 17:27:29  ...                                                 []\n",
              "...                      ...  ...                                                ...\n",
              "1658284  2020-04-16 19:45:29  ...                                                 []\n",
              "1658503  2020-05-31 12:38:32  ...                                                 []\n",
              "1658514  2020-03-23 23:48:19  ...                                         ['Repost']\n",
              "1658760  2020-05-12 09:30:34  ...                                                 []\n",
              "1658824  2020-06-02 16:04:51  ...                                                 []\n",
              "\n",
              "[8720 rows x 13 columns]"
            ]
          },
          "metadata": {
            "tags": []
          },
          "execution_count": 25
        }
      ]
    }
  ]
}