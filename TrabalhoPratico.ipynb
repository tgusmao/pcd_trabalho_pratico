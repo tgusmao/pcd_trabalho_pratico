{
  "nbformat": 4,
  "nbformat_minor": 0,
  "metadata": {
    "colab": {
      "name": "TrabalhoPratico.ipynb",
      "provenance": [],
      "collapsed_sections": [],
      "toc_visible": true,
      "include_colab_link": true
    },
    "kernelspec": {
      "name": "python3",
      "display_name": "Python 3"
    }
  },
  "cells": [
    {
      "cell_type": "markdown",
      "metadata": {
        "id": "view-in-github",
        "colab_type": "text"
      },
      "source": [
        "<a href=\"https://colab.research.google.com/github/tgusmao/programacao_ds/blob/master/TrabalhoPratico.ipynb\" target=\"_parent\"><img src=\"https://colab.research.google.com/assets/colab-badge.svg\" alt=\"Open In Colab\"/></a>"
      ]
    },
    {
      "cell_type": "markdown",
      "metadata": {
        "id": "KxvNKP0DGdVo",
        "colab_type": "text"
      },
      "source": [
        "# **Trabalho Prático de Programação para Ciências de Dados**"
      ]
    },
    {
      "cell_type": "markdown",
      "metadata": {
        "id": "eBEzEafyyx_R",
        "colab_type": "text"
      },
      "source": [
        "Dupla: \n",
        "*   Tammy Hikari Yanai Gusmão\n",
        "*   Thalita Naiara Alves\n",
        "\n",
        "\n",
        "Trabalho Prático para obtenção de nota na disciplina de Programação para Ciências de Dados - Turma 1 de 2020."
      ]
    },
    {
      "cell_type": "markdown",
      "metadata": {
        "id": "1nm1WqMqp99i",
        "colab_type": "text"
      },
      "source": [
        "##Importação da Base de Dados"
      ]
    },
    {
      "cell_type": "code",
      "metadata": {
        "id": "Xu430E4N6lt6",
        "colab_type": "code",
        "colab": {}
      },
      "source": [
        "import pandas as pd"
      ],
      "execution_count": null,
      "outputs": []
    },
    {
      "cell_type": "markdown",
      "metadata": {
        "id": "WLFvYC1LMdiP",
        "colab_type": "text"
      },
      "source": [
        "Iniciando abaixo a leitura do arquivo CSV local (localizado no Google Drive)"
      ]
    },
    {
      "cell_type": "code",
      "metadata": {
        "id": "4xNXtQqqlT0p",
        "colab_type": "code",
        "colab": {
          "base_uri": "https://localhost:8080/",
          "height": 35
        },
        "outputId": "61bb3b3b-7a1d-430d-84c8-96fc1603ed49"
      },
      "source": [
        "from google.colab import drive\n",
        "drive.mount('/content/drive')"
      ],
      "execution_count": null,
      "outputs": [
        {
          "output_type": "stream",
          "text": [
            "Mounted at /content/drive\n"
          ],
          "name": "stdout"
        }
      ]
    },
    {
      "cell_type": "code",
      "metadata": {
        "id": "hh5J92U3V3tj",
        "colab_type": "code",
        "colab": {}
      },
      "source": [
        "df_original = pd.read_csv('/content/drive/My Drive/dados-curso-completo.csv', sep = ',', skiprows = 0, encoding = 'utf-8')"
      ],
      "execution_count": null,
      "outputs": []
    },
    {
      "cell_type": "code",
      "metadata": {
        "id": "9H-XIRhkz1Mc",
        "colab_type": "code",
        "colab": {}
      },
      "source": [
        "#cópia da base original\n",
        "df_copia_original = df_original.copy()"
      ],
      "execution_count": null,
      "outputs": []
    },
    {
      "cell_type": "code",
      "metadata": {
        "id": "u68TQposz9EL",
        "colab_type": "code",
        "colab": {}
      },
      "source": [
        "#criação de uma coluna extra, para armazenar o idioma correto dos tweets\n",
        "df_original['idioma_detectado'] = ''"
      ],
      "execution_count": null,
      "outputs": []
    },
    {
      "cell_type": "markdown",
      "metadata": {
        "id": "KJPQWTJUYi86",
        "colab_type": "text"
      },
      "source": [
        "##Resumo do dataset original\n",
        "\n"
      ]
    },
    {
      "cell_type": "markdown",
      "metadata": {
        "id": "Cb9irjg20UCE",
        "colab_type": "text"
      },
      "source": [
        "A base de dados contém informações sobre tuítes sobre a COVID-19, postados durante o primeiro semestre do ano de 2020. A base foi levemente pré-processada anteriormente pelo professor da disciplina.  "
      ]
    },
    {
      "cell_type": "code",
      "metadata": {
        "id": "Jz3vp2V-0W7d",
        "colab_type": "code",
        "colab": {}
      },
      "source": [
        "df_original.shape"
      ],
      "execution_count": null,
      "outputs": []
    },
    {
      "cell_type": "markdown",
      "metadata": {
        "id": "1CqY9eC70yXY",
        "colab_type": "text"
      },
      "source": [
        "Como pode ser visto acima, o atributo *shape* retornou uma tupla contendo a quantidade de linhas e colunas que constituem a base: 1.658.825 linhas e 13 colunas. "
      ]
    },
    {
      "cell_type": "code",
      "metadata": {
        "id": "IL-uTjIP024C",
        "colab_type": "code",
        "colab": {}
      },
      "source": [
        "df_original.columns"
      ],
      "execution_count": null,
      "outputs": []
    },
    {
      "cell_type": "markdown",
      "metadata": {
        "id": "uqX93mH30_go",
        "colab_type": "text"
      },
      "source": [
        "As 13 colunas foram identificadas pelos seguintes nomes: \n",
        "data, usuario (nome de perfil), apelido \n",
        "\n",
        "*   data;\n",
        "*   usuario (nome de perfil);\n",
        "*   apelido (username)\n",
        "*   texto (tuíte em si);\n",
        "*   retweet;\n",
        "*   seguidores;\n",
        "*   idioma;\n",
        "*   lugar;\n",
        "*   pais;\n",
        "*   sigla;\n",
        "*   latitude;\n",
        "*   longitude;\n",
        "*   hashtags."
      ]
    },
    {
      "cell_type": "code",
      "metadata": {
        "id": "3Z8tvFH5mk-9",
        "colab_type": "code",
        "colab": {
          "base_uri": "https://localhost:8080/",
          "height": 255
        },
        "outputId": "a2b897ec-b0a9-4118-cd78-276389949795"
      },
      "source": [
        "df_original.isnull().sum()"
      ],
      "execution_count": null,
      "outputs": [
        {
          "output_type": "execute_result",
          "data": {
            "text/plain": [
              "data                0\n",
              "usuario            57\n",
              "apelido             0\n",
              "texto               0\n",
              "retweet             0\n",
              "seguidores          0\n",
              "idioma              0\n",
              "lugar         1584220\n",
              "pais          1584225\n",
              "sigla         1584230\n",
              "latitude      1650105\n",
              "longitude     1650105\n",
              "hashtags            0\n",
              "dtype: int64"
            ]
          },
          "metadata": {
            "tags": []
          },
          "execution_count": 21
        }
      ]
    },
    {
      "cell_type": "markdown",
      "metadata": {
        "id": "zDeFTdMIwRxt",
        "colab_type": "text"
      },
      "source": [
        "## Tratamento de Dados"
      ]
    },
    {
      "cell_type": "markdown",
      "metadata": {
        "id": "LL4uILih1M4T",
        "colab_type": "text"
      },
      "source": [
        "De acordo com os achados apresentados anteriormente, as colunas *usuario*, *lugar*, *pais* e *sigla*. Por conta da natureza dos atributos, *latitude* e *longitude* serão mantidos como estão para uma análise posterior.\n",
        "\n",
        "A seguir, temos o preenchimento de dados aplicados somente nas colunas *usuario*, *lugar*, *pais* e *sigla*. "
      ]
    },
    {
      "cell_type": "code",
      "metadata": {
        "id": "wixhhCC-1Nu2",
        "colab_type": "code",
        "colab": {}
      },
      "source": [
        "df_original['usuario'] = df_original['usuario'].fillna('')\n",
        "df_original['lugar'] = df_original['lugar'].fillna('Não Informado')\n",
        "df_original['pais'] = df_original['pais'].fillna('Não Informado')\n",
        "df_original['sigla'] = df_original['sigla'].fillna('Não Informado')"
      ],
      "execution_count": null,
      "outputs": []
    },
    {
      "cell_type": "markdown",
      "metadata": {
        "id": "G6M64__5yLjK",
        "colab_type": "text"
      },
      "source": [
        "Em uma busca manual, foi conferido que existem tweets repetidos. Para tanto, foi aplicada a função de remoção de linhas duplicadas."
      ]
    },
    {
      "cell_type": "code",
      "metadata": {
        "id": "4LI4lnVk9XHh",
        "colab_type": "code",
        "colab": {}
      },
      "source": [
        "df_reduzida = pd.DataFrame.drop_duplicates(df_original)\n",
        "print(df_total.shape)\n",
        "print(df_reduzida.shape)"
      ],
      "execution_count": null,
      "outputs": []
    },
    {
      "cell_type": "markdown",
      "metadata": {
        "id": "DZ4cSLCQ9dZO",
        "colab_type": "text"
      },
      "source": [
        "A remoção da linhas duplicadas mostra que haviam 3 tweets iguais no dataset. Somente uma delas permaneceu no dataset."
      ]
    },
    {
      "cell_type": "code",
      "metadata": {
        "id": "uKwlICpwwT6T",
        "colab_type": "code",
        "colab": {}
      },
      "source": [
        "df_original = df_original.rename(columns = {'Data':'data','Usuario':'nome_perfil', 'Apelido':'username', 'Texto':'tweet', 'Retweet':'qntd_retweet', 'Seguidores':'qntd_seguidores', 'Idioma':'idioma', 'Lugar':'lugar', 'Pais':'pais', 'Sigla':'sigla_pais', 'Latitude':'lat', 'Longitude':'long', 'Hashtags':'hashtags'})"
      ],
      "execution_count": null,
      "outputs": []
    },
    {
      "cell_type": "markdown",
      "metadata": {
        "id": "_zU_nLrIZxlc",
        "colab_type": "text"
      },
      "source": [
        "##Classificação de Temas"
      ]
    }
  ]
}