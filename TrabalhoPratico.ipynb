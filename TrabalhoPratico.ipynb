{
  "nbformat": 4,
  "nbformat_minor": 0,
  "metadata": {
    "colab": {
      "name": "TrabalhoPratico.ipynb",
      "provenance": [],
      "collapsed_sections": [],
      "include_colab_link": true
    },
    "kernelspec": {
      "name": "python3",
      "display_name": "Python 3"
    }
  },
  "cells": [
    {
      "cell_type": "markdown",
      "metadata": {
        "id": "view-in-github",
        "colab_type": "text"
      },
      "source": [
        "<a href=\"https://colab.research.google.com/github/tgusmao/programacao_ds/blob/master/TrabalhoPratico.ipynb\" target=\"_parent\"><img src=\"https://colab.research.google.com/assets/colab-badge.svg\" alt=\"Open In Colab\"/></a>"
      ]
    },
    {
      "cell_type": "markdown",
      "metadata": {
        "id": "KxvNKP0DGdVo",
        "colab_type": "text"
      },
      "source": [
        "# **Trabalho Prático de Programação para Ciências de Dados**"
      ]
    },
    {
      "cell_type": "markdown",
      "metadata": {
        "id": "eBEzEafyyx_R",
        "colab_type": "text"
      },
      "source": [
        "Dupla: \n",
        "*   Tammy Hikari Yanai Gusmão\n",
        "*   Thalita Naiara Alves\n",
        "\n",
        "\n",
        "Trabalho Prático para obtenção de nota na disciplina de Programação para Ciências de Dados - Turma 1 de 2020."
      ]
    },
    {
      "cell_type": "markdown",
      "metadata": {
        "id": "1nm1WqMqp99i",
        "colab_type": "text"
      },
      "source": [
        "##Importação da Base de Dados"
      ]
    },
    {
      "cell_type": "code",
      "metadata": {
        "id": "Xu430E4N6lt6",
        "colab_type": "code",
        "colab": {}
      },
      "source": [
        "import pandas as pd\n",
        "import numpy as np\n",
        "import matplotlib.pyplot as plt\n",
        "import matplotlib.colors as pltc\n",
        "from random import sample"
      ],
      "execution_count": 1,
      "outputs": []
    },
    {
      "cell_type": "markdown",
      "metadata": {
        "id": "WLFvYC1LMdiP",
        "colab_type": "text"
      },
      "source": [
        "Iniciando abaixo a leitura do arquivo CSV local (localizado no Google Drive)"
      ]
    },
    {
      "cell_type": "code",
      "metadata": {
        "id": "4xNXtQqqlT0p",
        "colab_type": "code",
        "colab": {
          "base_uri": "https://localhost:8080/",
          "height": 35
        },
        "outputId": "cc2d5620-5964-4fc9-fff6-2aefd5205df5"
      },
      "source": [
        "from google.colab import drive\n",
        "drive.mount('/content/drive')"
      ],
      "execution_count": 2,
      "outputs": [
        {
          "output_type": "stream",
          "text": [
            "Mounted at /content/drive\n"
          ],
          "name": "stdout"
        }
      ]
    },
    {
      "cell_type": "code",
      "metadata": {
        "id": "hh5J92U3V3tj",
        "colab_type": "code",
        "colab": {}
      },
      "source": [
        "df_original = pd.read_csv('/content/drive/Shared drives/trabalhoPratico_programacaoDS/dados-curso-completo.csv', sep = ',', skiprows = 0, encoding = 'utf-8')"
      ],
      "execution_count": 3,
      "outputs": []
    },
    {
      "cell_type": "code",
      "metadata": {
        "id": "9H-XIRhkz1Mc",
        "colab_type": "code",
        "colab": {}
      },
      "source": [
        "#cópia da base original\n",
        "df_copia_original = df_original.copy()"
      ],
      "execution_count": null,
      "outputs": []
    },
    {
      "cell_type": "markdown",
      "metadata": {
        "id": "KJPQWTJUYi86",
        "colab_type": "text"
      },
      "source": [
        "##Resumo do dataset original\n",
        "\n"
      ]
    },
    {
      "cell_type": "markdown",
      "metadata": {
        "id": "Cb9irjg20UCE",
        "colab_type": "text"
      },
      "source": [
        "A base de dados contém informações sobre tuítes sobre a COVID-19, postados durante o primeiro semestre do ano de 2020. A base foi levemente pré-processada anteriormente pelo professor da disciplina.  "
      ]
    },
    {
      "cell_type": "code",
      "metadata": {
        "id": "Jz3vp2V-0W7d",
        "colab_type": "code",
        "colab": {
          "base_uri": "https://localhost:8080/",
          "height": 52
        },
        "outputId": "c868dc97-218f-46d8-de80-3a2203b9c2f5"
      },
      "source": [
        "qntd_linhas = df_original.shape[0]\n",
        "qntd_colunas = df_original.shape[1]\n",
        "print('Quantidade de linhas: ', qntd_linhas)\n",
        "print('Quantidade de colunas: ', qntd_colunas)"
      ],
      "execution_count": null,
      "outputs": [
        {
          "output_type": "stream",
          "text": [
            "Quantidade de linhas:  1658825\n",
            "Quantidade de colunas:  13\n"
          ],
          "name": "stdout"
        }
      ]
    },
    {
      "cell_type": "markdown",
      "metadata": {
        "id": "1CqY9eC70yXY",
        "colab_type": "text"
      },
      "source": [
        "Como pode ser visto acima, o atributo *shape* retornou uma tupla contendo a quantidade de linhas e colunas que constituem a base: 1.658.825 linhas e 13 colunas. \n",
        "\n",
        "Abaixo temos a lista dos nomes das colunas existentes:"
      ]
    },
    {
      "cell_type": "code",
      "metadata": {
        "id": "IL-uTjIP024C",
        "colab_type": "code",
        "colab": {
          "base_uri": "https://localhost:8080/",
          "height": 243
        },
        "outputId": "a46a4cfc-1f54-4da4-f5a0-b2a8244fb2eb"
      },
      "source": [
        "for col in df_original.columns:\n",
        "  print(col)"
      ],
      "execution_count": null,
      "outputs": [
        {
          "output_type": "stream",
          "text": [
            "data\n",
            "usuario\n",
            "apelido\n",
            "texto\n",
            "retweet\n",
            "seguidores\n",
            "idioma\n",
            "lugar\n",
            "pais\n",
            "sigla\n",
            "latitude\n",
            "longitude\n",
            "hashtags\n"
          ],
          "name": "stdout"
        }
      ]
    },
    {
      "cell_type": "markdown",
      "metadata": {
        "id": "Vv7Ozr7DBUmQ",
        "colab_type": "text"
      },
      "source": [
        "Como pode ser observado abaixo, os tipos de variáveis que consistem o dataframe são *object*, *int64* e *float64*. As colunas com tipo *object* são aquelas com dados textuais. As colunas com tipo *int64* são as que contém dados quantitativos. As de tipo *float64* contém dados de números quebrados. "
      ]
    },
    {
      "cell_type": "code",
      "metadata": {
        "id": "BxC551PL_ABb",
        "colab_type": "code",
        "colab": {
          "base_uri": "https://localhost:8080/",
          "height": 260
        },
        "outputId": "a1e8f1a4-bdb6-4238-dddb-ac0dc7fb4b2b"
      },
      "source": [
        "df_original.dtypes"
      ],
      "execution_count": null,
      "outputs": [
        {
          "output_type": "execute_result",
          "data": {
            "text/plain": [
              "data           object\n",
              "usuario        object\n",
              "apelido        object\n",
              "texto          object\n",
              "retweet         int64\n",
              "seguidores      int64\n",
              "idioma         object\n",
              "lugar          object\n",
              "pais           object\n",
              "sigla          object\n",
              "latitude      float64\n",
              "longitude     float64\n",
              "hashtags       object\n",
              "dtype: object"
            ]
          },
          "metadata": {
            "tags": []
          },
          "execution_count": 6
        }
      ]
    },
    {
      "cell_type": "code",
      "metadata": {
        "id": "3Z8tvFH5mk-9",
        "colab_type": "code",
        "colab": {
          "base_uri": "https://localhost:8080/",
          "height": 260
        },
        "outputId": "8fd8ff4a-1d20-4b63-9ad2-686a570857e4"
      },
      "source": [
        "df_original.isnull().sum()"
      ],
      "execution_count": null,
      "outputs": [
        {
          "output_type": "execute_result",
          "data": {
            "text/plain": [
              "data                0\n",
              "usuario            57\n",
              "apelido             0\n",
              "texto               0\n",
              "retweet             0\n",
              "seguidores          0\n",
              "idioma              0\n",
              "lugar         1584220\n",
              "pais          1584225\n",
              "sigla         1584230\n",
              "latitude      1650105\n",
              "longitude     1650105\n",
              "hashtags            0\n",
              "dtype: int64"
            ]
          },
          "metadata": {
            "tags": []
          },
          "execution_count": 7
        }
      ]
    },
    {
      "cell_type": "markdown",
      "metadata": {
        "id": "NjpTBvorDHXe",
        "colab_type": "text"
      },
      "source": [
        "Levando em consideração o achado acima, faz-se necessário o preenchimento apropriado para eliminar os espaços vazios presentes no dataset. Esta atividade é realizada na seção seguinte (Tratamento de Dados).\n",
        "\n",
        "Para uma perspectiva visual da característica quantitativa dos atributos, foram plotados os gráficos a seguir:\n"
      ]
    },
    {
      "cell_type": "code",
      "metadata": {
        "id": "yyyC_Q_rP7uX",
        "colab_type": "code",
        "colab": {}
      },
      "source": [
        "#Arrays com as quantidades de células não nulas e nulas, respectivamente, \n",
        "#de cada coluna que apresenta valores nulos\n",
        "qntd_naonulos = [df_original.usuario.notnull().sum(),df_original.sigla.notnull().sum(),df_original.lugar.notnull().sum(),\n",
        "           df_original.pais.notnull().sum(), df_original.latitude.notnull().sum(), \n",
        "           df_original.longitude.notnull().sum()]\n",
        "\n",
        "qntd_nulos = [df_original.usuario.isnull().sum(), df_original.sigla.isnull().sum(), df_original.lugar.isnull().sum(),\n",
        "                 df_original.pais.isnull().sum(), df_original.latitude.isnull().sum(), \n",
        "                 df_original.longitude.isnull().sum()]\n",
        "\n",
        "#Array com labels para os gráficos a seguir\n",
        "labels_valores_ausentes = ['Usuário', 'Sigla', 'Lugar', 'País', 'Latitude', 'Longitude']"
      ],
      "execution_count": 4,
      "outputs": []
    },
    {
      "cell_type": "code",
      "metadata": {
        "id": "hR1V84Q8P9f4",
        "colab_type": "code",
        "colab": {
          "base_uri": "https://localhost:8080/",
          "height": 281
        },
        "outputId": "aa8a553a-b716-4b3e-b36d-415d01e5dc01"
      },
      "source": [
        "# Range com a quantidade de itens das barras\n",
        "x_pos = np.arange(len(qntd_naonulos))\n",
        "\n",
        "first_bar = plt.bar(x_pos, qntd_naonulos, 0.5, color='b')\n",
        "second_bar = plt.bar(x_pos, qntd_nulos, 0.5, color='y', bottom=qntd_naonulos)\n",
        "\n",
        "# Definir posição e labels no eixo X\n",
        "plt.xticks(x_pos+0.25, (labels_valores_ausentes))\n",
        "\n",
        "plt.title(\"Perspectiva Quantitativa: Nulos x Não-nulos\")\n",
        "plt.savefig('qntd_nulos_naoNulos_barchar.png')\n",
        "plt.legend(['Não Nulos', 'Nulos'],loc=5)\n",
        "plt.show()"
      ],
      "execution_count": 63,
      "outputs": [
        {
          "output_type": "display_data",
          "data": {
            "image/png": "[encoded data removed]",
            "text/plain": [
              "<Figure size 432x288 with 1 Axes>"
            ]
          },
          "metadata": {
            "tags": [],
            "needs_background": "light"
          }
        }
      ]
    },
    {
      "cell_type": "markdown",
      "metadata": {
        "id": "8MchyP7kUCXR",
        "colab_type": "text"
      },
      "source": [
        "No que diz respeito à coluna *usuario*, sabe-se que existem 57 linhas que possuem valores. Por conta da grande quantidade de casos existentes (acima de 1 milhão), não é possível ver a barra inferior que contabiliza o total de nulos da coluna. \n",
        "\n",
        "Ademais, nota-se que: as quantidades para *sigla*, *lugar* e '*pais* são semelhantes; e que a base de casos possui pouquíssimas lacunas preenchidas com valores de latitude e longitude. \n",
        "\n",
        "Abaixo podemos observar a quantidade em porcentagem para as colunas que apresentam valores nulos. "
      ]
    },
    {
      "cell_type": "code",
      "metadata": {
        "id": "cLBvK3FqLoBF",
        "colab_type": "code",
        "colab": {}
      },
      "source": [
        "#Gerador de cores aleatórias para os gráficos.\n",
        "todas_as_cores = [k for k,v in pltc.cnames.items()]\n",
        "fracs = np.array([600, 179, 154, 139, 126, 1185])\n",
        "\n",
        "def gerar_cores_aleatorias():\n",
        "  return sample(todas_as_cores, len(fracs))"
      ],
      "execution_count": 5,
      "outputs": []
    },
    {
      "cell_type": "code",
      "metadata": {
        "id": "ZvVm5J8jA9o2",
        "colab_type": "code",
        "colab": {
          "base_uri": "https://localhost:8080/",
          "height": 264
        },
        "outputId": "45246778-1738-4040-b375-c78348faf22e"
      },
      "source": [
        "# Criação da figure com uma linha e duas colunas. Figsize define o tamanho da figure\n",
        "fig, eixos = plt.subplots(nrows=1, ncols=2, figsize=(8,4))\n",
        "\n",
        "cores_aleatorias = gerar_cores_aleatorias()\n",
        "\n",
        "# Cria o gráfico de pizza na primeira posição com as configurações definidas\n",
        "pie_1 = eixos[0].pie(qntd_nulos, labels=labels_valores_ausentes,\n",
        "                    autopct='%1.1f%%', colors=cores_aleatorias)\n",
        "\n",
        "# Define o título deste gráfico\n",
        "eixos[0].set_title('Porcentagem de Valores Nulos')\n",
        "# Deixa os dois eixos iguais, fazendo com que o gráfico mantenha-se redondo\n",
        "eixos[0].axis('equal')\n",
        "\n",
        "# Idem a acima, para o segundo gráfico de pizza\n",
        "pie_2 = eixos[1].pie(qntd_naonulos, labels=labels_valores_ausentes,\n",
        "                    autopct='%1.1f%%', startangle=180, colors=cores_aleatorias)\n",
        "eixos[1].set_title('Porcentagem de Valores Não-nulos')\n",
        "plt.axis('equal')\n",
        "\n",
        "# Ajusta o espaço entre os dois gráficos\n",
        "plt.subplots_adjust(wspace=1)\n",
        "plt.savefig('qntd_nulos_naoNulos_piechar.png')\n",
        "plt.legend(loc='lower left')\n",
        "plt.show()"
      ],
      "execution_count": 32,
      "outputs": [
        {
          "output_type": "display_data",
          "data": {
            "image/png": "[encoded data removed]",
            "text/plain": [
              "<Figure size 576x288 with 2 Axes>"
            ]
          },
          "metadata": {
            "tags": []
          }
        }
      ]
    },
    {
      "cell_type": "markdown",
      "metadata": {
        "id": "d-76Mohdbojn",
        "colab_type": "text"
      },
      "source": [
        "*idioma*, *sigla*, *pais* e *lugar* são atributos categróricos, isto é, caracterizam o tweet e/ou o usuário que postou o tweet. Como não houve restrição na coleta dedados quanto a localização e idioma, o dataset possui tweets do mundo todo como pode ser observado nas estatísticas abaixo, que apresentam os dez primeiros itens com maiores ocorrências:"
      ]
    },
    {
      "cell_type": "code",
      "metadata": {
        "id": "9azFlnrogSfx",
        "colab_type": "code",
        "colab": {}
      },
      "source": [
        "#Aquisição de lista de siglas dos idiomas e a quantidade de suas ocorrências\n",
        "l_idiomas = df_original['idioma'].value_counts().to_frame()\n",
        "l_idiomas = l_idiomas.rename(columns = {'idioma':'qntd_idioma'})\n",
        "l_idiomas['porcentagem'] = round(((l_idiomas['qntd_idioma'] * 100)/df_original.shape[0]), 2)\n",
        "l_idiomas['sigla_idioma'] = l_idiomas.index\n",
        "l_idiomas.reset_index(drop=True, inplace=True)\n",
        "l_idiomas = l_idiomas[['sigla_idioma','qntd_idioma','porcentagem']]\n",
        "\n",
        "#Aquisição de lista de siglas dos países e a quantidade de suas ocorrências\n",
        "l_siglas = df_original['sigla'].value_counts().to_frame()\n",
        "l_siglas = l_siglas.rename(columns = {'sigla':'qntd_sigla'})\n",
        "l_siglas['porcentagem'] = round(((l_siglas['qntd_sigla'] * 100)/df_original.shape[0]), 2)\n",
        "l_siglas['sigla'] = l_siglas.index\n",
        "l_siglas.reset_index(drop=True, inplace=True)\n",
        "l_siglas = l_siglas[['sigla','qntd_sigla','porcentagem']]\n",
        "\n",
        "#Aquisição de lista de nomes de países e a quantidade de suas ocorrências\n",
        "l_paises = df_original['pais'].value_counts().to_frame()\n",
        "l_paises = l_paises.rename(columns = {'pais':'qntd_pais'})\n",
        "l_paises['porcentagem'] = round(((l_paises['qntd_pais'] * 100)/df_original.shape[0]), 2)\n",
        "l_paises['pais'] = l_paises.index\n",
        "l_paises.reset_index(drop=True, inplace=True)\n",
        "l_paises = l_paises[['pais','qntd_pais','porcentagem']]\n",
        "\n",
        "#Aquisição de lista de nomes dos lugares e a quantidade de suas ocorrências\n",
        "#A lista foi delimitada para os lugares (identificados) com mais postagens\n",
        "#Casos com valores nulos não foram considerados\n",
        "l_lugares = df_original['lugar'].value_counts().to_frame()\n",
        "l_lugares = l_lugares.rename(columns = {'lugar':'qntd_lugar'})\n",
        "l_lugares['porcentagem'] = round(((l_lugares['qntd_lugar'] * 100)/df_original.shape[0]), 2)\n",
        "l_lugares['lugar'] = l_lugares.index\n",
        "l_lugares.reset_index(drop=True, inplace=True)\n",
        "l_lugares = l_lugares[['lugar','qntd_lugar','porcentagem']]"
      ],
      "execution_count": 72,
      "outputs": []
    },
    {
      "cell_type": "code",
      "metadata": {
        "id": "iY--PaDCwxKR",
        "colab_type": "code",
        "colab": {
          "base_uri": "https://localhost:8080/",
          "height": 425
        },
        "outputId": "4f958e80-33ea-4300-d26f-ff9bfeee5257"
      },
      "source": [
        "print(\"Quantidade de siglas idiomáticas únicas: \", len(l_idiomas),\".\\n\")\n",
        "print('TOP 10 de idiomas únicos presentes no dataset:\\n')\n",
        "l_idiomas.head(10)"
      ],
      "execution_count": 80,
      "outputs": [
        {
          "output_type": "stream",
          "text": [
            "Quantidade de siglas idiomáticas únicas:  59 .\n",
            "\n",
            "TOP 10 de idiomas únicos presentes no dataset:\n",
            "\n"
          ],
          "name": "stdout"
        },
        {
          "output_type": "execute_result",
          "data": {
            "text/html": [
              "<div>\n",
              "<style scoped>\n",
              "    .dataframe tbody tr th:only-of-type {\n",
              "        vertical-align: middle;\n",
              "    }\n",
              "\n",
              "    .dataframe tbody tr th {\n",
              "        vertical-align: top;\n",
              "    }\n",
              "\n",
              "    .dataframe thead th {\n",
              "        text-align: right;\n",
              "    }\n",
              "</style>\n",
              "<table border=\"1\" class=\"dataframe\">\n",
              "  <thead>\n",
              "    <tr style=\"text-align: right;\">\n",
              "      <th></th>\n",
              "      <th>sigla_idioma</th>\n",
              "      <th>qntd_idioma</th>\n",
              "      <th>porcentagem</th>\n",
              "    </tr>\n",
              "  </thead>\n",
              "  <tbody>\n",
              "    <tr>\n",
              "      <th>0</th>\n",
              "      <td>pt</td>\n",
              "      <td>1586796</td>\n",
              "      <td>95.66</td>\n",
              "    </tr>\n",
              "    <tr>\n",
              "      <th>1</th>\n",
              "      <td>en</td>\n",
              "      <td>23991</td>\n",
              "      <td>1.45</td>\n",
              "    </tr>\n",
              "    <tr>\n",
              "      <th>2</th>\n",
              "      <td>es</td>\n",
              "      <td>14255</td>\n",
              "      <td>0.86</td>\n",
              "    </tr>\n",
              "    <tr>\n",
              "      <th>3</th>\n",
              "      <td>it</td>\n",
              "      <td>6480</td>\n",
              "      <td>0.39</td>\n",
              "    </tr>\n",
              "    <tr>\n",
              "      <th>4</th>\n",
              "      <td>und</td>\n",
              "      <td>5656</td>\n",
              "      <td>0.34</td>\n",
              "    </tr>\n",
              "    <tr>\n",
              "      <th>5</th>\n",
              "      <td>ar</td>\n",
              "      <td>4579</td>\n",
              "      <td>0.28</td>\n",
              "    </tr>\n",
              "    <tr>\n",
              "      <th>6</th>\n",
              "      <td>fr</td>\n",
              "      <td>3656</td>\n",
              "      <td>0.22</td>\n",
              "    </tr>\n",
              "    <tr>\n",
              "      <th>7</th>\n",
              "      <td>ca</td>\n",
              "      <td>2600</td>\n",
              "      <td>0.16</td>\n",
              "    </tr>\n",
              "    <tr>\n",
              "      <th>8</th>\n",
              "      <td>tr</td>\n",
              "      <td>2296</td>\n",
              "      <td>0.14</td>\n",
              "    </tr>\n",
              "    <tr>\n",
              "      <th>9</th>\n",
              "      <td>ja</td>\n",
              "      <td>1955</td>\n",
              "      <td>0.12</td>\n",
              "    </tr>\n",
              "  </tbody>\n",
              "</table>\n",
              "</div>"
            ],
            "text/plain": [
              "  sigla_idioma  qntd_idioma  porcentagem\n",
              "0           pt      1586796        95.66\n",
              "1           en        23991         1.45\n",
              "2           es        14255         0.86\n",
              "3           it         6480         0.39\n",
              "4          und         5656         0.34\n",
              "5           ar         4579         0.28\n",
              "6           fr         3656         0.22\n",
              "7           ca         2600         0.16\n",
              "8           tr         2296         0.14\n",
              "9           ja         1955         0.12"
            ]
          },
          "metadata": {
            "tags": []
          },
          "execution_count": 80
        }
      ]
    },
    {
      "cell_type": "code",
      "metadata": {
        "id": "uzEVj_GdxBeE",
        "colab_type": "code",
        "colab": {
          "base_uri": "https://localhost:8080/",
          "height": 425
        },
        "outputId": "2fa79630-3cb1-4be8-c376-16eb025389e4"
      },
      "source": [
        "print(\"Quantidade de países únicas: \", len(l_paises),\".\\n\")\n",
        "print('TOP 10 de países únicos presentes no dataset:\\n')\n",
        "l_paises.head(10)"
      ],
      "execution_count": 85,
      "outputs": [
        {
          "output_type": "stream",
          "text": [
            "Quantidade de países únicas:  121 .\n",
            "\n",
            "TOP 10 de países únicos presentes no dataset:\n",
            "\n"
          ],
          "name": "stdout"
        },
        {
          "output_type": "execute_result",
          "data": {
            "text/html": [
              "<div>\n",
              "<style scoped>\n",
              "    .dataframe tbody tr th:only-of-type {\n",
              "        vertical-align: middle;\n",
              "    }\n",
              "\n",
              "    .dataframe tbody tr th {\n",
              "        vertical-align: top;\n",
              "    }\n",
              "\n",
              "    .dataframe thead th {\n",
              "        text-align: right;\n",
              "    }\n",
              "</style>\n",
              "<table border=\"1\" class=\"dataframe\">\n",
              "  <thead>\n",
              "    <tr style=\"text-align: right;\">\n",
              "      <th></th>\n",
              "      <th>pais</th>\n",
              "      <th>qntd_pais</th>\n",
              "      <th>porcentagem</th>\n",
              "    </tr>\n",
              "  </thead>\n",
              "  <tbody>\n",
              "    <tr>\n",
              "      <th>0</th>\n",
              "      <td>Brazil</td>\n",
              "      <td>67247</td>\n",
              "      <td>4.05</td>\n",
              "    </tr>\n",
              "    <tr>\n",
              "      <th>1</th>\n",
              "      <td>Portugal</td>\n",
              "      <td>2675</td>\n",
              "      <td>0.16</td>\n",
              "    </tr>\n",
              "    <tr>\n",
              "      <th>2</th>\n",
              "      <td>United States</td>\n",
              "      <td>1068</td>\n",
              "      <td>0.06</td>\n",
              "    </tr>\n",
              "    <tr>\n",
              "      <th>3</th>\n",
              "      <td>Italy</td>\n",
              "      <td>484</td>\n",
              "      <td>0.03</td>\n",
              "    </tr>\n",
              "    <tr>\n",
              "      <th>4</th>\n",
              "      <td>Spain</td>\n",
              "      <td>379</td>\n",
              "      <td>0.02</td>\n",
              "    </tr>\n",
              "    <tr>\n",
              "      <th>5</th>\n",
              "      <td>United Kingdom</td>\n",
              "      <td>323</td>\n",
              "      <td>0.02</td>\n",
              "    </tr>\n",
              "    <tr>\n",
              "      <th>6</th>\n",
              "      <td>France</td>\n",
              "      <td>218</td>\n",
              "      <td>0.01</td>\n",
              "    </tr>\n",
              "    <tr>\n",
              "      <th>7</th>\n",
              "      <td>Argentina</td>\n",
              "      <td>193</td>\n",
              "      <td>0.01</td>\n",
              "    </tr>\n",
              "    <tr>\n",
              "      <th>8</th>\n",
              "      <td>Republic of Mozambique</td>\n",
              "      <td>167</td>\n",
              "      <td>0.01</td>\n",
              "    </tr>\n",
              "    <tr>\n",
              "      <th>9</th>\n",
              "      <td>Canada</td>\n",
              "      <td>152</td>\n",
              "      <td>0.01</td>\n",
              "    </tr>\n",
              "  </tbody>\n",
              "</table>\n",
              "</div>"
            ],
            "text/plain": [
              "                     pais  qntd_pais  porcentagem\n",
              "0                  Brazil      67247         4.05\n",
              "1                Portugal       2675         0.16\n",
              "2           United States       1068         0.06\n",
              "3                   Italy        484         0.03\n",
              "4                   Spain        379         0.02\n",
              "5          United Kingdom        323         0.02\n",
              "6                  France        218         0.01\n",
              "7               Argentina        193         0.01\n",
              "8  Republic of Mozambique        167         0.01\n",
              "9                  Canada        152         0.01"
            ]
          },
          "metadata": {
            "tags": []
          },
          "execution_count": 85
        }
      ]
    },
    {
      "cell_type": "code",
      "metadata": {
        "id": "pinLDyq5dssx",
        "colab_type": "code",
        "colab": {
          "base_uri": "https://localhost:8080/",
          "height": 407
        },
        "outputId": "adeaeb3f-3cf6-4ad8-d518-3f71e80ce0a7"
      },
      "source": [
        "print(\"Quantidade de siglas nacionais únicas: \", len(l_siglas),\".\\n\")\n",
        "print('TOP 10 de siglas (países) únicas presentes no dataset:')\n",
        "l_siglas.head(10)"
      ],
      "execution_count": 84,
      "outputs": [
        {
          "output_type": "stream",
          "text": [
            "Quantidade de siglas nacionais únicas:  120 .\n",
            "\n",
            "TOP 10 de siglas (países) únicas presentes no dataset:\n"
          ],
          "name": "stdout"
        },
        {
          "output_type": "execute_result",
          "data": {
            "text/html": [
              "<div>\n",
              "<style scoped>\n",
              "    .dataframe tbody tr th:only-of-type {\n",
              "        vertical-align: middle;\n",
              "    }\n",
              "\n",
              "    .dataframe tbody tr th {\n",
              "        vertical-align: top;\n",
              "    }\n",
              "\n",
              "    .dataframe thead th {\n",
              "        text-align: right;\n",
              "    }\n",
              "</style>\n",
              "<table border=\"1\" class=\"dataframe\">\n",
              "  <thead>\n",
              "    <tr style=\"text-align: right;\">\n",
              "      <th></th>\n",
              "      <th>sigla</th>\n",
              "      <th>qntd_sigla</th>\n",
              "      <th>porcentagem</th>\n",
              "    </tr>\n",
              "  </thead>\n",
              "  <tbody>\n",
              "    <tr>\n",
              "      <th>0</th>\n",
              "      <td>BR</td>\n",
              "      <td>67247</td>\n",
              "      <td>4.05</td>\n",
              "    </tr>\n",
              "    <tr>\n",
              "      <th>1</th>\n",
              "      <td>PT</td>\n",
              "      <td>2675</td>\n",
              "      <td>0.16</td>\n",
              "    </tr>\n",
              "    <tr>\n",
              "      <th>2</th>\n",
              "      <td>US</td>\n",
              "      <td>1068</td>\n",
              "      <td>0.06</td>\n",
              "    </tr>\n",
              "    <tr>\n",
              "      <th>3</th>\n",
              "      <td>IT</td>\n",
              "      <td>484</td>\n",
              "      <td>0.03</td>\n",
              "    </tr>\n",
              "    <tr>\n",
              "      <th>4</th>\n",
              "      <td>ES</td>\n",
              "      <td>379</td>\n",
              "      <td>0.02</td>\n",
              "    </tr>\n",
              "    <tr>\n",
              "      <th>5</th>\n",
              "      <td>GB</td>\n",
              "      <td>323</td>\n",
              "      <td>0.02</td>\n",
              "    </tr>\n",
              "    <tr>\n",
              "      <th>6</th>\n",
              "      <td>FR</td>\n",
              "      <td>218</td>\n",
              "      <td>0.01</td>\n",
              "    </tr>\n",
              "    <tr>\n",
              "      <th>7</th>\n",
              "      <td>AR</td>\n",
              "      <td>193</td>\n",
              "      <td>0.01</td>\n",
              "    </tr>\n",
              "    <tr>\n",
              "      <th>8</th>\n",
              "      <td>MZ</td>\n",
              "      <td>167</td>\n",
              "      <td>0.01</td>\n",
              "    </tr>\n",
              "    <tr>\n",
              "      <th>9</th>\n",
              "      <td>CA</td>\n",
              "      <td>152</td>\n",
              "      <td>0.01</td>\n",
              "    </tr>\n",
              "  </tbody>\n",
              "</table>\n",
              "</div>"
            ],
            "text/plain": [
              "  sigla  qntd_sigla  porcentagem\n",
              "0    BR       67247         4.05\n",
              "1    PT        2675         0.16\n",
              "2    US        1068         0.06\n",
              "3    IT         484         0.03\n",
              "4    ES         379         0.02\n",
              "5    GB         323         0.02\n",
              "6    FR         218         0.01\n",
              "7    AR         193         0.01\n",
              "8    MZ         167         0.01\n",
              "9    CA         152         0.01"
            ]
          },
          "metadata": {
            "tags": []
          },
          "execution_count": 84
        }
      ]
    },
    {
      "cell_type": "code",
      "metadata": {
        "id": "3t9tHfKFxFrw",
        "colab_type": "code",
        "colab": {
          "base_uri": "https://localhost:8080/",
          "height": 425
        },
        "outputId": "9094d9a8-4a8e-49bf-9dd6-d3f18853f8ac"
      },
      "source": [
        "print(\"Quantidade de lugares únicos: \", len(l_lugares),\".\\n\")\n",
        "print('TOP 10 de lugares únicos presentes no dataset:\\n')\n",
        "l_lugares.head(10)"
      ],
      "execution_count": 83,
      "outputs": [
        {
          "output_type": "stream",
          "text": [
            "Quantidade de lugares únicos:  4500 .\n",
            "\n",
            "TOP 10 de lugares únicos presentes no dataset:\n",
            "\n"
          ],
          "name": "stdout"
        },
        {
          "output_type": "execute_result",
          "data": {
            "text/html": [
              "<div>\n",
              "<style scoped>\n",
              "    .dataframe tbody tr th:only-of-type {\n",
              "        vertical-align: middle;\n",
              "    }\n",
              "\n",
              "    .dataframe tbody tr th {\n",
              "        vertical-align: top;\n",
              "    }\n",
              "\n",
              "    .dataframe thead th {\n",
              "        text-align: right;\n",
              "    }\n",
              "</style>\n",
              "<table border=\"1\" class=\"dataframe\">\n",
              "  <thead>\n",
              "    <tr style=\"text-align: right;\">\n",
              "      <th></th>\n",
              "      <th>lugar</th>\n",
              "      <th>qntd_lugar</th>\n",
              "      <th>porcentagem</th>\n",
              "    </tr>\n",
              "  </thead>\n",
              "  <tbody>\n",
              "    <tr>\n",
              "      <th>0</th>\n",
              "      <td>Rio de Janeiro</td>\n",
              "      <td>8443</td>\n",
              "      <td>0.51</td>\n",
              "    </tr>\n",
              "    <tr>\n",
              "      <th>1</th>\n",
              "      <td>Sao Paulo</td>\n",
              "      <td>7469</td>\n",
              "      <td>0.45</td>\n",
              "    </tr>\n",
              "    <tr>\n",
              "      <th>2</th>\n",
              "      <td>Brasília</td>\n",
              "      <td>2822</td>\n",
              "      <td>0.17</td>\n",
              "    </tr>\n",
              "    <tr>\n",
              "      <th>3</th>\n",
              "      <td>Porto Alegre</td>\n",
              "      <td>1866</td>\n",
              "      <td>0.11</td>\n",
              "    </tr>\n",
              "    <tr>\n",
              "      <th>4</th>\n",
              "      <td>Belo Horizonte</td>\n",
              "      <td>1764</td>\n",
              "      <td>0.11</td>\n",
              "    </tr>\n",
              "    <tr>\n",
              "      <th>5</th>\n",
              "      <td>Curitiba</td>\n",
              "      <td>1418</td>\n",
              "      <td>0.09</td>\n",
              "    </tr>\n",
              "    <tr>\n",
              "      <th>6</th>\n",
              "      <td>Recife</td>\n",
              "      <td>1361</td>\n",
              "      <td>0.08</td>\n",
              "    </tr>\n",
              "    <tr>\n",
              "      <th>7</th>\n",
              "      <td>Fortaleza</td>\n",
              "      <td>1282</td>\n",
              "      <td>0.08</td>\n",
              "    </tr>\n",
              "    <tr>\n",
              "      <th>8</th>\n",
              "      <td>Belém</td>\n",
              "      <td>1246</td>\n",
              "      <td>0.08</td>\n",
              "    </tr>\n",
              "    <tr>\n",
              "      <th>9</th>\n",
              "      <td>Salvador</td>\n",
              "      <td>1201</td>\n",
              "      <td>0.07</td>\n",
              "    </tr>\n",
              "  </tbody>\n",
              "</table>\n",
              "</div>"
            ],
            "text/plain": [
              "            lugar  qntd_lugar  porcentagem\n",
              "0  Rio de Janeiro        8443         0.51\n",
              "1       Sao Paulo        7469         0.45\n",
              "2        Brasília        2822         0.17\n",
              "3    Porto Alegre        1866         0.11\n",
              "4  Belo Horizonte        1764         0.11\n",
              "5        Curitiba        1418         0.09\n",
              "6          Recife        1361         0.08\n",
              "7       Fortaleza        1282         0.08\n",
              "8           Belém        1246         0.08\n",
              "9        Salvador        1201         0.07"
            ]
          },
          "metadata": {
            "tags": []
          },
          "execution_count": 83
        }
      ]
    },
    {
      "cell_type": "markdown",
      "metadata": {
        "id": "sUGGLAqFaa_l",
        "colab_type": "text"
      },
      "source": [
        "A respeito da relação quantidade de tweets por mês, temos o seguinte gráfico em barras:"
      ]
    },
    {
      "cell_type": "code",
      "metadata": {
        "id": "yfQO3-8HJrA-",
        "colab_type": "code",
        "colab": {}
      },
      "source": [
        "df_original['mes'] = pd.DatetimeIndex(df_original['data']).month"
      ],
      "execution_count": 56,
      "outputs": []
    },
    {
      "cell_type": "code",
      "metadata": {
        "id": "O5ELXYQl6Jgq",
        "colab_type": "code",
        "colab": {}
      },
      "source": [
        "df_tweets_mes = df_original['mes'].value_counts().to_frame()\n",
        "df_tweets_mes = df_tweets_mes.rename(columns = {'mes':'qntd_mes'})\n",
        "df_tweets_mes['num_mes'] = df_tweets_mes.index\n",
        "df_tweets_mes.reset_index(drop=True, inplace=True)\n",
        "df_tweets_mes = df_tweets_mes.sort_values(by='num_mes')"
      ],
      "execution_count": null,
      "outputs": []
    },
    {
      "cell_type": "code",
      "metadata": {
        "id": "fnnvf40g59dV",
        "colab_type": "code",
        "colab": {}
      },
      "source": [
        "def defineNomeMes(num_mes):\n",
        "  if (num_mes == 1):\n",
        "    return 'Janeiro'\n",
        "  elif (num_mes == 2):\n",
        "    return 'Fevereiro'\n",
        "  elif (num_mes == 3):\n",
        "    return 'Março'\n",
        "  elif (num_mes == 4):\n",
        "    return 'Abril'\n",
        "  elif (num_mes == 5):\n",
        "    return 'Maio'\n",
        "  elif (num_mes == 6):\n",
        "    return 'Junho'\n",
        "  elif (num_mes == 7):\n",
        "    return 'Julho'\n",
        "  else:\n",
        "    return 'outro'"
      ],
      "execution_count": 52,
      "outputs": []
    },
    {
      "cell_type": "code",
      "metadata": {
        "id": "3b12mGhqXNtR",
        "colab_type": "code",
        "colab": {}
      },
      "source": [
        "df_tweets_mes['nome_mes'] = df_tweets_mes.apply(lambda row: defineNomeMes(row['num_mes']), axis = 'columns')"
      ],
      "execution_count": 58,
      "outputs": []
    },
    {
      "cell_type": "code",
      "metadata": {
        "id": "rpKxifuaVNEc",
        "colab_type": "code",
        "colab": {
          "base_uri": "https://localhost:8080/",
          "height": 295
        },
        "outputId": "96425b20-deb1-434a-fb7d-ec5b4ae4aa16"
      },
      "source": [
        "#Quantidade de Tweets x mês\n",
        "\n",
        "plt.bar(df_tweets_mes.nome_mes, df_tweets_mes.qntd_mes)\n",
        "plt.title('Qntd. de Tweets x Mês')\n",
        "plt.xlabel('Meses')\n",
        "plt.ylabel('Quantidade de Tweets')\n",
        "plt.savefig('qntd_tweets_por_mes_df_original.png')\n",
        "plt.show()"
      ],
      "execution_count": 62,
      "outputs": [
        {
          "output_type": "display_data",
          "data": {
            "image/png": "[encoded data removed]",
            "text/plain": [
              "<Figure size 432x288 with 1 Axes>"
            ]
          },
          "metadata": {
            "tags": [],
            "needs_background": "light"
          }
        }
      ]
    },
    {
      "cell_type": "markdown",
      "metadata": {
        "id": "lM_rUKAYctJ2",
        "colab_type": "text"
      },
      "source": [
        "No gráfico acima, podemos observar que:\n",
        "\n",
        "*   Conforme a COVID-19 é espalhada no exterior a quantidade de tweets sobre o assunto aumenta.\n",
        "*   Chega ao pico no mês de março, onde diversas metrópoles começam a anunciar casos suspeitos e confirmados. \n",
        "*   Em abril ainda temos um número alto de postagens. Trata-se do período em que cidades iniciam o período de quarentena e reforçam mensagens do protocolo de distanciamento social e higiene. \n",
        "*   Nos meses seguintes (maio e junho), há uma queda de aproximadamente 39,68%. Pode-se supor que a queda se dá pela transferência da menção textual ao vírus para menções audiovisuais (memes e vídeos, por exemplo) e/ou para menções que envolvam os termos #quarentena #fiqueemcasa.\n",
        "\n",
        "\n"
      ]
    },
    {
      "cell_type": "code",
      "metadata": {
        "id": "gry77Y7tR7Bp",
        "colab_type": "code",
        "colab": {}
      },
      "source": [
        "# Range com a quantidade de itens das barras\n",
        "#x_pos = np.arange(len(df_original))\n",
        "\n",
        "first_bar = plt.bar(x_pos, l_idiomas.sigla_idioma, 0.5, color='b')\n",
        "second_bar = plt.bar(x_pos, l_siglas.sigla_idioma, 0.5, color='y', bottom=l_idiomas.sigla_idioma)\n",
        "\n",
        "labels_atributos_categoricos = ['Idiomas', 'Siglas']\n",
        "\n",
        "# Definir posição e labels no eixo X\n",
        "plt.xticks(x_pos+0.25, (labels_atributos_categoricos))\n",
        "\n",
        "plt.title(\"Perspectiva Quantitativa: Nulos x Não-nulos\")\n",
        "plt.savefig('qntd__barchar.png')\n",
        "plt.show()"
      ],
      "execution_count": null,
      "outputs": []
    },
    {
      "cell_type": "code",
      "metadata": {
        "id": "Iktk03KtgbdE",
        "colab_type": "code",
        "colab": {
          "base_uri": "https://localhost:8080/",
          "height": 281
        },
        "outputId": "12a9d2b1-6dfe-479e-f5ca-060c3a816ccb"
      },
      "source": [
        "y = np.random.randn(100)\n",
        "x = [x for x in range(len(y))]\n",
        "\n",
        "plt.plot(x, y,  '-')\n",
        "plt.fill_between(x, y, 200, where=(y > 195), facecolor = 'g', alpha = 0.6)\n",
        "plt.title(\"Sample Plot\")\n",
        "plt.show()"
      ],
      "execution_count": null,
      "outputs": [
        {
          "output_type": "display_data",
          "data": {
            "image/png": "[encoded data removed]",
            "text/plain": [
              "<Figure size 432x288 with 1 Axes>"
            ]
          },
          "metadata": {
            "tags": [],
            "needs_background": "light"
          }
        }
      ]
    },
    {
      "cell_type": "markdown",
      "metadata": {
        "id": "zDeFTdMIwRxt",
        "colab_type": "text"
      },
      "source": [
        "## Tratamento de Dados"
      ]
    },
    {
      "cell_type": "markdown",
      "metadata": {
        "id": "LL4uILih1M4T",
        "colab_type": "text"
      },
      "source": [
        "De acordo com os achados apresentados anteriormente, as colunas *usuario*, *lugar*, *pais* e *sigla*. Por conta da natureza dos atributos, *latitude* e *longitude* serão mantidos como estão para uma análise posterior.\n",
        "\n",
        "A seguir, temos o preenchimento de dados aplicados somente nas colunas *usuario*, *lugar*, *pais* e *sigla*. "
      ]
    },
    {
      "cell_type": "code",
      "metadata": {
        "id": "wixhhCC-1Nu2",
        "colab_type": "code",
        "colab": {}
      },
      "source": [
        "df_original['usuario'] = df_original['usuario'].fillna('')\n",
        "df_original['lugar'] = df_original['lugar'].fillna('Não Informado')\n",
        "df_original['pais'] = df_original['pais'].fillna('Não Informado')\n",
        "df_original['sigla'] = df_original['sigla'].fillna('Não Informado')"
      ],
      "execution_count": null,
      "outputs": []
    },
    {
      "cell_type": "markdown",
      "metadata": {
        "id": "G6M64__5yLjK",
        "colab_type": "text"
      },
      "source": [
        "Em uma busca manual, foi conferido que existem tweets repetidos. Para tanto, foi aplicada a função de remoção de linhas duplicadas."
      ]
    },
    {
      "cell_type": "code",
      "metadata": {
        "id": "4LI4lnVk9XHh",
        "colab_type": "code",
        "colab": {
          "base_uri": "https://localhost:8080/",
          "height": 52
        },
        "outputId": "a4d658d5-243b-4d98-b0dd-198e10a70ead"
      },
      "source": [
        "df_reduzida = pd.DataFrame.drop_duplicates(df_original)\n",
        "print('Foram removidas', qntd_linhas - df_reduzida.shape[0], 'linhas.')\n",
        "print('Quantidade atual de linhas:', df_reduzida.shape[0], '.')"
      ],
      "execution_count": null,
      "outputs": [
        {
          "output_type": "stream",
          "text": [
            "Foram removidas 2 linhas.\n",
            "Quantidade atual de linhas: 1658823\n"
          ],
          "name": "stdout"
        }
      ]
    },
    {
      "cell_type": "markdown",
      "metadata": {
        "id": "DZ4cSLCQ9dZO",
        "colab_type": "text"
      },
      "source": [
        "A remoção da linhas duplicadas mostra que haviam 3 tweets iguais no dataset. Somente uma delas permaneceu no dataset."
      ]
    },
    {
      "cell_type": "code",
      "metadata": {
        "id": "uKwlICpwwT6T",
        "colab_type": "code",
        "colab": {}
      },
      "source": [
        "df_original = df_original.rename(columns = {'Data':'data','Usuario':'nome_perfil', 'Apelido':'username', 'Texto':'tweet', 'Retweet':'qntd_retweet', 'Seguidores':'qntd_seguidores', 'Idioma':'idioma', 'Lugar':'lugar', 'Pais':'pais', 'Sigla':'sigla_pais', 'Latitude':'lat', 'Longitude':'long', 'Hashtags':'hashtags'})"
      ],
      "execution_count": null,
      "outputs": []
    },
    {
      "cell_type": "markdown",
      "metadata": {
        "id": "EG-3sUUG_CNm",
        "colab_type": "text"
      },
      "source": [
        "Ainda na busca manual, foi percebido que existem tweets em línguas estrangeiras que com o valor **pt** na coluna idioma. Faz-se necessária a criação de uma outra coluna, **idioma_detectado**, com os reais idiomas do tweet. "
      ]
    },
    {
      "cell_type": "code",
      "metadata": {
        "id": "u68TQposz9EL",
        "colab_type": "code",
        "colab": {}
      },
      "source": [
        "#criação de uma coluna extra, para armazenar o idioma correto dos tweets\n",
        "df_original['idioma_detectado'] = ''"
      ],
      "execution_count": null,
      "outputs": []
    },
    {
      "cell_type": "code",
      "metadata": {
        "id": "MNz0xQB9-qSa",
        "colab_type": "code",
        "colab": {
          "base_uri": "https://localhost:8080/",
          "height": 260
        },
        "outputId": "d15a482b-1a02-43d4-cfd6-68d327ae2bed"
      },
      "source": [
        "df_reduzida.loc[72994]"
      ],
      "execution_count": null,
      "outputs": [
        {
          "output_type": "execute_result",
          "data": {
            "text/plain": [
              "data                                        2020-06-30 13:00:02\n",
              "usuario                                            UERJ Oficial\n",
              "apelido                                            UERJ_oficial\n",
              "texto         A cartilha Relações Interpessoais e Isolamento...\n",
              "retweet                                                       6\n",
              "seguidores                                                24075\n",
              "idioma                                                       pt\n",
              "lugar                                                       NaN\n",
              "pais                                                        NaN\n",
              "sigla                                                       NaN\n",
              "latitude                                                    NaN\n",
              "longitude                                                   NaN\n",
              "hashtags                                                     []\n",
              "Name: 72994, dtype: object"
            ]
          },
          "metadata": {
            "tags": []
          },
          "execution_count": 85
        }
      ]
    },
    {
      "cell_type": "markdown",
      "metadata": {
        "id": "_zU_nLrIZxlc",
        "colab_type": "text"
      },
      "source": [
        "##Classificação de Temas"
      ]
    }
  ]
}